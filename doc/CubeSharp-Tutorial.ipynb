{
  "cells": [
    {
      "cell_type": "markdown",
      "metadata": {},
      "source": [
        "# CubeSharp Tutorial\n",
        "\n",
        "CubeSharp is a high-performance .NET library for building and analyzing in-memory [data cubes](https://en.wikipedia.org/wiki/Data_cube). It provides a flexible and type-safe way to perform multi-dimensional data analysis, aggregations, and reporting in your .NET applications.\n",
        "\n",
        "## Key Features\n",
        "\n",
        "- Strong type safety with generics\n",
        "- Support for hierarchical dimensions\n",
        "- Flexible aggregation definitions\n",
        "- Efficient memory usage\n",
        "- LINQ-style querying\n",
        "- Async support for large datasets\n",
        "- Built-in support for common reporting scenarios"
      ]
    },
    {
      "cell_type": "markdown",
      "metadata": {},
      "source": [
        "## Setup and Imports\n",
        "\n",
        "First, let's add the necessary using statements and reference the CubeSharp library:"
      ]
    },
    {
      "cell_type": "code",
      "execution_count": 46,
      "metadata": {
        "dotnet_interactive": {
          "language": "csharp"
        }
      },
      "outputs": [],
      "source": [
        "#r \"./src/CubeSharp/bin/Debug/net8.0/CubeSharp.dll\"\n",
        "#nullable enable\n",
        "\n",
        "using System;\n",
        "using System.Collections.Generic;\n",
        "using System.Linq;\n",
        "using CubeSharp;\n",
        "using Microsoft.DotNet.Interactive.Formatting;"
      ]
    },
    {
      "cell_type": "markdown",
      "metadata": {},
      "source": [
        "## Sample Data\n",
        "\n",
        "Let's create some sample order data to work with throughout this tutorial:"
      ]
    },
    {
      "cell_type": "code",
      "execution_count": 47,
      "metadata": {
        "dotnet_interactive": {
          "language": "csharp"
        }
      },
      "outputs": [
        {
          "data": {
            "text/plain": [
              "Sample data loaded: 9 orders"
            ]
          },
          "metadata": {},
          "output_type": "display_data"
        },
        {
          "data": {
            "text/html": [
              "<table><thead><tr><th><i>index</i></th><th>value</th></tr></thead><tbody><tr><td>0</td><td><details class=\"dni-treeview\"><summary><span class=\"dni-code-hint\"><code>{ OrderDate = 8/2/2007 12:00:00 AM, Product = X, CustomerId = A, Quantity = 10, Amount = 100 }</code></span></summary><div><table><thead><tr></tr></thead><tbody><tr><td>OrderDate</td><td><span>2007-08-02 00:00:00Z</span></td></tr><tr><td>Product</td><td><div class=\"dni-plaintext\"><pre>X</pre></div></td></tr><tr><td>CustomerId</td><td><div class=\"dni-plaintext\"><pre>A</pre></div></td></tr><tr><td>Quantity</td><td><div class=\"dni-plaintext\"><pre>10</pre></div></td></tr><tr><td>Amount</td><td><div class=\"dni-plaintext\"><pre>100</pre></div></td></tr></tbody></table></div></details></td></tr><tr><td>1</td><td><details class=\"dni-treeview\"><summary><span class=\"dni-code-hint\"><code>{ OrderDate = 12/24/2007 12:00:00 AM, Product = Y, CustomerId = B, Quantity = 12, Amount = 120 }</code></span></summary><div><table><thead><tr></tr></thead><tbody><tr><td>OrderDate</td><td><span>2007-12-24 00:00:00Z</span></td></tr><tr><td>Product</td><td><div class=\"dni-plaintext\"><pre>Y</pre></div></td></tr><tr><td>CustomerId</td><td><div class=\"dni-plaintext\"><pre>B</pre></div></td></tr><tr><td>Quantity</td><td><div class=\"dni-plaintext\"><pre>12</pre></div></td></tr><tr><td>Amount</td><td><div class=\"dni-plaintext\"><pre>120</pre></div></td></tr></tbody></table></div></details></td></tr><tr><td>2</td><td><details class=\"dni-treeview\"><summary><span class=\"dni-code-hint\"><code>{ OrderDate = 5/15/2007 12:00:00 AM, Product = X, CustomerId = A, Quantity = 12, Amount = 120 }</code></span></summary><div><table><thead><tr></tr></thead><tbody><tr><td>OrderDate</td><td><span>2007-05-15 00:00:00Z</span></td></tr><tr><td>Product</td><td><div class=\"dni-plaintext\"><pre>X</pre></div></td></tr><tr><td>CustomerId</td><td><div class=\"dni-plaintext\"><pre>A</pre></div></td></tr><tr><td>Quantity</td><td><div class=\"dni-plaintext\"><pre>12</pre></div></td></tr><tr><td>Amount</td><td><div class=\"dni-plaintext\"><pre>120</pre></div></td></tr></tbody></table></div></details></td></tr></tbody></table><style>\r\n",
              ".dni-code-hint {\r\n",
              "    font-style: italic;\r\n",
              "    overflow: hidden;\r\n",
              "    white-space: nowrap;\r\n",
              "}\r\n",
              ".dni-treeview {\r\n",
              "    white-space: nowrap;\r\n",
              "}\r\n",
              ".dni-treeview td {\r\n",
              "    vertical-align: top;\r\n",
              "    text-align: start;\r\n",
              "}\r\n",
              "details.dni-treeview {\r\n",
              "    padding-left: 1em;\r\n",
              "}\r\n",
              "table td {\r\n",
              "    text-align: start;\r\n",
              "}\r\n",
              "table tr { \r\n",
              "    vertical-align: top; \r\n",
              "    margin: 0em 0px;\r\n",
              "}\r\n",
              "table tr td pre \r\n",
              "{ \r\n",
              "    vertical-align: top !important; \r\n",
              "    margin: 0em 0px !important;\r\n",
              "} \r\n",
              "table th {\r\n",
              "    text-align: start;\r\n",
              "}\r\n",
              "</style>"
            ]
          },
          "metadata": {},
          "output_type": "display_data"
        }
      ],
      "source": [
        "var orders = new[] {\n",
        "    new {\n",
        "        OrderDate = new DateTime(2007, 08, 02),\n",
        "        Product = \"X\",\n",
        "        CustomerId = \"A\",\n",
        "        Quantity = 10m,\n",
        "        Amount = 100m\n",
        "    },\n",
        "    new {\n",
        "        OrderDate = new DateTime(2007, 12, 24),\n",
        "        Product = \"Y\",\n",
        "        CustomerId = \"B\",\n",
        "        Quantity = 12m,\n",
        "        Amount = 120m\n",
        "    },\n",
        "    new {\n",
        "        OrderDate = new DateTime(2007, 05, 15),\n",
        "        Product = \"X\",\n",
        "        CustomerId = \"A\",\n",
        "        Quantity = 12m,\n",
        "        Amount = 120m\n",
        "    },\n",
        "    new {\n",
        "        OrderDate = new DateTime(2008, 03, 10),\n",
        "        Product = \"Y\",\n",
        "        CustomerId = \"A\",\n",
        "        Quantity = 20m,\n",
        "        Amount = 200m\n",
        "    },\n",
        "    new {\n",
        "        OrderDate = new DateTime(2008, 07, 20),\n",
        "        Product = \"Z\",\n",
        "        CustomerId = \"B\",\n",
        "        Quantity = 8m,\n",
        "        Amount = 80m\n",
        "    },\n",
        "    new {\n",
        "        OrderDate = new DateTime(2008, 11, 05),\n",
        "        Product = \"X\",\n",
        "        CustomerId = \"A\",\n",
        "        Quantity = 20m,\n",
        "        Amount = 200m\n",
        "    },\n",
        "    new {\n",
        "        OrderDate = new DateTime(2009, 01, 12),\n",
        "        Product = \"Z\",\n",
        "        CustomerId = \"C\",\n",
        "        Quantity = 15m,\n",
        "        Amount = 150m\n",
        "    },\n",
        "    new {\n",
        "        OrderDate = new DateTime(2009, 06, 18),\n",
        "        Product = \"Y\",\n",
        "        CustomerId = \"A\",\n",
        "        Quantity = 10m,\n",
        "        Amount = 100m\n",
        "    },\n",
        "    new {\n",
        "        OrderDate = new DateTime(2009, 09, 25),\n",
        "        Product = \"X\",\n",
        "        CustomerId = \"D\",\n",
        "        Quantity = 60m,\n",
        "        Amount = 600m\n",
        "    }\n",
        "};\n",
        "\n",
        "display($\"Sample data loaded: {orders.Length} orders\");\n",
        "display(orders.Take(3));"
      ]
    },
    {
      "cell_type": "markdown",
      "metadata": {},
      "source": [
        "## Building Your First Data Cube\n",
        "\n",
        "Let's create a simple sales report showing totals by customer and year. We need to define:\n",
        "1. How to aggregate the data (sum of quantities)\n",
        "2. Customer dimension (rows)\n",
        "3. Year dimension (columns)"
      ]
    },
    {
      "cell_type": "code",
      "execution_count": 48,
      "metadata": {
        "dotnet_interactive": {
          "language": "csharp"
        }
      },
      "outputs": [
        {
          "data": {
            "text/plain": [
              "? Aggregation definition created"
            ]
          },
          "metadata": {},
          "output_type": "display_data"
        }
      ],
      "source": [
        "// 1. Define how to aggregate the data\n",
        "var aggregationDefinition = AggregationDefinition.CreateForCollection(\n",
        "    orders,\n",
        "    order => order.Quantity,    // Select the field to aggregate\n",
        "    (a, b) => a + b,           // How to combine values (sum)\n",
        "    seedValue: 0);             // Default value for empty cells\n",
        "\n",
        "display(\"? Aggregation definition created\");"
      ]
    },
    {
      "cell_type": "code",
      "execution_count": 49,
      "metadata": {
        "dotnet_interactive": {
          "language": "csharp"
        }
      },
      "outputs": [
        {
          "data": {
            "text/plain": [
              "? Customer dimension created"
            ]
          },
          "metadata": {},
          "output_type": "display_data"
        }
      ],
      "source": [
        "// 2. Define the customer dimension (rows)\n",
        "var customerDimension = DimensionDefinition.CreateForCollection(\n",
        "    orders,\n",
        "    order => order.CustomerId,  // Field to group by\n",
        "    title: \"Customers\",\n",
        "    IndexDefinition.Create(\"A\", \"Customer A\"),\n",
        "    IndexDefinition.Create(\"B\", \"Customer B\"),\n",
        "    IndexDefinition.Create(\"C\", \"Customer C\"),\n",
        "    IndexDefinition.Create(\"D\", \"Customer D\"))\n",
        "    .WithTrailingDefaultIndex(\"Total\");  // Add a total row\n",
        "\n",
        "display(\"? Customer dimension created\");"
      ]
    },
    {
      "cell_type": "code",
      "execution_count": 50,
      "metadata": {
        "dotnet_interactive": {
          "language": "csharp"
        }
      },
      "outputs": [
        {
          "data": {
            "text/plain": [
              "? Year dimension created"
            ]
          },
          "metadata": {},
          "output_type": "display_data"
        }
      ],
      "source": [
        "// 3. Define the year dimension (columns)\n",
        "var yearDimension = DimensionDefinition.CreateForCollection(\n",
        "    orders,\n",
        "    order => order.OrderDate.Year.ToString(),\n",
        "    title: \"Years\",\n",
        "    IndexDefinition.Create(\"2007\", \"2007 Year\"),\n",
        "    IndexDefinition.Create(\"2008\", \"2008 Year\"),\n",
        "    IndexDefinition.Create(\"2009\", \"2009 Year\"))\n",
        "    .WithTrailingDefaultIndex(\"Total\");  // Add a total column\n",
        "\n",
        "display(\"? Year dimension created\");"
      ]
    },
    {
      "cell_type": "code",
      "execution_count": 51,
      "metadata": {
        "dotnet_interactive": {
          "language": "csharp"
        }
      },
      "outputs": [
        {
          "data": {
            "text/plain": [
              "? Cube built successfully!"
            ]
          },
          "metadata": {},
          "output_type": "display_data"
        },
        {
          "data": {
            "text/plain": [
              "   Dimensions: 2"
            ]
          },
          "metadata": {},
          "output_type": "display_data"
        }
      ],
      "source": [
        "// 4. Build the cube\n",
        "var cube = orders.BuildCube(\n",
        "    aggregationDefinition,\n",
        "    customerDimension,    // First dimension (rows)\n",
        "    yearDimension);      // Second dimension (columns)\n",
        "\n",
        "display(\"? Cube built successfully!\");\n",
        "display($\"   Dimensions: {cube.FreeDimensionCount}\");"
      ]
    },
    {
      "cell_type": "markdown",
      "metadata": {},
      "source": [
        "## Querying the Cube\n",
        "\n",
        "Now let's explore different ways to query our data cube:"
      ]
    },
    {
      "cell_type": "code",
      "execution_count": 52,
      "metadata": {
        "dotnet_interactive": {
          "language": "csharp"
        }
      },
      "outputs": [
        {
          "data": {
            "text/plain": [
              "=== Direct Cell Access ==="
            ]
          },
          "metadata": {},
          "output_type": "display_data"
        },
        {
          "data": {
            "text/html": [
              "<details open=\"open\" class=\"dni-treeview\"><summary><span class=\"dni-code-hint\"><code>{ CustomerA_2007 = 22, CustomerB_2008 = 8, Total_2007 = 34, CustomerA_Total = 72, GrandTotal = 167 }</code></span></summary><div><table><thead><tr></tr></thead><tbody><tr><td>CustomerA_2007</td><td><div class=\"dni-plaintext\"><pre>22</pre></div></td></tr><tr><td>CustomerB_2008</td><td><div class=\"dni-plaintext\"><pre>8</pre></div></td></tr><tr><td>Total_2007</td><td><div class=\"dni-plaintext\"><pre>34</pre></div></td></tr><tr><td>CustomerA_Total</td><td><div class=\"dni-plaintext\"><pre>72</pre></div></td></tr><tr><td>GrandTotal</td><td><div class=\"dni-plaintext\"><pre>167</pre></div></td></tr></tbody></table></div></details><style>\r\n",
              ".dni-code-hint {\r\n",
              "    font-style: italic;\r\n",
              "    overflow: hidden;\r\n",
              "    white-space: nowrap;\r\n",
              "}\r\n",
              ".dni-treeview {\r\n",
              "    white-space: nowrap;\r\n",
              "}\r\n",
              ".dni-treeview td {\r\n",
              "    vertical-align: top;\r\n",
              "    text-align: start;\r\n",
              "}\r\n",
              "details.dni-treeview {\r\n",
              "    padding-left: 1em;\r\n",
              "}\r\n",
              "table td {\r\n",
              "    text-align: start;\r\n",
              "}\r\n",
              "table tr { \r\n",
              "    vertical-align: top; \r\n",
              "    margin: 0em 0px;\r\n",
              "}\r\n",
              "table tr td pre \r\n",
              "{ \r\n",
              "    vertical-align: top !important; \r\n",
              "    margin: 0em 0px !important;\r\n",
              "} \r\n",
              "table th {\r\n",
              "    text-align: start;\r\n",
              "}\r\n",
              "</style>"
            ]
          },
          "metadata": {},
          "output_type": "display_data"
        }
      ],
      "source": [
        "// Direct cell access\n",
        "var queryResults = new {\n",
        "    CustomerA_2007 = cube.GetValue(\"A\", \"2007\"),\n",
        "    CustomerB_2008 = cube.GetValue(\"B\", \"2008\"),\n",
        "    Total_2007 = cube.GetValue(null, \"2007\"),\n",
        "    CustomerA_Total = cube.GetValue(\"A\", null),\n",
        "    GrandTotal = cube.GetValue()\n",
        "};\n",
        "\n",
        "display(\"=== Direct Cell Access ===\");\n",
        "display(queryResults);"
      ]
    },
    {
      "cell_type": "code",
      "execution_count": 53,
      "metadata": {
        "dotnet_interactive": {
          "language": "csharp"
        }
      },
      "outputs": [
        {
          "data": {
            "text/plain": [
              "=== Slicing Operations ==="
            ]
          },
          "metadata": {},
          "output_type": "display_data"
        },
        {
          "data": {
            "text/html": [
              "<details open=\"open\" class=\"dni-treeview\"><summary><span class=\"dni-code-hint\"><code>{ CustomerA_2007 = 22, CustomerA_2008 = 40, CustomerA_Total = 72, Year2007_CustomerA = 22, Year2007_CustomerB = 12, Year2007_Total = 34 }</code></span></summary><div><table><thead><tr></tr></thead><tbody><tr><td>CustomerA_2007</td><td><div class=\"dni-plaintext\"><pre>22</pre></div></td></tr><tr><td>CustomerA_2008</td><td><div class=\"dni-plaintext\"><pre>40</pre></div></td></tr><tr><td>CustomerA_Total</td><td><div class=\"dni-plaintext\"><pre>72</pre></div></td></tr><tr><td>Year2007_CustomerA</td><td><div class=\"dni-plaintext\"><pre>22</pre></div></td></tr><tr><td>Year2007_CustomerB</td><td><div class=\"dni-plaintext\"><pre>12</pre></div></td></tr><tr><td>Year2007_Total</td><td><div class=\"dni-plaintext\"><pre>34</pre></div></td></tr></tbody></table></div></details><style>\r\n",
              ".dni-code-hint {\r\n",
              "    font-style: italic;\r\n",
              "    overflow: hidden;\r\n",
              "    white-space: nowrap;\r\n",
              "}\r\n",
              ".dni-treeview {\r\n",
              "    white-space: nowrap;\r\n",
              "}\r\n",
              ".dni-treeview td {\r\n",
              "    vertical-align: top;\r\n",
              "    text-align: start;\r\n",
              "}\r\n",
              "details.dni-treeview {\r\n",
              "    padding-left: 1em;\r\n",
              "}\r\n",
              "table td {\r\n",
              "    text-align: start;\r\n",
              "}\r\n",
              "table tr { \r\n",
              "    vertical-align: top; \r\n",
              "    margin: 0em 0px;\r\n",
              "}\r\n",
              "table tr td pre \r\n",
              "{ \r\n",
              "    vertical-align: top !important; \r\n",
              "    margin: 0em 0px !important;\r\n",
              "} \r\n",
              "table th {\r\n",
              "    text-align: start;\r\n",
              "}\r\n",
              "</style>"
            ]
          },
          "metadata": {},
          "output_type": "display_data"
        }
      ],
      "source": [
        "// Slicing operations\n",
        "var customerASlice = cube[\"A\"];\n",
        "var year2007Slice = cube.Slice(^1, \"2007\");  // Last dimension\n",
        "\n",
        "var slicingResults = new {\n",
        "    CustomerA_2007 = customerASlice.GetValue(\"2007\"),\n",
        "    CustomerA_2008 = customerASlice.GetValue(\"2008\"),\n",
        "    CustomerA_Total = customerASlice.GetValue((string?)null),\n",
        "    Year2007_CustomerA = year2007Slice.GetValue(\"A\"),\n",
        "    Year2007_CustomerB = year2007Slice.GetValue(\"B\"),\n",
        "    Year2007_Total = year2007Slice.GetValue((string?)null)\n",
        "};\n",
        "\n",
        "display(\"=== Slicing Operations ===\");\n",
        "display(slicingResults);"
      ]
    },
    {
      "cell_type": "markdown",
      "metadata": {},
      "source": [
        "## Creating a Report Table\n",
        "\n",
        "Let's transform our cube data into a readable table format:"
      ]
    },
    {
      "cell_type": "code",
      "execution_count": 54,
      "metadata": {
        "dotnet_interactive": {
          "language": "csharp"
        }
      },
      "outputs": [
        {
          "data": {
            "text/plain": [
              "? Report data generated - Rows: 5, Columns: 5"
            ]
          },
          "metadata": {},
          "output_type": "display_data"
        }
      ],
      "source": [
        "// Transform the cube into a table format\n",
        "var report = cube\n",
        "    .BreakdownByDimensions(..^1)  // Break down by all dimensions except last\n",
        "    .Select(row => row\n",
        "        // Create header columns from dimension info\n",
        "        .GetBoundDimensionsAndIndexes()\n",
        "        .Select(pair => KeyValuePair.Create(\n",
        "            pair.dimension.Title!,\n",
        "            (object?)pair.dimension[pair.index].Title))\n",
        "        // Add value columns\n",
        "        .Concat(row\n",
        "            .BreakdownByDimensions(^1)  // Break down by last dimension\n",
        "            .Select(cell => KeyValuePair.Create(\n",
        "                cell.GetBoundIndexDefinition(^1).Title!,\n",
        "                (object?)cell.GetValue())))\n",
        "        .ToDictionary(kvp => kvp.Key, kvp => kvp.Value))\n",
        "    .ToList();\n",
        "\n",
        "display($\"? Report data generated - Rows: {report.Count}, Columns: {report.First().Count}\");"
      ]
    },
    {
      "cell_type": "code",
      "execution_count": 55,
      "metadata": {
        "dotnet_interactive": {
          "language": "csharp"
        }
      },
      "outputs": [
        {
          "data": {
            "text/plain": [
              "=== Sales Report by Customer and Year ==="
            ]
          },
          "metadata": {},
          "output_type": "display_data"
        },
        {
          "data": {
            "text/html": [
              "<table><thead><tr><th><i>index</i></th><th>value</th></tr></thead><tbody><tr><td>0</td><td><table><thead><tr><th><i>key</i></th><th><i>type</i></th><th>value</th></tr></thead><tbody><tr><td><div class=\"dni-plaintext\"><pre>Customers</pre></div></td><td><span><a href=\"https://docs.microsoft.com/dotnet/api/system.string?view=net-7.0\">System.String</a></span></td><td><div class=\"dni-plaintext\"><pre>Customer A</pre></div></td></tr><tr><td><div class=\"dni-plaintext\"><pre>2007 Year</pre></div></td><td><span><a href=\"https://docs.microsoft.com/dotnet/api/system.decimal?view=net-7.0\">System.Decimal</a></span></td><td><div class=\"dni-plaintext\"><pre>22</pre></div></td></tr><tr><td><div class=\"dni-plaintext\"><pre>2008 Year</pre></div></td><td><span><a href=\"https://docs.microsoft.com/dotnet/api/system.decimal?view=net-7.0\">System.Decimal</a></span></td><td><div class=\"dni-plaintext\"><pre>40</pre></div></td></tr><tr><td><div class=\"dni-plaintext\"><pre>2009 Year</pre></div></td><td><span><a href=\"https://docs.microsoft.com/dotnet/api/system.decimal?view=net-7.0\">System.Decimal</a></span></td><td><div class=\"dni-plaintext\"><pre>10</pre></div></td></tr><tr><td><div class=\"dni-plaintext\"><pre>Total</pre></div></td><td><span><a href=\"https://docs.microsoft.com/dotnet/api/system.decimal?view=net-7.0\">System.Decimal</a></span></td><td><div class=\"dni-plaintext\"><pre>72</pre></div></td></tr></tbody></table></td></tr><tr><td>1</td><td><table><thead><tr><th><i>key</i></th><th><i>type</i></th><th>value</th></tr></thead><tbody><tr><td><div class=\"dni-plaintext\"><pre>Customers</pre></div></td><td><span><a href=\"https://docs.microsoft.com/dotnet/api/system.string?view=net-7.0\">System.String</a></span></td><td><div class=\"dni-plaintext\"><pre>Customer B</pre></div></td></tr><tr><td><div class=\"dni-plaintext\"><pre>2007 Year</pre></div></td><td><span><a href=\"https://docs.microsoft.com/dotnet/api/system.decimal?view=net-7.0\">System.Decimal</a></span></td><td><div class=\"dni-plaintext\"><pre>12</pre></div></td></tr><tr><td><div class=\"dni-plaintext\"><pre>2008 Year</pre></div></td><td><span><a href=\"https://docs.microsoft.com/dotnet/api/system.decimal?view=net-7.0\">System.Decimal</a></span></td><td><div class=\"dni-plaintext\"><pre>8</pre></div></td></tr><tr><td><div class=\"dni-plaintext\"><pre>2009 Year</pre></div></td><td><span><a href=\"https://docs.microsoft.com/dotnet/api/system.decimal?view=net-7.0\">System.Decimal</a></span></td><td><div class=\"dni-plaintext\"><pre>0</pre></div></td></tr><tr><td><div class=\"dni-plaintext\"><pre>Total</pre></div></td><td><span><a href=\"https://docs.microsoft.com/dotnet/api/system.decimal?view=net-7.0\">System.Decimal</a></span></td><td><div class=\"dni-plaintext\"><pre>20</pre></div></td></tr></tbody></table></td></tr><tr><td>2</td><td><table><thead><tr><th><i>key</i></th><th><i>type</i></th><th>value</th></tr></thead><tbody><tr><td><div class=\"dni-plaintext\"><pre>Customers</pre></div></td><td><span><a href=\"https://docs.microsoft.com/dotnet/api/system.string?view=net-7.0\">System.String</a></span></td><td><div class=\"dni-plaintext\"><pre>Customer C</pre></div></td></tr><tr><td><div class=\"dni-plaintext\"><pre>2007 Year</pre></div></td><td><span><a href=\"https://docs.microsoft.com/dotnet/api/system.decimal?view=net-7.0\">System.Decimal</a></span></td><td><div class=\"dni-plaintext\"><pre>0</pre></div></td></tr><tr><td><div class=\"dni-plaintext\"><pre>2008 Year</pre></div></td><td><span><a href=\"https://docs.microsoft.com/dotnet/api/system.decimal?view=net-7.0\">System.Decimal</a></span></td><td><div class=\"dni-plaintext\"><pre>0</pre></div></td></tr><tr><td><div class=\"dni-plaintext\"><pre>2009 Year</pre></div></td><td><span><a href=\"https://docs.microsoft.com/dotnet/api/system.decimal?view=net-7.0\">System.Decimal</a></span></td><td><div class=\"dni-plaintext\"><pre>15</pre></div></td></tr><tr><td><div class=\"dni-plaintext\"><pre>Total</pre></div></td><td><span><a href=\"https://docs.microsoft.com/dotnet/api/system.decimal?view=net-7.0\">System.Decimal</a></span></td><td><div class=\"dni-plaintext\"><pre>15</pre></div></td></tr></tbody></table></td></tr><tr><td>3</td><td><table><thead><tr><th><i>key</i></th><th><i>type</i></th><th>value</th></tr></thead><tbody><tr><td><div class=\"dni-plaintext\"><pre>Customers</pre></div></td><td><span><a href=\"https://docs.microsoft.com/dotnet/api/system.string?view=net-7.0\">System.String</a></span></td><td><div class=\"dni-plaintext\"><pre>Customer D</pre></div></td></tr><tr><td><div class=\"dni-plaintext\"><pre>2007 Year</pre></div></td><td><span><a href=\"https://docs.microsoft.com/dotnet/api/system.decimal?view=net-7.0\">System.Decimal</a></span></td><td><div class=\"dni-plaintext\"><pre>0</pre></div></td></tr><tr><td><div class=\"dni-plaintext\"><pre>2008 Year</pre></div></td><td><span><a href=\"https://docs.microsoft.com/dotnet/api/system.decimal?view=net-7.0\">System.Decimal</a></span></td><td><div class=\"dni-plaintext\"><pre>0</pre></div></td></tr><tr><td><div class=\"dni-plaintext\"><pre>2009 Year</pre></div></td><td><span><a href=\"https://docs.microsoft.com/dotnet/api/system.decimal?view=net-7.0\">System.Decimal</a></span></td><td><div class=\"dni-plaintext\"><pre>60</pre></div></td></tr><tr><td><div class=\"dni-plaintext\"><pre>Total</pre></div></td><td><span><a href=\"https://docs.microsoft.com/dotnet/api/system.decimal?view=net-7.0\">System.Decimal</a></span></td><td><div class=\"dni-plaintext\"><pre>60</pre></div></td></tr></tbody></table></td></tr><tr><td>4</td><td><table><thead><tr><th><i>key</i></th><th><i>type</i></th><th>value</th></tr></thead><tbody><tr><td><div class=\"dni-plaintext\"><pre>Customers</pre></div></td><td><span><a href=\"https://docs.microsoft.com/dotnet/api/system.string?view=net-7.0\">System.String</a></span></td><td><div class=\"dni-plaintext\"><pre>Total</pre></div></td></tr><tr><td><div class=\"dni-plaintext\"><pre>2007 Year</pre></div></td><td><span><a href=\"https://docs.microsoft.com/dotnet/api/system.decimal?view=net-7.0\">System.Decimal</a></span></td><td><div class=\"dni-plaintext\"><pre>34</pre></div></td></tr><tr><td><div class=\"dni-plaintext\"><pre>2008 Year</pre></div></td><td><span><a href=\"https://docs.microsoft.com/dotnet/api/system.decimal?view=net-7.0\">System.Decimal</a></span></td><td><div class=\"dni-plaintext\"><pre>48</pre></div></td></tr><tr><td><div class=\"dni-plaintext\"><pre>2009 Year</pre></div></td><td><span><a href=\"https://docs.microsoft.com/dotnet/api/system.decimal?view=net-7.0\">System.Decimal</a></span></td><td><div class=\"dni-plaintext\"><pre>85</pre></div></td></tr><tr><td><div class=\"dni-plaintext\"><pre>Total</pre></div></td><td><span><a href=\"https://docs.microsoft.com/dotnet/api/system.decimal?view=net-7.0\">System.Decimal</a></span></td><td><div class=\"dni-plaintext\"><pre>167</pre></div></td></tr></tbody></table></td></tr></tbody></table><style>\r\n",
              ".dni-code-hint {\r\n",
              "    font-style: italic;\r\n",
              "    overflow: hidden;\r\n",
              "    white-space: nowrap;\r\n",
              "}\r\n",
              ".dni-treeview {\r\n",
              "    white-space: nowrap;\r\n",
              "}\r\n",
              ".dni-treeview td {\r\n",
              "    vertical-align: top;\r\n",
              "    text-align: start;\r\n",
              "}\r\n",
              "details.dni-treeview {\r\n",
              "    padding-left: 1em;\r\n",
              "}\r\n",
              "table td {\r\n",
              "    text-align: start;\r\n",
              "}\r\n",
              "table tr { \r\n",
              "    vertical-align: top; \r\n",
              "    margin: 0em 0px;\r\n",
              "}\r\n",
              "table tr td pre \r\n",
              "{ \r\n",
              "    vertical-align: top !important; \r\n",
              "    margin: 0em 0px !important;\r\n",
              "} \r\n",
              "table th {\r\n",
              "    text-align: start;\r\n",
              "}\r\n",
              "</style>"
            ]
          },
          "metadata": {},
          "output_type": "display_data"
        }
      ],
      "source": [
        "display(\"=== Sales Report by Customer and Year ===\");\n",
        "display(report);"
      ]
    },
    {
      "cell_type": "markdown",
      "metadata": {},
      "source": [
        "## Advanced Aggregations\n",
        "\n",
        "Let's explore different types of aggregations beyond simple sums:"
      ]
    },
    {
      "cell_type": "code",
      "execution_count": 56,
      "metadata": {
        "dotnet_interactive": {
          "language": "csharp"
        }
      },
      "outputs": [
        {
          "data": {
            "text/plain": [
              "? Advanced aggregations created"
            ]
          },
          "metadata": {},
          "output_type": "display_data"
        }
      ],
      "source": [
        "// Count of orders\n",
        "var countAggregation = AggregationDefinition.CreateForCollection(\n",
        "    orders,\n",
        "    order => 1,                 // Count each record as 1\n",
        "    (a, b) => a + b,\n",
        "    0);\n",
        "\n",
        "// Average order value (using named tuple)\n",
        "record AverageOrderValue(decimal Sum, int Count);\n",
        "var averageAggregation = AggregationDefinition.CreateForCollection(\n",
        "    orders,\n",
        "    order => new AverageOrderValue(order.Amount, 1),\n",
        "    (a, b) => new AverageOrderValue(a.Sum + b.Sum, a.Count + b.Count),\n",
        "    new AverageOrderValue(Sum: 0m, Count: 0));\n",
        "\n",
        "// Maximum order value\n",
        "var maxAggregation = AggregationDefinition.CreateForCollection(\n",
        "    orders,\n",
        "    order => order.Amount,\n",
        "    Math.Max,\n",
        "    decimal.MinValue);\n",
        "\n",
        "display(\"? Advanced aggregations created\");"
      ]
    },
    {
      "cell_type": "code",
      "execution_count": 57,
      "metadata": {
        "dotnet_interactive": {
          "language": "csharp"
        }
      },
      "outputs": [
        {
          "data": {
            "text/plain": [
              "=== Different Aggregation Types ==="
            ]
          },
          "metadata": {},
          "output_type": "display_data"
        },
        {
          "data": {
            "text/html": [
              "<details open=\"open\" class=\"dni-treeview\"><summary><span class=\"dni-code-hint\"><code>{ CustomerA_2007_Count = 2, CustomerA_2007_QuantitySum = 22, CustomerA_2007_MaxAmount = 120, CustomerA_2007_AvgAmount = 110 }</code></span></summary><div><table><thead><tr></tr></thead><tbody><tr><td>CustomerA_2007_Count</td><td><div class=\"dni-plaintext\"><pre>2</pre></div></td></tr><tr><td>CustomerA_2007_QuantitySum</td><td><div class=\"dni-plaintext\"><pre>22</pre></div></td></tr><tr><td>CustomerA_2007_MaxAmount</td><td><div class=\"dni-plaintext\"><pre>120</pre></div></td></tr><tr><td>CustomerA_2007_AvgAmount</td><td><div class=\"dni-plaintext\"><pre>110</pre></div></td></tr></tbody></table></div></details><style>\r\n",
              ".dni-code-hint {\r\n",
              "    font-style: italic;\r\n",
              "    overflow: hidden;\r\n",
              "    white-space: nowrap;\r\n",
              "}\r\n",
              ".dni-treeview {\r\n",
              "    white-space: nowrap;\r\n",
              "}\r\n",
              ".dni-treeview td {\r\n",
              "    vertical-align: top;\r\n",
              "    text-align: start;\r\n",
              "}\r\n",
              "details.dni-treeview {\r\n",
              "    padding-left: 1em;\r\n",
              "}\r\n",
              "table td {\r\n",
              "    text-align: start;\r\n",
              "}\r\n",
              "table tr { \r\n",
              "    vertical-align: top; \r\n",
              "    margin: 0em 0px;\r\n",
              "}\r\n",
              "table tr td pre \r\n",
              "{ \r\n",
              "    vertical-align: top !important; \r\n",
              "    margin: 0em 0px !important;\r\n",
              "} \r\n",
              "table th {\r\n",
              "    text-align: start;\r\n",
              "}\r\n",
              "</style>"
            ]
          },
          "metadata": {},
          "output_type": "display_data"
        }
      ],
      "source": [
        "// Build cubes with different aggregations\n",
        "var countCube = orders.BuildCube(countAggregation, customerDimension, yearDimension);\n",
        "var avgCube = orders.BuildCube(averageAggregation, customerDimension, yearDimension);\n",
        "var maxCube = orders.BuildCube(maxAggregation, customerDimension, yearDimension);\n",
        "\n",
        "// For average, we need to calculate from the tuple\n",
        "var avgData = avgCube.GetValue(\"A\", \"2007\");\n",
        "var avgValue = avgData.Count > 0 ? avgData.Sum / avgData.Count : 0;\n",
        "\n",
        "var aggregationResults = new {\n",
        "    CustomerA_2007_Count = countCube.GetValue(\"A\", \"2007\"),\n",
        "    CustomerA_2007_QuantitySum = cube.GetValue(\"A\", \"2007\"),\n",
        "    CustomerA_2007_MaxAmount = maxCube.GetValue(\"A\", \"2007\"),\n",
        "    CustomerA_2007_AvgAmount = Math.Round(avgValue, 2)\n",
        "};\n",
        "\n",
        "display(\"=== Different Aggregation Types ===\");\n",
        "display(aggregationResults);"
      ]
    },
    {
      "cell_type": "markdown",
      "metadata": {},
      "source": [
        "## Hierarchical Dimensions\n",
        "\n",
        "Let's create a cube with hierarchical product categories:"
      ]
    },
    {
      "cell_type": "code",
      "execution_count": 58,
      "metadata": {
        "dotnet_interactive": {
          "language": "csharp"
        }
      },
      "outputs": [
        {
          "data": {
            "text/plain": [
              "? Hierarchical product dimension created"
            ]
          },
          "metadata": {},
          "output_type": "display_data"
        }
      ],
      "source": [
        "// Create hierarchical product dimension\n",
        "var productDimension = DimensionDefinition.CreateForCollection(\n",
        "    orders,\n",
        "    order => order.Product,\n",
        "    title: \"Products\",\n",
        "    // Category A and its products\n",
        "    IndexDefinition.Create(\"A\", \"Category A\",\n",
        "        IndexDefinition.Create(\"X\", \"Product X\")),\n",
        "    // Category B and its products\n",
        "    IndexDefinition.Create(\"B\", \"Category B\",\n",
        "        IndexDefinition.Create(\"Y\", \"Product Y\"),\n",
        "        IndexDefinition.Create(\"Z\", \"Product Z\")))\n",
        "    .WithTrailingDefaultIndex(\"Total\");\n",
        "\n",
        "display(\"? Hierarchical product dimension created\");"
      ]
    },
    {
      "cell_type": "code",
      "execution_count": 59,
      "metadata": {
        "dotnet_interactive": {
          "language": "csharp"
        }
      },
      "outputs": [
        {
          "data": {
            "text/plain": [
              "=== Hierarchical Data Access ==="
            ]
          },
          "metadata": {},
          "output_type": "display_data"
        },
        {
          "data": {
            "text/html": [
              "<details open=\"open\" class=\"dni-treeview\"><summary><span class=\"dni-code-hint\"><code>{ CustomerA_ProductX = 42, CustomerA_CategoryA = 42, CustomerA_CategoryB = 30, CustomerA_AllProducts = 72 }</code></span></summary><div><table><thead><tr></tr></thead><tbody><tr><td>CustomerA_ProductX</td><td><div class=\"dni-plaintext\"><pre>42</pre></div></td></tr><tr><td>CustomerA_CategoryA</td><td><div class=\"dni-plaintext\"><pre>42</pre></div></td></tr><tr><td>CustomerA_CategoryB</td><td><div class=\"dni-plaintext\"><pre>30</pre></div></td></tr><tr><td>CustomerA_AllProducts</td><td><div class=\"dni-plaintext\"><pre>72</pre></div></td></tr></tbody></table></div></details><style>\r\n",
              ".dni-code-hint {\r\n",
              "    font-style: italic;\r\n",
              "    overflow: hidden;\r\n",
              "    white-space: nowrap;\r\n",
              "}\r\n",
              ".dni-treeview {\r\n",
              "    white-space: nowrap;\r\n",
              "}\r\n",
              ".dni-treeview td {\r\n",
              "    vertical-align: top;\r\n",
              "    text-align: start;\r\n",
              "}\r\n",
              "details.dni-treeview {\r\n",
              "    padding-left: 1em;\r\n",
              "}\r\n",
              "table td {\r\n",
              "    text-align: start;\r\n",
              "}\r\n",
              "table tr { \r\n",
              "    vertical-align: top; \r\n",
              "    margin: 0em 0px;\r\n",
              "}\r\n",
              "table tr td pre \r\n",
              "{ \r\n",
              "    vertical-align: top !important; \r\n",
              "    margin: 0em 0px !important;\r\n",
              "} \r\n",
              "table th {\r\n",
              "    text-align: start;\r\n",
              "}\r\n",
              "</style>"
            ]
          },
          "metadata": {},
          "output_type": "display_data"
        }
      ],
      "source": [
        "// Build cube with hierarchical dimension\n",
        "var hierarchicalCube = orders.BuildCube(\n",
        "    aggregationDefinition,\n",
        "    customerDimension,\n",
        "    productDimension);\n",
        "\n",
        "var hierarchicalResults = new {\n",
        "    CustomerA_ProductX = hierarchicalCube.GetValue(\"A\", \"X\"),\n",
        "    CustomerA_CategoryA = hierarchicalCube.GetValue(\"A\", \"A\"),\n",
        "    CustomerA_CategoryB = hierarchicalCube.GetValue(\"A\", \"B\"),\n",
        "    CustomerA_AllProducts = hierarchicalCube.GetValue(\"A\", (string?)null)\n",
        "};\n",
        "\n",
        "display(\"=== Hierarchical Data Access ===\");\n",
        "display(hierarchicalResults);"
      ]
    },
    {
      "cell_type": "markdown",
      "metadata": {},
      "source": [
        "## Breakdown Analysis\n",
        "\n",
        "Let's perform some analytical operations using breakdown methods:"
      ]
    },
    {
      "cell_type": "code",
      "execution_count": 60,
      "metadata": {
        "dotnet_interactive": {
          "language": "csharp"
        }
      },
      "outputs": [
        {
          "data": {
            "text/plain": [
              "=== Sales Analysis by Customer ==="
            ]
          },
          "metadata": {},
          "output_type": "display_data"
        },
        {
          "data": {
            "text/html": [
              "<table><thead><tr><th><i>index</i></th><th>value</th></tr></thead><tbody><tr><td>0</td><td><details class=\"dni-treeview\"><summary><span class=\"dni-code-hint\"><code>{ CustomerId = A, CustomerName = Customer A, TotalSales = 72, YearlyBreakdown = System.Collections.Generic.List`1[&lt;&gt;f__AnonymousType1#12`2[System.String,System.Decimal]] }</code></span></summary><div><table><thead><tr></tr></thead><tbody><tr><td>CustomerId</td><td><div class=\"dni-plaintext\"><pre>A</pre></div></td></tr><tr><td>CustomerName</td><td><div class=\"dni-plaintext\"><pre>Customer A</pre></div></td></tr><tr><td>TotalSales</td><td><div class=\"dni-plaintext\"><pre>72</pre></div></td></tr><tr><td>YearlyBreakdown</td><td><table><thead><tr><th><i>index</i></th><th>value</th></tr></thead><tbody><tr><td>0</td><td><details class=\"dni-treeview\"><summary><span class=\"dni-code-hint\"><code>{ Year = A, Sales = 22 }</code></span></summary><div><table><thead><tr></tr></thead><tbody><tr><td>Year</td><td><div class=\"dni-plaintext\"><pre>A</pre></div></td></tr><tr><td>Sales</td><td><div class=\"dni-plaintext\"><pre>22</pre></div></td></tr></tbody></table></div></details></td></tr><tr><td>1</td><td><details class=\"dni-treeview\"><summary><span class=\"dni-code-hint\"><code>{ Year = A, Sales = 40 }</code></span></summary><div><table><thead><tr></tr></thead><tbody><tr><td>Year</td><td><div class=\"dni-plaintext\"><pre>A</pre></div></td></tr><tr><td>Sales</td><td><div class=\"dni-plaintext\"><pre>40</pre></div></td></tr></tbody></table></div></details></td></tr><tr><td>2</td><td><details class=\"dni-treeview\"><summary><span class=\"dni-code-hint\"><code>{ Year = A, Sales = 10 }</code></span></summary><div><table><thead><tr></tr></thead><tbody><tr><td>Year</td><td><div class=\"dni-plaintext\"><pre>A</pre></div></td></tr><tr><td>Sales</td><td><div class=\"dni-plaintext\"><pre>10</pre></div></td></tr></tbody></table></div></details></td></tr><tr><td>3</td><td><details class=\"dni-treeview\"><summary><span class=\"dni-code-hint\"><code>{ Year = A, Sales = 72 }</code></span></summary><div><table><thead><tr></tr></thead><tbody><tr><td>Year</td><td><div class=\"dni-plaintext\"><pre>A</pre></div></td></tr><tr><td>Sales</td><td><div class=\"dni-plaintext\"><pre>72</pre></div></td></tr></tbody></table></div></details></td></tr></tbody></table></td></tr></tbody></table></div></details></td></tr><tr><td>1</td><td><details class=\"dni-treeview\"><summary><span class=\"dni-code-hint\"><code>{ CustomerId = B, CustomerName = Customer B, TotalSales = 20, YearlyBreakdown = System.Collections.Generic.List`1[&lt;&gt;f__AnonymousType1#12`2[System.String,System.Decimal]] }</code></span></summary><div><table><thead><tr></tr></thead><tbody><tr><td>CustomerId</td><td><div class=\"dni-plaintext\"><pre>B</pre></div></td></tr><tr><td>CustomerName</td><td><div class=\"dni-plaintext\"><pre>Customer B</pre></div></td></tr><tr><td>TotalSales</td><td><div class=\"dni-plaintext\"><pre>20</pre></div></td></tr><tr><td>YearlyBreakdown</td><td><table><thead><tr><th><i>index</i></th><th>value</th></tr></thead><tbody><tr><td>0</td><td><details class=\"dni-treeview\"><summary><span class=\"dni-code-hint\"><code>{ Year = B, Sales = 12 }</code></span></summary><div><table><thead><tr></tr></thead><tbody><tr><td>Year</td><td><div class=\"dni-plaintext\"><pre>B</pre></div></td></tr><tr><td>Sales</td><td><div class=\"dni-plaintext\"><pre>12</pre></div></td></tr></tbody></table></div></details></td></tr><tr><td>1</td><td><details class=\"dni-treeview\"><summary><span class=\"dni-code-hint\"><code>{ Year = B, Sales = 8 }</code></span></summary><div><table><thead><tr></tr></thead><tbody><tr><td>Year</td><td><div class=\"dni-plaintext\"><pre>B</pre></div></td></tr><tr><td>Sales</td><td><div class=\"dni-plaintext\"><pre>8</pre></div></td></tr></tbody></table></div></details></td></tr><tr><td>2</td><td><details class=\"dni-treeview\"><summary><span class=\"dni-code-hint\"><code>{ Year = B, Sales = 0 }</code></span></summary><div><table><thead><tr></tr></thead><tbody><tr><td>Year</td><td><div class=\"dni-plaintext\"><pre>B</pre></div></td></tr><tr><td>Sales</td><td><div class=\"dni-plaintext\"><pre>0</pre></div></td></tr></tbody></table></div></details></td></tr><tr><td>3</td><td><details class=\"dni-treeview\"><summary><span class=\"dni-code-hint\"><code>{ Year = B, Sales = 20 }</code></span></summary><div><table><thead><tr></tr></thead><tbody><tr><td>Year</td><td><div class=\"dni-plaintext\"><pre>B</pre></div></td></tr><tr><td>Sales</td><td><div class=\"dni-plaintext\"><pre>20</pre></div></td></tr></tbody></table></div></details></td></tr></tbody></table></td></tr></tbody></table></div></details></td></tr><tr><td>2</td><td><details class=\"dni-treeview\"><summary><span class=\"dni-code-hint\"><code>{ CustomerId = C, CustomerName = Customer C, TotalSales = 15, YearlyBreakdown = System.Collections.Generic.List`1[&lt;&gt;f__AnonymousType1#12`2[System.String,System.Decimal]] }</code></span></summary><div><table><thead><tr></tr></thead><tbody><tr><td>CustomerId</td><td><div class=\"dni-plaintext\"><pre>C</pre></div></td></tr><tr><td>CustomerName</td><td><div class=\"dni-plaintext\"><pre>Customer C</pre></div></td></tr><tr><td>TotalSales</td><td><div class=\"dni-plaintext\"><pre>15</pre></div></td></tr><tr><td>YearlyBreakdown</td><td><table><thead><tr><th><i>index</i></th><th>value</th></tr></thead><tbody><tr><td>0</td><td><details class=\"dni-treeview\"><summary><span class=\"dni-code-hint\"><code>{ Year = C, Sales = 0 }</code></span></summary><div><table><thead><tr></tr></thead><tbody><tr><td>Year</td><td><div class=\"dni-plaintext\"><pre>C</pre></div></td></tr><tr><td>Sales</td><td><div class=\"dni-plaintext\"><pre>0</pre></div></td></tr></tbody></table></div></details></td></tr><tr><td>1</td><td><details class=\"dni-treeview\"><summary><span class=\"dni-code-hint\"><code>{ Year = C, Sales = 0 }</code></span></summary><div><table><thead><tr></tr></thead><tbody><tr><td>Year</td><td><div class=\"dni-plaintext\"><pre>C</pre></div></td></tr><tr><td>Sales</td><td><div class=\"dni-plaintext\"><pre>0</pre></div></td></tr></tbody></table></div></details></td></tr><tr><td>2</td><td><details class=\"dni-treeview\"><summary><span class=\"dni-code-hint\"><code>{ Year = C, Sales = 15 }</code></span></summary><div><table><thead><tr></tr></thead><tbody><tr><td>Year</td><td><div class=\"dni-plaintext\"><pre>C</pre></div></td></tr><tr><td>Sales</td><td><div class=\"dni-plaintext\"><pre>15</pre></div></td></tr></tbody></table></div></details></td></tr><tr><td>3</td><td><details class=\"dni-treeview\"><summary><span class=\"dni-code-hint\"><code>{ Year = C, Sales = 15 }</code></span></summary><div><table><thead><tr></tr></thead><tbody><tr><td>Year</td><td><div class=\"dni-plaintext\"><pre>C</pre></div></td></tr><tr><td>Sales</td><td><div class=\"dni-plaintext\"><pre>15</pre></div></td></tr></tbody></table></div></details></td></tr></tbody></table></td></tr></tbody></table></div></details></td></tr><tr><td>3</td><td><details class=\"dni-treeview\"><summary><span class=\"dni-code-hint\"><code>{ CustomerId = D, CustomerName = Customer D, TotalSales = 60, YearlyBreakdown = System.Collections.Generic.List`1[&lt;&gt;f__AnonymousType1#12`2[System.String,System.Decimal]] }</code></span></summary><div><table><thead><tr></tr></thead><tbody><tr><td>CustomerId</td><td><div class=\"dni-plaintext\"><pre>D</pre></div></td></tr><tr><td>CustomerName</td><td><div class=\"dni-plaintext\"><pre>Customer D</pre></div></td></tr><tr><td>TotalSales</td><td><div class=\"dni-plaintext\"><pre>60</pre></div></td></tr><tr><td>YearlyBreakdown</td><td><table><thead><tr><th><i>index</i></th><th>value</th></tr></thead><tbody><tr><td>0</td><td><details class=\"dni-treeview\"><summary><span class=\"dni-code-hint\"><code>{ Year = D, Sales = 0 }</code></span></summary><div><table><thead><tr></tr></thead><tbody><tr><td>Year</td><td><div class=\"dni-plaintext\"><pre>D</pre></div></td></tr><tr><td>Sales</td><td><div class=\"dni-plaintext\"><pre>0</pre></div></td></tr></tbody></table></div></details></td></tr><tr><td>1</td><td><details class=\"dni-treeview\"><summary><span class=\"dni-code-hint\"><code>{ Year = D, Sales = 0 }</code></span></summary><div><table><thead><tr></tr></thead><tbody><tr><td>Year</td><td><div class=\"dni-plaintext\"><pre>D</pre></div></td></tr><tr><td>Sales</td><td><div class=\"dni-plaintext\"><pre>0</pre></div></td></tr></tbody></table></div></details></td></tr><tr><td>2</td><td><details class=\"dni-treeview\"><summary><span class=\"dni-code-hint\"><code>{ Year = D, Sales = 60 }</code></span></summary><div><table><thead><tr></tr></thead><tbody><tr><td>Year</td><td><div class=\"dni-plaintext\"><pre>D</pre></div></td></tr><tr><td>Sales</td><td><div class=\"dni-plaintext\"><pre>60</pre></div></td></tr></tbody></table></div></details></td></tr><tr><td>3</td><td><details class=\"dni-treeview\"><summary><span class=\"dni-code-hint\"><code>{ Year = D, Sales = 60 }</code></span></summary><div><table><thead><tr></tr></thead><tbody><tr><td>Year</td><td><div class=\"dni-plaintext\"><pre>D</pre></div></td></tr><tr><td>Sales</td><td><div class=\"dni-plaintext\"><pre>60</pre></div></td></tr></tbody></table></div></details></td></tr></tbody></table></td></tr></tbody></table></div></details></td></tr><tr><td>4</td><td><details class=\"dni-treeview\"><summary><span class=\"dni-code-hint\"><code>{ CustomerId = , CustomerName = Total, TotalSales = 167, YearlyBreakdown = System.Collections.Generic.List`1[&lt;&gt;f__AnonymousType1#12`2[System.String,System.Decimal]] }</code></span></summary><div><table><thead><tr></tr></thead><tbody><tr><td>CustomerId</td><td><div class=\"dni-plaintext\"><pre>&lt;null&gt;</pre></div></td></tr><tr><td>CustomerName</td><td><div class=\"dni-plaintext\"><pre>Total</pre></div></td></tr><tr><td>TotalSales</td><td><div class=\"dni-plaintext\"><pre>167</pre></div></td></tr><tr><td>YearlyBreakdown</td><td><i>(empty)</i></td></tr></tbody></table></div></details></td></tr></tbody></table><style>\r\n",
              ".dni-code-hint {\r\n",
              "    font-style: italic;\r\n",
              "    overflow: hidden;\r\n",
              "    white-space: nowrap;\r\n",
              "}\r\n",
              ".dni-treeview {\r\n",
              "    white-space: nowrap;\r\n",
              "}\r\n",
              ".dni-treeview td {\r\n",
              "    vertical-align: top;\r\n",
              "    text-align: start;\r\n",
              "}\r\n",
              "details.dni-treeview {\r\n",
              "    padding-left: 1em;\r\n",
              "}\r\n",
              "table td {\r\n",
              "    text-align: start;\r\n",
              "}\r\n",
              "table tr { \r\n",
              "    vertical-align: top; \r\n",
              "    margin: 0em 0px;\r\n",
              "}\r\n",
              "table tr td pre \r\n",
              "{ \r\n",
              "    vertical-align: top !important; \r\n",
              "    margin: 0em 0px !important;\r\n",
              "} \r\n",
              "table th {\r\n",
              "    text-align: start;\r\n",
              "}\r\n",
              "</style>"
            ]
          },
          "metadata": {},
          "output_type": "display_data"
        }
      ],
      "source": [
        "// Analyze sales by customer\n",
        "var customerAnalysis = cube.BreakdownByDimensions(0)\n",
        "    .Select(customerSlice => new {\n",
        "        CustomerId = customerSlice.GetBoundIndex(0),\n",
        "        CustomerName = customerSlice.GetBoundIndexDefinition(0).Title,\n",
        "        TotalSales = customerSlice.GetValue((string?)null), // Total across all years\n",
        "        YearlyBreakdown = customerSlice.BreakdownByDimensions(0)\n",
        "            .Where(yearSlice => yearSlice.GetBoundIndex(0) != null) // Skip totals\n",
        "            .Select(yearSlice => new {\n",
        "                Year = yearSlice.GetBoundIndex(0),\n",
        "                Sales = yearSlice.GetValue()\n",
        "            })\n",
        "            .ToList()\n",
        "    })\n",
        "    .ToList();\n",
        "\n",
        "display(\"=== Sales Analysis by Customer ===\");\n",
        "display(customerAnalysis);"
      ]
    },
    {
      "cell_type": "code",
      "execution_count": 61,
      "metadata": {
        "dotnet_interactive": {
          "language": "csharp"
        }
      },
      "outputs": [
        {
          "data": {
            "text/plain": [
              "=== Top Customers by Year ==="
            ]
          },
          "metadata": {},
          "output_type": "display_data"
        },
        {
          "data": {
            "text/html": [
              "<table><thead><tr><th><i>index</i></th><th>value</th></tr></thead><tbody><tr><td>0</td><td><details class=\"dni-treeview\"><summary><span class=\"dni-code-hint\"><code>{ Year = 2007, YearTitle = 2007 Year, TopCustomers = System.Collections.Generic.List`1[&lt;&gt;f__AnonymousType1#13`3[System.String,System.String,System.Decimal]] }</code></span></summary><div><table><thead><tr></tr></thead><tbody><tr><td>Year</td><td><div class=\"dni-plaintext\"><pre>2007</pre></div></td></tr><tr><td>YearTitle</td><td><div class=\"dni-plaintext\"><pre>2007 Year</pre></div></td></tr><tr><td>TopCustomers</td><td><table><thead><tr><th><i>index</i></th><th>value</th></tr></thead><tbody><tr><td>0</td><td><details class=\"dni-treeview\"><summary><span class=\"dni-code-hint\"><code>{ Customer = 2007, CustomerName = 2007 Year, Value = 34 }</code></span></summary><div><table><thead><tr></tr></thead><tbody><tr><td>Customer</td><td><div class=\"dni-plaintext\"><pre>2007</pre></div></td></tr><tr><td>CustomerName</td><td><div class=\"dni-plaintext\"><pre>2007 Year</pre></div></td></tr><tr><td>Value</td><td><div class=\"dni-plaintext\"><pre>34</pre></div></td></tr></tbody></table></div></details></td></tr><tr><td>1</td><td><details class=\"dni-treeview\"><summary><span class=\"dni-code-hint\"><code>{ Customer = 2007, CustomerName = 2007 Year, Value = 22 }</code></span></summary><div><table><thead><tr></tr></thead><tbody><tr><td>Customer</td><td><div class=\"dni-plaintext\"><pre>2007</pre></div></td></tr><tr><td>CustomerName</td><td><div class=\"dni-plaintext\"><pre>2007 Year</pre></div></td></tr><tr><td>Value</td><td><div class=\"dni-plaintext\"><pre>22</pre></div></td></tr></tbody></table></div></details></td></tr></tbody></table></td></tr></tbody></table></div></details></td></tr><tr><td>1</td><td><details class=\"dni-treeview\"><summary><span class=\"dni-code-hint\"><code>{ Year = 2008, YearTitle = 2008 Year, TopCustomers = System.Collections.Generic.List`1[&lt;&gt;f__AnonymousType1#13`3[System.String,System.String,System.Decimal]] }</code></span></summary><div><table><thead><tr></tr></thead><tbody><tr><td>Year</td><td><div class=\"dni-plaintext\"><pre>2008</pre></div></td></tr><tr><td>YearTitle</td><td><div class=\"dni-plaintext\"><pre>2008 Year</pre></div></td></tr><tr><td>TopCustomers</td><td><table><thead><tr><th><i>index</i></th><th>value</th></tr></thead><tbody><tr><td>0</td><td><details class=\"dni-treeview\"><summary><span class=\"dni-code-hint\"><code>{ Customer = 2008, CustomerName = 2008 Year, Value = 48 }</code></span></summary><div><table><thead><tr></tr></thead><tbody><tr><td>Customer</td><td><div class=\"dni-plaintext\"><pre>2008</pre></div></td></tr><tr><td>CustomerName</td><td><div class=\"dni-plaintext\"><pre>2008 Year</pre></div></td></tr><tr><td>Value</td><td><div class=\"dni-plaintext\"><pre>48</pre></div></td></tr></tbody></table></div></details></td></tr><tr><td>1</td><td><details class=\"dni-treeview\"><summary><span class=\"dni-code-hint\"><code>{ Customer = 2008, CustomerName = 2008 Year, Value = 40 }</code></span></summary><div><table><thead><tr></tr></thead><tbody><tr><td>Customer</td><td><div class=\"dni-plaintext\"><pre>2008</pre></div></td></tr><tr><td>CustomerName</td><td><div class=\"dni-plaintext\"><pre>2008 Year</pre></div></td></tr><tr><td>Value</td><td><div class=\"dni-plaintext\"><pre>40</pre></div></td></tr></tbody></table></div></details></td></tr></tbody></table></td></tr></tbody></table></div></details></td></tr><tr><td>2</td><td><details class=\"dni-treeview\"><summary><span class=\"dni-code-hint\"><code>{ Year = 2009, YearTitle = 2009 Year, TopCustomers = System.Collections.Generic.List`1[&lt;&gt;f__AnonymousType1#13`3[System.String,System.String,System.Decimal]] }</code></span></summary><div><table><thead><tr></tr></thead><tbody><tr><td>Year</td><td><div class=\"dni-plaintext\"><pre>2009</pre></div></td></tr><tr><td>YearTitle</td><td><div class=\"dni-plaintext\"><pre>2009 Year</pre></div></td></tr><tr><td>TopCustomers</td><td><table><thead><tr><th><i>index</i></th><th>value</th></tr></thead><tbody><tr><td>0</td><td><details class=\"dni-treeview\"><summary><span class=\"dni-code-hint\"><code>{ Customer = 2009, CustomerName = 2009 Year, Value = 85 }</code></span></summary><div><table><thead><tr></tr></thead><tbody><tr><td>Customer</td><td><div class=\"dni-plaintext\"><pre>2009</pre></div></td></tr><tr><td>CustomerName</td><td><div class=\"dni-plaintext\"><pre>2009 Year</pre></div></td></tr><tr><td>Value</td><td><div class=\"dni-plaintext\"><pre>85</pre></div></td></tr></tbody></table></div></details></td></tr><tr><td>1</td><td><details class=\"dni-treeview\"><summary><span class=\"dni-code-hint\"><code>{ Customer = 2009, CustomerName = 2009 Year, Value = 60 }</code></span></summary><div><table><thead><tr></tr></thead><tbody><tr><td>Customer</td><td><div class=\"dni-plaintext\"><pre>2009</pre></div></td></tr><tr><td>CustomerName</td><td><div class=\"dni-plaintext\"><pre>2009 Year</pre></div></td></tr><tr><td>Value</td><td><div class=\"dni-plaintext\"><pre>60</pre></div></td></tr></tbody></table></div></details></td></tr></tbody></table></td></tr></tbody></table></div></details></td></tr></tbody></table><style>\r\n",
              ".dni-code-hint {\r\n",
              "    font-style: italic;\r\n",
              "    overflow: hidden;\r\n",
              "    white-space: nowrap;\r\n",
              "}\r\n",
              ".dni-treeview {\r\n",
              "    white-space: nowrap;\r\n",
              "}\r\n",
              ".dni-treeview td {\r\n",
              "    vertical-align: top;\r\n",
              "    text-align: start;\r\n",
              "}\r\n",
              "details.dni-treeview {\r\n",
              "    padding-left: 1em;\r\n",
              "}\r\n",
              "table td {\r\n",
              "    text-align: start;\r\n",
              "}\r\n",
              "table tr { \r\n",
              "    vertical-align: top; \r\n",
              "    margin: 0em 0px;\r\n",
              "}\r\n",
              "table tr td pre \r\n",
              "{ \r\n",
              "    vertical-align: top !important; \r\n",
              "    margin: 0em 0px !important;\r\n",
              "} \r\n",
              "table th {\r\n",
              "    text-align: start;\r\n",
              "}\r\n",
              "</style>"
            ]
          },
          "metadata": {},
          "output_type": "display_data"
        }
      ],
      "source": [
        "// Find top performers by year\n",
        "var topByYear = cube\n",
        "    .BreakdownByDimensions(^1)           // By year\n",
        "    .Where(year => year.GetBoundIndex(^1) != null) // Exclude total column\n",
        "    .Select(year => new\n",
        "    {\n",
        "        Year = year.GetBoundIndex(^1),\n",
        "        YearTitle = year.GetBoundIndexDefinition(^1).Title,\n",
        "        TopCustomers = year\n",
        "            .BreakdownByDimensions(0)     // By customer\n",
        "            .Where(c => c.GetBoundIndex(0) != null) // Exclude totals\n",
        "            .OrderByDescending(c => c.GetValue())\n",
        "            .Take(2)\n",
        "            .Select(c => new\n",
        "            {\n",
        "                Customer = c.GetBoundIndex(0),\n",
        "                CustomerName = c.GetBoundIndexDefinition(0).Title,\n",
        "                Value = c.GetValue()\n",
        "            })\n",
        "            .ToList()\n",
        "    })\n",
        "    .ToList();\n",
        "\n",
        "display(\"=== Top Customers by Year ===\");\n",
        "display(topByYear);"
      ]
    },
    {
      "cell_type": "markdown",
      "metadata": {},
      "source": [
        "## Working with Missing Data\n",
        "\n",
        "Let's see how CubeSharp handles missing values and empty cells:"
      ]
    },
    {
      "cell_type": "code",
      "execution_count": 62,
      "metadata": {
        "dotnet_interactive": {
          "language": "csharp"
        }
      },
      "outputs": [
        {
          "data": {
            "text/plain": [
              "=== Handling Missing Data ==="
            ]
          },
          "metadata": {},
          "output_type": "display_data"
        },
        {
          "data": {
            "text/html": [
              "<details open=\"open\" class=\"dni-treeview\"><summary><span class=\"dni-code-hint\"><code>{ CustomerD_2007 = 0, CustomerD_2008 = 0, CustomerD_2009 = 60, CustomerZ_2007 = 0, CustomerA_1999 = 0 }</code></span></summary><div><table><thead><tr></tr></thead><tbody><tr><td>CustomerD_2007</td><td><div class=\"dni-plaintext\"><pre>0</pre></div></td></tr><tr><td>CustomerD_2008</td><td><div class=\"dni-plaintext\"><pre>0</pre></div></td></tr><tr><td>CustomerD_2009</td><td><div class=\"dni-plaintext\"><pre>60</pre></div></td></tr><tr><td>CustomerZ_2007</td><td><div class=\"dni-plaintext\"><pre>0</pre></div></td></tr><tr><td>CustomerA_1999</td><td><div class=\"dni-plaintext\"><pre>0</pre></div></td></tr></tbody></table></div></details><style>\r\n",
              ".dni-code-hint {\r\n",
              "    font-style: italic;\r\n",
              "    overflow: hidden;\r\n",
              "    white-space: nowrap;\r\n",
              "}\r\n",
              ".dni-treeview {\r\n",
              "    white-space: nowrap;\r\n",
              "}\r\n",
              ".dni-treeview td {\r\n",
              "    vertical-align: top;\r\n",
              "    text-align: start;\r\n",
              "}\r\n",
              "details.dni-treeview {\r\n",
              "    padding-left: 1em;\r\n",
              "}\r\n",
              "table td {\r\n",
              "    text-align: start;\r\n",
              "}\r\n",
              "table tr { \r\n",
              "    vertical-align: top; \r\n",
              "    margin: 0em 0px;\r\n",
              "}\r\n",
              "table tr td pre \r\n",
              "{ \r\n",
              "    vertical-align: top !important; \r\n",
              "    margin: 0em 0px !important;\r\n",
              "} \r\n",
              "table th {\r\n",
              "    text-align: start;\r\n",
              "}\r\n",
              "</style>"
            ]
          },
          "metadata": {},
          "output_type": "display_data"
        },
        {
          "data": {
            "text/plain": [
              "Note: Missing values return the seed value (0) from the aggregation definition."
            ]
          },
          "metadata": {},
          "output_type": "display_data"
        }
      ],
      "source": [
        "var missingDataResults = new {\n",
        "    CustomerD_2007 = cube.GetValue(\"D\", \"2007\"), // No orders\n",
        "    CustomerD_2008 = cube.GetValue(\"D\", \"2008\"), // No orders\n",
        "    CustomerD_2009 = cube.GetValue(\"D\", \"2009\"), // Has orders\n",
        "    CustomerZ_2007 = cube.GetValue(\"Z\", \"2007\"), // Invalid customer\n",
        "    CustomerA_1999 = cube.GetValue(\"A\", \"1999\")  // Invalid year\n",
        "};\n",
        "\n",
        "display(\"=== Handling Missing Data ===\");\n",
        "display(missingDataResults);\n",
        "display(\"Note: Missing values return the seed value (0) from the aggregation definition.\");"
      ]
    },
    {
      "cell_type": "markdown",
      "metadata": {},
      "source": [
        "## Multi-Selection Example\n",
        "\n",
        "Let's demonstrate multi-selection with product tags:"
      ]
    },
    {
      "cell_type": "code",
      "execution_count": 63,
      "metadata": {
        "dotnet_interactive": {
          "language": "csharp"
        }
      },
      "outputs": [
        {
          "data": {
            "text/plain": [
              "? Enhanced orders with tags created"
            ]
          },
          "metadata": {},
          "output_type": "display_data"
        },
        {
          "data": {
            "text/html": [
              "<table><thead><tr><th><i>index</i></th><th>value</th></tr></thead><tbody><tr><td>0</td><td><details class=\"dni-treeview\"><summary><span class=\"dni-code-hint\"><code>{ OrderDate = 8/2/2007 12:00:00 AM, Product = X, CustomerId = A, Quantity = 10, Tags = System.String[] }</code></span></summary><div><table><thead><tr></tr></thead><tbody><tr><td>OrderDate</td><td><span>2007-08-02 00:00:00Z</span></td></tr><tr><td>Product</td><td><div class=\"dni-plaintext\"><pre>X</pre></div></td></tr><tr><td>CustomerId</td><td><div class=\"dni-plaintext\"><pre>A</pre></div></td></tr><tr><td>Quantity</td><td><div class=\"dni-plaintext\"><pre>10</pre></div></td></tr><tr><td>Tags</td><td><div class=\"dni-plaintext\"><pre>[ Bestseller ]</pre></div></td></tr></tbody></table></div></details></td></tr><tr><td>1</td><td><details class=\"dni-treeview\"><summary><span class=\"dni-code-hint\"><code>{ OrderDate = 12/24/2007 12:00:00 AM, Product = Y, CustomerId = B, Quantity = 12, Tags = System.String[] }</code></span></summary><div><table><thead><tr></tr></thead><tbody><tr><td>OrderDate</td><td><span>2007-12-24 00:00:00Z</span></td></tr><tr><td>Product</td><td><div class=\"dni-plaintext\"><pre>Y</pre></div></td></tr><tr><td>CustomerId</td><td><div class=\"dni-plaintext\"><pre>B</pre></div></td></tr><tr><td>Quantity</td><td><div class=\"dni-plaintext\"><pre>12</pre></div></td></tr><tr><td>Tags</td><td><div class=\"dni-plaintext\"><pre>[ Discount, Seasonal ]</pre></div></td></tr></tbody></table></div></details></td></tr><tr><td>2</td><td><details class=\"dni-treeview\"><summary><span class=\"dni-code-hint\"><code>{ OrderDate = 3/10/2008 12:00:00 AM, Product = Z, CustomerId = A, Quantity = 20, Tags = System.String[] }</code></span></summary><div><table><thead><tr></tr></thead><tbody><tr><td>OrderDate</td><td><span>2008-03-10 00:00:00Z</span></td></tr><tr><td>Product</td><td><div class=\"dni-plaintext\"><pre>Z</pre></div></td></tr><tr><td>CustomerId</td><td><div class=\"dni-plaintext\"><pre>A</pre></div></td></tr><tr><td>Quantity</td><td><div class=\"dni-plaintext\"><pre>20</pre></div></td></tr><tr><td>Tags</td><td><div class=\"dni-plaintext\"><pre>[ Bestseller, Premium ]</pre></div></td></tr></tbody></table></div></details></td></tr></tbody></table><style>\r\n",
              ".dni-code-hint {\r\n",
              "    font-style: italic;\r\n",
              "    overflow: hidden;\r\n",
              "    white-space: nowrap;\r\n",
              "}\r\n",
              ".dni-treeview {\r\n",
              "    white-space: nowrap;\r\n",
              "}\r\n",
              ".dni-treeview td {\r\n",
              "    vertical-align: top;\r\n",
              "    text-align: start;\r\n",
              "}\r\n",
              "details.dni-treeview {\r\n",
              "    padding-left: 1em;\r\n",
              "}\r\n",
              "table td {\r\n",
              "    text-align: start;\r\n",
              "}\r\n",
              "table tr { \r\n",
              "    vertical-align: top; \r\n",
              "    margin: 0em 0px;\r\n",
              "}\r\n",
              "table tr td pre \r\n",
              "{ \r\n",
              "    vertical-align: top !important; \r\n",
              "    margin: 0em 0px !important;\r\n",
              "} \r\n",
              "table th {\r\n",
              "    text-align: start;\r\n",
              "}\r\n",
              "</style>"
            ]
          },
          "metadata": {},
          "output_type": "display_data"
        }
      ],
      "source": [
        "// Create enhanced orders with tags\n",
        "var ordersWithTags = new[] {\n",
        "    new {\n",
        "        OrderDate = new DateTime(2007, 08, 02),\n",
        "        Product = \"X\",\n",
        "        CustomerId = \"A\",\n",
        "        Quantity = 10m,\n",
        "        Tags = new[] { \"Bestseller\" }\n",
        "    },\n",
        "    new {\n",
        "        OrderDate = new DateTime(2007, 12, 24),\n",
        "        Product = \"Y\",\n",
        "        CustomerId = \"B\",\n",
        "        Quantity = 12m,\n",
        "        Tags = new[] { \"Discount\", \"Seasonal\" }\n",
        "    },\n",
        "    new {\n",
        "        OrderDate = new DateTime(2008, 03, 10),\n",
        "        Product = \"Z\",\n",
        "        CustomerId = \"A\",\n",
        "        Quantity = 20m,\n",
        "        Tags = new[] { \"Bestseller\", \"Premium\" }\n",
        "    }\n",
        "};\n",
        "\n",
        "display(\"? Enhanced orders with tags created\");\n",
        "display(ordersWithTags);"
      ]
    },
    {
      "cell_type": "code",
      "execution_count": 64,
      "metadata": {
        "dotnet_interactive": {
          "language": "csharp"
        }
      },
      "outputs": [
        {
          "data": {
            "text/plain": [
              "=== Sales by Tag ==="
            ]
          },
          "metadata": {},
          "output_type": "display_data"
        },
        {
          "data": {
            "text/html": [
              "<details open=\"open\" class=\"dni-treeview\"><summary><span class=\"dni-code-hint\"><code>{ Bestseller = 30, Discount = 12, Seasonal = 12, Premium = 20, Total = 42 }</code></span></summary><div><table><thead><tr></tr></thead><tbody><tr><td>Bestseller</td><td><div class=\"dni-plaintext\"><pre>30</pre></div></td></tr><tr><td>Discount</td><td><div class=\"dni-plaintext\"><pre>12</pre></div></td></tr><tr><td>Seasonal</td><td><div class=\"dni-plaintext\"><pre>12</pre></div></td></tr><tr><td>Premium</td><td><div class=\"dni-plaintext\"><pre>20</pre></div></td></tr><tr><td>Total</td><td><div class=\"dni-plaintext\"><pre>42</pre></div></td></tr></tbody></table></div></details><style>\r\n",
              ".dni-code-hint {\r\n",
              "    font-style: italic;\r\n",
              "    overflow: hidden;\r\n",
              "    white-space: nowrap;\r\n",
              "}\r\n",
              ".dni-treeview {\r\n",
              "    white-space: nowrap;\r\n",
              "}\r\n",
              ".dni-treeview td {\r\n",
              "    vertical-align: top;\r\n",
              "    text-align: start;\r\n",
              "}\r\n",
              "details.dni-treeview {\r\n",
              "    padding-left: 1em;\r\n",
              "}\r\n",
              "table td {\r\n",
              "    text-align: start;\r\n",
              "}\r\n",
              "table tr { \r\n",
              "    vertical-align: top; \r\n",
              "    margin: 0em 0px;\r\n",
              "}\r\n",
              "table tr td pre \r\n",
              "{ \r\n",
              "    vertical-align: top !important; \r\n",
              "    margin: 0em 0px !important;\r\n",
              "} \r\n",
              "table th {\r\n",
              "    text-align: start;\r\n",
              "}\r\n",
              "</style>"
            ]
          },
          "metadata": {},
          "output_type": "display_data"
        }
      ],
      "source": [
        "// Create multi-selection dimension for tags\n",
        "var tagDimension = DimensionDefinition.CreateForCollectionWithMultiSelector(\n",
        "    ordersWithTags,\n",
        "    order => order.Tags,\n",
        "    title: \"Tags\",\n",
        "    IndexDefinition.Create(\n",
        "        (string?)null,\n",
        "        title: \"Total\",\n",
        "        IndexDefinition.Create(\"Bestseller\", \"Bestseller\"),\n",
        "        IndexDefinition.Create(\"Discount\", \"Discount\"),\n",
        "        IndexDefinition.Create(\"Seasonal\", \"Seasonal\"),\n",
        "        IndexDefinition.Create(\"Premium\", \"Premium\")));\n",
        "\n",
        "var tagAggregation = AggregationDefinition.CreateForCollection(\n",
        "    ordersWithTags,\n",
        "    order => order.Quantity,\n",
        "    (a, b) => a + b,\n",
        "    0m);\n",
        "\n",
        "var tagCube = ordersWithTags.BuildCube(tagAggregation, tagDimension);\n",
        "\n",
        "var tagResults = new {\n",
        "    Bestseller = tagCube.GetValue(\"Bestseller\"),\n",
        "    Discount = tagCube.GetValue(\"Discount\"),\n",
        "    Seasonal = tagCube.GetValue(\"Seasonal\"),\n",
        "    Premium = tagCube.GetValue(\"Premium\"),\n",
        "    Total = tagCube.GetValue((string?)null)\n",
        "};\n",
        "\n",
        "display(\"=== Sales by Tag ===\");\n",
        "display(tagResults);"
      ]
    },
    {
      "cell_type": "markdown",
      "metadata": {},
      "source": [
        "## Creating Custom Display Helpers\n",
        "\n",
        "Let's create some helper functions for better data visualization:"
      ]
    },
    {
      "cell_type": "code",
      "execution_count": 65,
      "metadata": {
        "dotnet_interactive": {
          "language": "csharp"
        }
      },
      "outputs": [
        {
          "data": {
            "text/plain": [
              "? Custom display helper created"
            ]
          },
          "metadata": {},
          "output_type": "display_data"
        }
      ],
      "source": [
        "// Helper function to display cube as a formatted table\n",
        "public static void DisplayCubeAsTable<TIndex, T>(\n",
        "    CubeResult<TIndex, T> cube,\n",
        "    string title = \"Data Cube Results\")\n",
        "    where TIndex : notnull\n",
        "{\n",
        "    display(title);\n",
        "\n",
        "    if (cube.FreeDimensionCount == 2)\n",
        "    {\n",
        "        var tableData = cube\n",
        "            .BreakdownByDimensions(..^1)\n",
        "            .Select(row => row\n",
        "                .GetBoundDimensionsAndIndexes()\n",
        "                .Select(pair => KeyValuePair.Create(\n",
        "                    pair.dimension.Title!,\n",
        "                    (object?)pair.dimension[pair.index].Title))\n",
        "                .Concat(row\n",
        "                    .BreakdownByDimensions(^1)\n",
        "                    .Select(cell => KeyValuePair.Create(\n",
        "                        cell.GetBoundIndexDefinition(^1).Title!,\n",
        "                        (object?)cell.GetValue())))\n",
        "                .ToDictionary(kvp => kvp.Key, kvp => kvp.Value))\n",
        "            .ToList();\n",
        "\n",
        "        display(tableData);\n",
        "    }\n",
        "    else\n",
        "    {\n",
        "        display(\"Complex cube structure - use breakdown methods for analysis\");\n",
        "    }\n",
        "}\n",
        "\n",
        "display(\"? Custom display helper created\");"
      ]
    },
    {
      "cell_type": "code",
      "execution_count": 66,
      "metadata": {
        "dotnet_interactive": {
          "language": "csharp"
        }
      },
      "outputs": [
        {
          "data": {
            "text/plain": [
              "?? Sales by Customer and Year"
            ]
          },
          "metadata": {},
          "output_type": "display_data"
        },
        {
          "data": {
            "text/html": [
              "<table><thead><tr><th><i>index</i></th><th>value</th></tr></thead><tbody><tr><td>0</td><td><table><thead><tr><th><i>key</i></th><th><i>type</i></th><th>value</th></tr></thead><tbody><tr><td><div class=\"dni-plaintext\"><pre>Customers</pre></div></td><td><span><a href=\"https://docs.microsoft.com/dotnet/api/system.string?view=net-7.0\">System.String</a></span></td><td><div class=\"dni-plaintext\"><pre>Customer A</pre></div></td></tr><tr><td><div class=\"dni-plaintext\"><pre>2007 Year</pre></div></td><td><span><a href=\"https://docs.microsoft.com/dotnet/api/system.decimal?view=net-7.0\">System.Decimal</a></span></td><td><div class=\"dni-plaintext\"><pre>22</pre></div></td></tr><tr><td><div class=\"dni-plaintext\"><pre>2008 Year</pre></div></td><td><span><a href=\"https://docs.microsoft.com/dotnet/api/system.decimal?view=net-7.0\">System.Decimal</a></span></td><td><div class=\"dni-plaintext\"><pre>40</pre></div></td></tr><tr><td><div class=\"dni-plaintext\"><pre>2009 Year</pre></div></td><td><span><a href=\"https://docs.microsoft.com/dotnet/api/system.decimal?view=net-7.0\">System.Decimal</a></span></td><td><div class=\"dni-plaintext\"><pre>10</pre></div></td></tr><tr><td><div class=\"dni-plaintext\"><pre>Total</pre></div></td><td><span><a href=\"https://docs.microsoft.com/dotnet/api/system.decimal?view=net-7.0\">System.Decimal</a></span></td><td><div class=\"dni-plaintext\"><pre>72</pre></div></td></tr></tbody></table></td></tr><tr><td>1</td><td><table><thead><tr><th><i>key</i></th><th><i>type</i></th><th>value</th></tr></thead><tbody><tr><td><div class=\"dni-plaintext\"><pre>Customers</pre></div></td><td><span><a href=\"https://docs.microsoft.com/dotnet/api/system.string?view=net-7.0\">System.String</a></span></td><td><div class=\"dni-plaintext\"><pre>Customer B</pre></div></td></tr><tr><td><div class=\"dni-plaintext\"><pre>2007 Year</pre></div></td><td><span><a href=\"https://docs.microsoft.com/dotnet/api/system.decimal?view=net-7.0\">System.Decimal</a></span></td><td><div class=\"dni-plaintext\"><pre>12</pre></div></td></tr><tr><td><div class=\"dni-plaintext\"><pre>2008 Year</pre></div></td><td><span><a href=\"https://docs.microsoft.com/dotnet/api/system.decimal?view=net-7.0\">System.Decimal</a></span></td><td><div class=\"dni-plaintext\"><pre>8</pre></div></td></tr><tr><td><div class=\"dni-plaintext\"><pre>2009 Year</pre></div></td><td><span><a href=\"https://docs.microsoft.com/dotnet/api/system.decimal?view=net-7.0\">System.Decimal</a></span></td><td><div class=\"dni-plaintext\"><pre>0</pre></div></td></tr><tr><td><div class=\"dni-plaintext\"><pre>Total</pre></div></td><td><span><a href=\"https://docs.microsoft.com/dotnet/api/system.decimal?view=net-7.0\">System.Decimal</a></span></td><td><div class=\"dni-plaintext\"><pre>20</pre></div></td></tr></tbody></table></td></tr><tr><td>2</td><td><table><thead><tr><th><i>key</i></th><th><i>type</i></th><th>value</th></tr></thead><tbody><tr><td><div class=\"dni-plaintext\"><pre>Customers</pre></div></td><td><span><a href=\"https://docs.microsoft.com/dotnet/api/system.string?view=net-7.0\">System.String</a></span></td><td><div class=\"dni-plaintext\"><pre>Customer C</pre></div></td></tr><tr><td><div class=\"dni-plaintext\"><pre>2007 Year</pre></div></td><td><span><a href=\"https://docs.microsoft.com/dotnet/api/system.decimal?view=net-7.0\">System.Decimal</a></span></td><td><div class=\"dni-plaintext\"><pre>0</pre></div></td></tr><tr><td><div class=\"dni-plaintext\"><pre>2008 Year</pre></div></td><td><span><a href=\"https://docs.microsoft.com/dotnet/api/system.decimal?view=net-7.0\">System.Decimal</a></span></td><td><div class=\"dni-plaintext\"><pre>0</pre></div></td></tr><tr><td><div class=\"dni-plaintext\"><pre>2009 Year</pre></div></td><td><span><a href=\"https://docs.microsoft.com/dotnet/api/system.decimal?view=net-7.0\">System.Decimal</a></span></td><td><div class=\"dni-plaintext\"><pre>15</pre></div></td></tr><tr><td><div class=\"dni-plaintext\"><pre>Total</pre></div></td><td><span><a href=\"https://docs.microsoft.com/dotnet/api/system.decimal?view=net-7.0\">System.Decimal</a></span></td><td><div class=\"dni-plaintext\"><pre>15</pre></div></td></tr></tbody></table></td></tr><tr><td>3</td><td><table><thead><tr><th><i>key</i></th><th><i>type</i></th><th>value</th></tr></thead><tbody><tr><td><div class=\"dni-plaintext\"><pre>Customers</pre></div></td><td><span><a href=\"https://docs.microsoft.com/dotnet/api/system.string?view=net-7.0\">System.String</a></span></td><td><div class=\"dni-plaintext\"><pre>Customer D</pre></div></td></tr><tr><td><div class=\"dni-plaintext\"><pre>2007 Year</pre></div></td><td><span><a href=\"https://docs.microsoft.com/dotnet/api/system.decimal?view=net-7.0\">System.Decimal</a></span></td><td><div class=\"dni-plaintext\"><pre>0</pre></div></td></tr><tr><td><div class=\"dni-plaintext\"><pre>2008 Year</pre></div></td><td><span><a href=\"https://docs.microsoft.com/dotnet/api/system.decimal?view=net-7.0\">System.Decimal</a></span></td><td><div class=\"dni-plaintext\"><pre>0</pre></div></td></tr><tr><td><div class=\"dni-plaintext\"><pre>2009 Year</pre></div></td><td><span><a href=\"https://docs.microsoft.com/dotnet/api/system.decimal?view=net-7.0\">System.Decimal</a></span></td><td><div class=\"dni-plaintext\"><pre>60</pre></div></td></tr><tr><td><div class=\"dni-plaintext\"><pre>Total</pre></div></td><td><span><a href=\"https://docs.microsoft.com/dotnet/api/system.decimal?view=net-7.0\">System.Decimal</a></span></td><td><div class=\"dni-plaintext\"><pre>60</pre></div></td></tr></tbody></table></td></tr><tr><td>4</td><td><table><thead><tr><th><i>key</i></th><th><i>type</i></th><th>value</th></tr></thead><tbody><tr><td><div class=\"dni-plaintext\"><pre>Customers</pre></div></td><td><span><a href=\"https://docs.microsoft.com/dotnet/api/system.string?view=net-7.0\">System.String</a></span></td><td><div class=\"dni-plaintext\"><pre>Total</pre></div></td></tr><tr><td><div class=\"dni-plaintext\"><pre>2007 Year</pre></div></td><td><span><a href=\"https://docs.microsoft.com/dotnet/api/system.decimal?view=net-7.0\">System.Decimal</a></span></td><td><div class=\"dni-plaintext\"><pre>34</pre></div></td></tr><tr><td><div class=\"dni-plaintext\"><pre>2008 Year</pre></div></td><td><span><a href=\"https://docs.microsoft.com/dotnet/api/system.decimal?view=net-7.0\">System.Decimal</a></span></td><td><div class=\"dni-plaintext\"><pre>48</pre></div></td></tr><tr><td><div class=\"dni-plaintext\"><pre>2009 Year</pre></div></td><td><span><a href=\"https://docs.microsoft.com/dotnet/api/system.decimal?view=net-7.0\">System.Decimal</a></span></td><td><div class=\"dni-plaintext\"><pre>85</pre></div></td></tr><tr><td><div class=\"dni-plaintext\"><pre>Total</pre></div></td><td><span><a href=\"https://docs.microsoft.com/dotnet/api/system.decimal?view=net-7.0\">System.Decimal</a></span></td><td><div class=\"dni-plaintext\"><pre>167</pre></div></td></tr></tbody></table></td></tr></tbody></table><style>\r\n",
              ".dni-code-hint {\r\n",
              "    font-style: italic;\r\n",
              "    overflow: hidden;\r\n",
              "    white-space: nowrap;\r\n",
              "}\r\n",
              ".dni-treeview {\r\n",
              "    white-space: nowrap;\r\n",
              "}\r\n",
              ".dni-treeview td {\r\n",
              "    vertical-align: top;\r\n",
              "    text-align: start;\r\n",
              "}\r\n",
              "details.dni-treeview {\r\n",
              "    padding-left: 1em;\r\n",
              "}\r\n",
              "table td {\r\n",
              "    text-align: start;\r\n",
              "}\r\n",
              "table tr { \r\n",
              "    vertical-align: top; \r\n",
              "    margin: 0em 0px;\r\n",
              "}\r\n",
              "table tr td pre \r\n",
              "{ \r\n",
              "    vertical-align: top !important; \r\n",
              "    margin: 0em 0px !important;\r\n",
              "} \r\n",
              "table th {\r\n",
              "    text-align: start;\r\n",
              "}\r\n",
              "</style>"
            ]
          },
          "metadata": {},
          "output_type": "display_data"
        }
      ],
      "source": [
        "// Use the helper function\n",
        "DisplayCubeAsTable(cube, \"?? Sales by Customer and Year\");"
      ]
    },
    {
      "cell_type": "code",
      "execution_count": 67,
      "metadata": {
        "dotnet_interactive": {
          "language": "csharp"
        }
      },
      "outputs": [
        {
          "data": {
            "text/plain": [
              "?? Sales by Customer and Product Hierarchy"
            ]
          },
          "metadata": {},
          "output_type": "display_data"
        },
        {
          "data": {
            "text/html": [
              "<table><thead><tr><th><i>index</i></th><th>value</th></tr></thead><tbody><tr><td>0</td><td><table><thead><tr><th><i>key</i></th><th><i>type</i></th><th>value</th></tr></thead><tbody><tr><td><div class=\"dni-plaintext\"><pre>Customers</pre></div></td><td><span><a href=\"https://docs.microsoft.com/dotnet/api/system.string?view=net-7.0\">System.String</a></span></td><td><div class=\"dni-plaintext\"><pre>Customer A</pre></div></td></tr><tr><td><div class=\"dni-plaintext\"><pre>Category A</pre></div></td><td><span><a href=\"https://docs.microsoft.com/dotnet/api/system.decimal?view=net-7.0\">System.Decimal</a></span></td><td><div class=\"dni-plaintext\"><pre>42</pre></div></td></tr><tr><td><div class=\"dni-plaintext\"><pre>Product X</pre></div></td><td><span><a href=\"https://docs.microsoft.com/dotnet/api/system.decimal?view=net-7.0\">System.Decimal</a></span></td><td><div class=\"dni-plaintext\"><pre>42</pre></div></td></tr><tr><td><div class=\"dni-plaintext\"><pre>Category B</pre></div></td><td><span><a href=\"https://docs.microsoft.com/dotnet/api/system.decimal?view=net-7.0\">System.Decimal</a></span></td><td><div class=\"dni-plaintext\"><pre>30</pre></div></td></tr><tr><td><div class=\"dni-plaintext\"><pre>Product Y</pre></div></td><td><span><a href=\"https://docs.microsoft.com/dotnet/api/system.decimal?view=net-7.0\">System.Decimal</a></span></td><td><div class=\"dni-plaintext\"><pre>30</pre></div></td></tr><tr><td><div class=\"dni-plaintext\"><pre>Product Z</pre></div></td><td><span><a href=\"https://docs.microsoft.com/dotnet/api/system.decimal?view=net-7.0\">System.Decimal</a></span></td><td><div class=\"dni-plaintext\"><pre>0</pre></div></td></tr><tr><td><div class=\"dni-plaintext\"><pre>Total</pre></div></td><td><span><a href=\"https://docs.microsoft.com/dotnet/api/system.decimal?view=net-7.0\">System.Decimal</a></span></td><td><div class=\"dni-plaintext\"><pre>72</pre></div></td></tr></tbody></table></td></tr><tr><td>1</td><td><table><thead><tr><th><i>key</i></th><th><i>type</i></th><th>value</th></tr></thead><tbody><tr><td><div class=\"dni-plaintext\"><pre>Customers</pre></div></td><td><span><a href=\"https://docs.microsoft.com/dotnet/api/system.string?view=net-7.0\">System.String</a></span></td><td><div class=\"dni-plaintext\"><pre>Customer B</pre></div></td></tr><tr><td><div class=\"dni-plaintext\"><pre>Category A</pre></div></td><td><span><a href=\"https://docs.microsoft.com/dotnet/api/system.decimal?view=net-7.0\">System.Decimal</a></span></td><td><div class=\"dni-plaintext\"><pre>0</pre></div></td></tr><tr><td><div class=\"dni-plaintext\"><pre>Product X</pre></div></td><td><span><a href=\"https://docs.microsoft.com/dotnet/api/system.decimal?view=net-7.0\">System.Decimal</a></span></td><td><div class=\"dni-plaintext\"><pre>0</pre></div></td></tr><tr><td><div class=\"dni-plaintext\"><pre>Category B</pre></div></td><td><span><a href=\"https://docs.microsoft.com/dotnet/api/system.decimal?view=net-7.0\">System.Decimal</a></span></td><td><div class=\"dni-plaintext\"><pre>20</pre></div></td></tr><tr><td><div class=\"dni-plaintext\"><pre>Product Y</pre></div></td><td><span><a href=\"https://docs.microsoft.com/dotnet/api/system.decimal?view=net-7.0\">System.Decimal</a></span></td><td><div class=\"dni-plaintext\"><pre>12</pre></div></td></tr><tr><td><div class=\"dni-plaintext\"><pre>Product Z</pre></div></td><td><span><a href=\"https://docs.microsoft.com/dotnet/api/system.decimal?view=net-7.0\">System.Decimal</a></span></td><td><div class=\"dni-plaintext\"><pre>8</pre></div></td></tr><tr><td><div class=\"dni-plaintext\"><pre>Total</pre></div></td><td><span><a href=\"https://docs.microsoft.com/dotnet/api/system.decimal?view=net-7.0\">System.Decimal</a></span></td><td><div class=\"dni-plaintext\"><pre>20</pre></div></td></tr></tbody></table></td></tr><tr><td>2</td><td><table><thead><tr><th><i>key</i></th><th><i>type</i></th><th>value</th></tr></thead><tbody><tr><td><div class=\"dni-plaintext\"><pre>Customers</pre></div></td><td><span><a href=\"https://docs.microsoft.com/dotnet/api/system.string?view=net-7.0\">System.String</a></span></td><td><div class=\"dni-plaintext\"><pre>Customer C</pre></div></td></tr><tr><td><div class=\"dni-plaintext\"><pre>Category A</pre></div></td><td><span><a href=\"https://docs.microsoft.com/dotnet/api/system.decimal?view=net-7.0\">System.Decimal</a></span></td><td><div class=\"dni-plaintext\"><pre>0</pre></div></td></tr><tr><td><div class=\"dni-plaintext\"><pre>Product X</pre></div></td><td><span><a href=\"https://docs.microsoft.com/dotnet/api/system.decimal?view=net-7.0\">System.Decimal</a></span></td><td><div class=\"dni-plaintext\"><pre>0</pre></div></td></tr><tr><td><div class=\"dni-plaintext\"><pre>Category B</pre></div></td><td><span><a href=\"https://docs.microsoft.com/dotnet/api/system.decimal?view=net-7.0\">System.Decimal</a></span></td><td><div class=\"dni-plaintext\"><pre>15</pre></div></td></tr><tr><td><div class=\"dni-plaintext\"><pre>Product Y</pre></div></td><td><span><a href=\"https://docs.microsoft.com/dotnet/api/system.decimal?view=net-7.0\">System.Decimal</a></span></td><td><div class=\"dni-plaintext\"><pre>0</pre></div></td></tr><tr><td><div class=\"dni-plaintext\"><pre>Product Z</pre></div></td><td><span><a href=\"https://docs.microsoft.com/dotnet/api/system.decimal?view=net-7.0\">System.Decimal</a></span></td><td><div class=\"dni-plaintext\"><pre>15</pre></div></td></tr><tr><td><div class=\"dni-plaintext\"><pre>Total</pre></div></td><td><span><a href=\"https://docs.microsoft.com/dotnet/api/system.decimal?view=net-7.0\">System.Decimal</a></span></td><td><div class=\"dni-plaintext\"><pre>15</pre></div></td></tr></tbody></table></td></tr><tr><td>3</td><td><table><thead><tr><th><i>key</i></th><th><i>type</i></th><th>value</th></tr></thead><tbody><tr><td><div class=\"dni-plaintext\"><pre>Customers</pre></div></td><td><span><a href=\"https://docs.microsoft.com/dotnet/api/system.string?view=net-7.0\">System.String</a></span></td><td><div class=\"dni-plaintext\"><pre>Customer D</pre></div></td></tr><tr><td><div class=\"dni-plaintext\"><pre>Category A</pre></div></td><td><span><a href=\"https://docs.microsoft.com/dotnet/api/system.decimal?view=net-7.0\">System.Decimal</a></span></td><td><div class=\"dni-plaintext\"><pre>60</pre></div></td></tr><tr><td><div class=\"dni-plaintext\"><pre>Product X</pre></div></td><td><span><a href=\"https://docs.microsoft.com/dotnet/api/system.decimal?view=net-7.0\">System.Decimal</a></span></td><td><div class=\"dni-plaintext\"><pre>60</pre></div></td></tr><tr><td><div class=\"dni-plaintext\"><pre>Category B</pre></div></td><td><span><a href=\"https://docs.microsoft.com/dotnet/api/system.decimal?view=net-7.0\">System.Decimal</a></span></td><td><div class=\"dni-plaintext\"><pre>0</pre></div></td></tr><tr><td><div class=\"dni-plaintext\"><pre>Product Y</pre></div></td><td><span><a href=\"https://docs.microsoft.com/dotnet/api/system.decimal?view=net-7.0\">System.Decimal</a></span></td><td><div class=\"dni-plaintext\"><pre>0</pre></div></td></tr><tr><td><div class=\"dni-plaintext\"><pre>Product Z</pre></div></td><td><span><a href=\"https://docs.microsoft.com/dotnet/api/system.decimal?view=net-7.0\">System.Decimal</a></span></td><td><div class=\"dni-plaintext\"><pre>0</pre></div></td></tr><tr><td><div class=\"dni-plaintext\"><pre>Total</pre></div></td><td><span><a href=\"https://docs.microsoft.com/dotnet/api/system.decimal?view=net-7.0\">System.Decimal</a></span></td><td><div class=\"dni-plaintext\"><pre>60</pre></div></td></tr></tbody></table></td></tr><tr><td>4</td><td><table><thead><tr><th><i>key</i></th><th><i>type</i></th><th>value</th></tr></thead><tbody><tr><td><div class=\"dni-plaintext\"><pre>Customers</pre></div></td><td><span><a href=\"https://docs.microsoft.com/dotnet/api/system.string?view=net-7.0\">System.String</a></span></td><td><div class=\"dni-plaintext\"><pre>Total</pre></div></td></tr><tr><td><div class=\"dni-plaintext\"><pre>Category A</pre></div></td><td><span><a href=\"https://docs.microsoft.com/dotnet/api/system.decimal?view=net-7.0\">System.Decimal</a></span></td><td><div class=\"dni-plaintext\"><pre>102</pre></div></td></tr><tr><td><div class=\"dni-plaintext\"><pre>Product X</pre></div></td><td><span><a href=\"https://docs.microsoft.com/dotnet/api/system.decimal?view=net-7.0\">System.Decimal</a></span></td><td><div class=\"dni-plaintext\"><pre>102</pre></div></td></tr><tr><td><div class=\"dni-plaintext\"><pre>Category B</pre></div></td><td><span><a href=\"https://docs.microsoft.com/dotnet/api/system.decimal?view=net-7.0\">System.Decimal</a></span></td><td><div class=\"dni-plaintext\"><pre>65</pre></div></td></tr><tr><td><div class=\"dni-plaintext\"><pre>Product Y</pre></div></td><td><span><a href=\"https://docs.microsoft.com/dotnet/api/system.decimal?view=net-7.0\">System.Decimal</a></span></td><td><div class=\"dni-plaintext\"><pre>42</pre></div></td></tr><tr><td><div class=\"dni-plaintext\"><pre>Product Z</pre></div></td><td><span><a href=\"https://docs.microsoft.com/dotnet/api/system.decimal?view=net-7.0\">System.Decimal</a></span></td><td><div class=\"dni-plaintext\"><pre>23</pre></div></td></tr><tr><td><div class=\"dni-plaintext\"><pre>Total</pre></div></td><td><span><a href=\"https://docs.microsoft.com/dotnet/api/system.decimal?view=net-7.0\">System.Decimal</a></span></td><td><div class=\"dni-plaintext\"><pre>167</pre></div></td></tr></tbody></table></td></tr></tbody></table><style>\r\n",
              ".dni-code-hint {\r\n",
              "    font-style: italic;\r\n",
              "    overflow: hidden;\r\n",
              "    white-space: nowrap;\r\n",
              "}\r\n",
              ".dni-treeview {\r\n",
              "    white-space: nowrap;\r\n",
              "}\r\n",
              ".dni-treeview td {\r\n",
              "    vertical-align: top;\r\n",
              "    text-align: start;\r\n",
              "}\r\n",
              "details.dni-treeview {\r\n",
              "    padding-left: 1em;\r\n",
              "}\r\n",
              "table td {\r\n",
              "    text-align: start;\r\n",
              "}\r\n",
              "table tr { \r\n",
              "    vertical-align: top; \r\n",
              "    margin: 0em 0px;\r\n",
              "}\r\n",
              "table tr td pre \r\n",
              "{ \r\n",
              "    vertical-align: top !important; \r\n",
              "    margin: 0em 0px !important;\r\n",
              "} \r\n",
              "table th {\r\n",
              "    text-align: start;\r\n",
              "}\r\n",
              "</style>"
            ]
          },
          "metadata": {},
          "output_type": "display_data"
        }
      ],
      "source": [
        "DisplayCubeAsTable(hierarchicalCube, \"?? Sales by Customer and Product Hierarchy\");"
      ]
    },
    {
      "cell_type": "markdown",
      "metadata": {},
      "source": [
        "## Summary\n",
        "\n",
        "This notebook has demonstrated the key features of CubeSharp:\n",
        "\n",
        "1. **Building Cubes**: Using `BuildCube` with aggregation and dimension definitions\n",
        "2. **Querying Data**: Direct access with `GetValue()` and slicing operations\n",
        "3. **Aggregations**: Sum, count, average, maximum, and custom aggregations\n",
        "4. **Dimensions**: Simple grouping, hierarchical structures, and totals\n",
        "5. **Analysis**: Breakdown operations for detailed analysis\n",
        "6. **Reporting**: Transforming cube data into table formats\n",
        "7. **Advanced Features**: Multi-selection and handling missing data\n",
        "8. **Visualization**: Using display functions for better data presentation\n",
        "\n",
        "CubeSharp provides a powerful, type-safe way to perform multi-dimensional data analysis in .NET applications. It's particularly useful for building business reports, analytics dashboards, and data exploration tools."
      ]
    }
  ],
  "metadata": {
    "kernelspec": {
      "display_name": ".NET (C#)",
      "language": "C#",
      "name": ".net-csharp"
    },
    "language_info": {
      "name": "polyglot-notebook"
    },
    "polyglot_notebook": {
      "kernelInfo": {
        "defaultKernelName": "csharp",
        "items": [
          {
            "aliases": [],
            "languageName": "csharp",
            "name": "csharp"
          }
        ]
      }
    }
  },
  "nbformat": 4,
  "nbformat_minor": 2
}
