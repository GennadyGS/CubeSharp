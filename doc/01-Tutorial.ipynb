{
 "cells": [
  {
   "cell_type": "markdown",
   "id": "aad76cb1",
   "metadata": {},
   "source": [
    "# <a id='toc1_'></a>[CubeSharp Tutorial](#toc0_)\n",
    "\n",
    "End-to-end guide to building and querying in-memory data cubes with CubeSharp. Start here to learn the core concepts (aggregation, dimensions, slicing, breakdown) before exploring the examples notebook (02-Examples.ipynb)."
   ]
  },
  {
   "cell_type": "markdown",
   "id": "af8d498d",
   "metadata": {},
   "source": [
    "**Table of Contents**<a id='toc0_'></a>    \n",
    "- [CubeSharp Tutorial](#toc1_)    \n",
    "  - [Introduction](#toc1_1_)    \n",
    "  - [Motivation](#toc1_2_)    \n",
    "  - [Prerequisites](#toc1_3_)    \n",
    "    - [Helper Functions](#toc1_3_1_)    \n",
    "  - [Getting Started](#toc1_4_)    \n",
    "  - [Building Cubes](#toc1_5_)    \n",
    "    - [Aggregation Definitions](#toc1_5_1_)    \n",
    "    - [Dimension Definitions](#toc1_5_2_)    \n",
    "      - [Multi-selection](#toc1_5_2_1_)    \n",
    "  - [Querying Cubes](#toc1_6_)    \n",
    "    - [Querying Single Cube Cells](#toc1_6_1_)    \n",
    "    - [Slicing Cubes](#toc1_6_2_)    \n",
    "    - [Breakdown Operations](#toc1_6_3_)    \n",
    "    - [Generic Cube Operations](#toc1_6_4_)    \n",
    "\n",
    "<!-- vscode-jupyter-toc-config\n",
    "\tnumbering=false\n",
    "\tanchor=true\n",
    "\tflat=false\n",
    "\tminLevel=1\n",
    "\tmaxLevel=6\n",
    "\t/vscode-jupyter-toc-config -->\n",
    "<!-- THIS CELL WILL BE REPLACED ON TOC UPDATE. DO NOT WRITE YOUR TEXT IN THIS CELL -->"
   ]
  },
  {
   "cell_type": "markdown",
   "id": "db7813d2",
   "metadata": {},
   "source": [
    "## <a id='toc1_1_'></a>[Introduction](#toc0_)\n",
    "\n",
    "CubeSharp is a lightweight library for building in-memory [data cubes](https://en.wikipedia.org/wiki/Data_cube)."
   ]
  },
  {
   "cell_type": "markdown",
   "id": "e3f78a46",
   "metadata": {},
   "source": [
    "## <a id='toc1_2_'></a>[Motivation](#toc0_)\n",
    "\n",
    "Imagine you need to build a tabular report involving multiple factors (or dimensions), data aggregations, calculations, and totals across one or more dimensions.\n",
    "\n",
    "If you use SQL for this purpose, you have limited possibilities for refactoring and testing your code, making it difficult to maintain. If you use native .NET capabilities like LINQ, you need to write many ad-hoc data manipulations such as filtering, mapping, and aggregation, which also makes code difficult to maintain.\n",
    "\n",
    "The CubeSharp library allows you to systematize your implementation approach to multi-factor (or multi-dimensional) reports by building in-memory data cubes and then transforming them into the required tabular representation."
   ]
  },
  {
   "cell_type": "markdown",
   "id": "640d1a0c",
   "metadata": {
    "tags": [
     "prerequisites"
    ]
   },
   "source": [
    "## <a id='toc1_3_'></a>[Prerequisites](#toc0_)\n",
    "\n",
    "This cell installs required NuGet packages and sets up global using directives."
   ]
  },
  {
   "cell_type": "code",
   "execution_count": null,
   "id": "48209b34",
   "metadata": {
    "polyglot_notebook": {
     "kernelName": "csharp"
    },
    "tags": [
     "prerequisites",
     "hide-input"
    ]
   },
   "outputs": [],
   "source": [
    "// Package references\n",
    "#r \"nuget: CubeSharp, 99.0.0.3-alpha\"\n",
    "\n",
    "// Using directives\n",
    "using CubeSharp;\n"
   ]
  },
  {
   "cell_type": "markdown",
   "id": "26d7bfb3",
   "metadata": {
    "tags": [
     "helpers"
    ]
   },
   "source": [
    "### <a id='toc1_3_1_'></a>[Helper Functions](#toc0_)\n",
    "\n",
    "Utility functions for tables visualization are isolated here so that the rest of the notebook focuses on the conceptual steps."
   ]
  },
  {
   "cell_type": "code",
   "execution_count": null,
   "id": "707ceb51",
   "metadata": {
    "polyglot_notebook": {
     "kernelName": "csharp"
    },
    "tags": [
     "helpers",
     "hide-input"
    ]
   },
   "outputs": [],
   "source": [
    "#r \"nuget: Microsoft.Data.Analysis, 0.21.0\"\n",
    "#nullable enable\n",
    "\n",
    "using System;\n",
    "using System.Collections.Generic;\n",
    "using System.Linq;\n",
    "using System.Reflection;\n",
    "using Microsoft.Data.Analysis;\n",
    "\n",
    "public static void Display(this object? obj) => display(obj);\n",
    "\n",
    "public static void DisplayAsTable(this IEnumerable<IDictionary<string, object?>> rows) =>\n",
    "    display(rows.ToDataFrame());\n",
    "\n",
    "public static IDictionary<string, object?> ObjectToDictionary(this object obj) =>\n",
    "    obj.GetType()\n",
    "        .GetProperties(BindingFlags.Public | BindingFlags.Instance)\n",
    "        .ToDictionary(prop => prop.Name, prop => prop.GetValue(obj, null));\n",
    "\n",
    "private static DataFrame ToDataFrame(this IEnumerable<IDictionary<string, object?>> source)\n",
    "{\n",
    "    var props = source.FirstOrDefault()?.Keys ?? [];\n",
    "    var columns = props\n",
    "        .Select(p => new StringDataFrameColumn(p))\n",
    "        .ToList();\n",
    "    var result = new DataFrame(columns);\n",
    "    foreach (var item in source)\n",
    "    {\n",
    "        result.Append(props.ToDictionary(p => p, p => GetDisplayedValue(item[p])), true);\n",
    "    }\n",
    "    return result;\n",
    "\n",
    "    static object? GetDisplayedValue(object? value) =>\n",
    "        value switch\n",
    "        {\n",
    "            IEnumerable<object> values => $\"[{values.JoinStrings(\", \")}]\",\n",
    "            _ => value\n",
    "        };\n",
    "}\n",
    "\n",
    "private static string JoinStrings(this IEnumerable<object?> strings, string separator) =>\n",
    "    string.Join(separator, strings);\n"
   ]
  },
  {
   "cell_type": "markdown",
   "id": "ecbb8ab4",
   "metadata": {},
   "source": [
    "## <a id='toc1_4_'></a>[Getting Started](#toc0_)\n",
    "\n",
    "Imagine you have a collection of data in the following form:"
   ]
  },
  {
   "cell_type": "code",
   "execution_count": null,
   "id": "8c63e102",
   "metadata": {
    "language_info": {
     "name": "polyglot-notebook"
    },
    "polyglot_notebook": {
     "kernelName": "csharp"
    }
   },
   "outputs": [],
   "source": [
    "public record Order {\n",
    "    public required DateTime OrderDate { get; init; }\n",
    "    public required string Product { get; init; }\n",
    "    public required int EmployeeId { get; init; }\n",
    "    public required string CustomerId { get; init; }\n",
    "    public required decimal Quantity { get; init; }\n",
    "    public required string[] Tags { get; init; }\n",
    "}\n",
    "\n",
    "var orders = new Order[] {\n",
    "    new() { OrderDate = new DateTime(2007, 08, 02), Product = \"X\", EmployeeId = 3, CustomerId = \"A\", Quantity = 10m, Tags = [ \"Discount\", \"Retail\" ] },\n",
    "    new() { OrderDate = new DateTime(2007, 12, 24), Product = \"X\", EmployeeId = 3, CustomerId = \"A\", Quantity = 12m, Tags = [ \"Retail\", \"BestSeller\" ] },\n",
    "    new() { OrderDate = new DateTime(2007, 12, 24), Product = \"Y\", EmployeeId = 1, CustomerId = \"B\", Quantity = 20m, Tags = [ \"Discount\", \"Retail\", \"New\", \"Season\", \"BestSeller\" ] },\n",
    "    new() { OrderDate = new DateTime(2008, 01, 09), Product = \"Z\", EmployeeId = 2, CustomerId = \"A\", Quantity = 40m, Tags = [ \"BestSeller\" ] },\n",
    "    new() { OrderDate = new DateTime(2008, 01, 18), Product = \"Z\", EmployeeId = 1, CustomerId = \"C\", Quantity = 14m, Tags = [ \"Discount\", \"New\", \"BestSeller\" ] },\n",
    "    new() { OrderDate = new DateTime(2008, 02, 12), Product = \"Z\", EmployeeId = 2, CustomerId = \"B\", Quantity = 12m, Tags = [ \"Retail\" ] },\n",
    "    new() { OrderDate = new DateTime(2009, 02, 12), Product = \"X\", EmployeeId = 3, CustomerId = \"A\", Quantity = 10m, Tags = new string[] {} },\n",
    "    new() { OrderDate = new DateTime(2009, 02, 16), Product = \"X\", EmployeeId = 1, CustomerId = \"C\", Quantity = 20m, Tags = new [] { \"New\" } },\n",
    "    new() { OrderDate = new DateTime(2009, 04, 18), Product = \"Z\", EmployeeId = 2, CustomerId = \"B\", Quantity = 15m, Tags = new [] { \"Discount\", \"BestSeller\" } },\n",
    "    new() { OrderDate = new DateTime(2007, 04, 18), Product = \"X\", EmployeeId = 3, CustomerId = \"C\", Quantity = 22m, Tags = new [] { \"Discount\", \"Retail\", \"New\", \"Season\" } },\n",
    "    new() { OrderDate = new DateTime(2009, 09, 07), Product = \"Y\", EmployeeId = 3, CustomerId = \"D\", Quantity = 30m, Tags = new [] { \"Retail\", \"New\", \"Season\", \"BestSeller\" } },\n",
    "    new() { OrderDate = new DateTime(2009, 09, 07), Product = (string?)null!, EmployeeId = 3, CustomerId = \"D\", Quantity = 30m, Tags = new [] { \"Discount\", \"New\", \"BestSeller\" } },\n",
    "};\n",
    "\n",
    "orders\n",
    "    .Select(order => order.ObjectToDictionary())\n",
    "    .DisplayAsTable();"
   ]
  },
  {
   "cell_type": "markdown",
   "id": "8781709a",
   "metadata": {},
   "source": [
    "You need to build a report with customer IDs as rows and order years as columns, calculating the total quantity for each cell. You also have a fixed list of rows and columns to display, including totals.\n",
    "\n",
    "The desired report may look like this:"
   ]
  },
  {
   "cell_type": "markdown",
   "id": "bcf1c792",
   "metadata": {},
   "source": [
    "| Customers  | 2007 Year | 2008 Year | 2009 Year | Total |\n",
    "|------------|-----------|-----------|-----------|-------|\n",
    "| Customer A | 22        | 40        | 10        | 72    |\n",
    "| Customer B | 20        | 12        | 15        | 47    |\n",
    "| Customer C | 22        | 14        | 20        | 56    |\n",
    "| Customer D | 0         | 0         | 60        | 60    |\n",
    "| Total      | 64        | 66        | 105       | 235   |"
   ]
  },
  {
   "cell_type": "markdown",
   "id": "4ba59958",
   "metadata": {},
   "source": [
    "To build such a report with the CubeSharp library, you need to write the following code:"
   ]
  },
  {
   "cell_type": "code",
   "execution_count": null,
   "id": "9ef084c8",
   "metadata": {
    "language_info": {
     "name": "polyglot-notebook"
    },
    "polyglot_notebook": {
     "kernelName": "csharp"
    }
   },
   "outputs": [],
   "source": [
    "// Aggregation definition: calculate sum of Quantity field\n",
    "var aggregationDefinition = AggregationDefinition.CreateForCollection(\n",
    "    orders,\n",
    "    order => order.Quantity,\n",
    "    (a, b) => a + b,\n",
    "    seedValue: 0m);\n",
    "\n",
    "// Rows dimension: use CustomerId field, specify list of values with titles to display,\n",
    "// include total row at the bottom\n",
    "var customerIdDimension = DimensionDefinition\n",
    "    .CreateForCollection(\n",
    "        orders,\n",
    "        order => order.CustomerId,\n",
    "        title: \"Customers\",\n",
    "        IndexDefinition.Create(\"A\", \"Customer A\"),\n",
    "        IndexDefinition.Create(\"B\", \"Customer B\"),\n",
    "        IndexDefinition.Create(\"C\", \"Customer C\"),\n",
    "        IndexDefinition.Create(\"D\", \"Customer D\"))\n",
    "    .WithTrailingDefaultIndex(\"Total\");\n",
    "\n",
    "// Columns dimension: use Year property of OrderDate field,\n",
    "// specify list of values with titles to display, include total column on the right\n",
    "var yearDimension = DimensionDefinition\n",
    "    .CreateForCollection(\n",
    "        orders,\n",
    "        order => order.OrderDate.Year.ToString(),\n",
    "        title: \"Years\",\n",
    "        IndexDefinition.Create(\"2007\", \"2007 Year\"),\n",
    "        IndexDefinition.Create(\"2008\", \"2008 Year\"),\n",
    "        IndexDefinition.Create(\"2009\", \"2009 Year\"))\n",
    "    .WithTrailingDefaultIndex(\"Total\");\n",
    "\n",
    "// Build cube from source collection using aggregation and dimension definitions\n",
    "var cube = orders.BuildCube(aggregationDefinition, customerIdDimension, yearDimension);\n",
    "\n",
    "// Transform cube to table in the form of a collection of dictionaries\n",
    "var report = cube\n",
    "    .BreakdownByDimensions(..^1) // ..^1 - build rows by all dimensions except the last\n",
    "    .Select(row => row\n",
    "        .GetBoundDimensionsAndIndexes()\n",
    "        .Select(dimensionAndIndex => KeyValuePair.Create(\n",
    "            dimensionAndIndex.dimension.Title!,\n",
    "            (object?)dimensionAndIndex.dimension[dimensionAndIndex.index].Title))\n",
    "        .Concat(row\n",
    "            .BreakdownByDimensions(^1) // ^1 - build columns by the last dimension\n",
    "            .Select(column => KeyValuePair.Create(\n",
    "                column.GetBoundIndexDefinition(^1).Title!,\n",
    "                (object?)column.GetValue())))\n",
    "        .ToDictionary(kvp => kvp.Key, kvp => kvp.Value))\n",
    "    .ToList();\n",
    "\n",
    "report.DisplayAsTable();"
   ]
  },
  {
   "cell_type": "markdown",
   "id": "782cf321",
   "metadata": {},
   "source": [
    "For now, it's sufficient to understand how requirements are reflected in this code. All details will be explained in the following sections. The result will be a collection of dictionaries, which in tabular form is equivalent to the desired report."
   ]
  },
  {
   "cell_type": "markdown",
   "id": "45b3881b",
   "metadata": {},
   "source": [
    "## <a id='toc1_5_'></a>[Building Cubes](#toc0_)\n",
    "\n",
    "To build a cube, you need to use the generic extension method `BuildCube(...)` on any collection, providing an aggregation definition and any number of dimension definitions (including zero) as a [parameter array](https://docs.microsoft.com/en-us/dotnet/csharp/language-reference/keywords/params)."
   ]
  },
  {
   "cell_type": "code",
   "execution_count": null,
   "id": "91e6b25b",
   "metadata": {
    "language_info": {
     "name": "polyglot-notebook"
    },
    "polyglot_notebook": {
     "kernelName": "csharp"
    }
   },
   "outputs": [],
   "source": [
    "// Example alternative build orders (requires productDimension demonstration)\n",
    "var productDimension = DimensionDefinition.CreateForCollection(\n",
    "    orders,\n",
    "    o => o.Product,\n",
    "    title: \"Products\",\n",
    "    IndexDefinition.Create(\"X\", \"Product X\"),\n",
    "    IndexDefinition.Create(\"Y\", \"Product Y\"),\n",
    "    IndexDefinition.Create(\"Z\", \"Product Z\"))\n",
    "    .WithTrailingDefaultIndex(\"Total\");\n",
    "\n",
    "orders.BuildCube(aggregationDefinition, customerIdDimension);\n",
    "orders.BuildCube(aggregationDefinition, yearDimension, customerIdDimension);\n",
    "orders.BuildCube(aggregationDefinition, yearDimension, customerIdDimension, productDimension);"
   ]
  },
  {
   "cell_type": "markdown",
   "id": "fb93e4c9",
   "metadata": {},
   "source": [
    "`BuildCube<TSource, TIndex, T>(...)` is a generic method with the following type arguments:\n",
    "- `TSource` - the type of the source collection's item\n",
    "- `TIndex` - the type of dimension index. In the previous example, this is the type of column and row indexes: `order.CustomerId` and `order.OrderDate.Year.ToString()`. The type should be the same for all dimensions. This means that if the data types for rows and columns are different, you need to bring them to a common type - in our case, `string`. That's why `.ToString()` is used for years\n",
    "- `T` - the type of aggregation result, which is basically the type of cube cell. In our example, it's the type of `order.Quantity`, which is inferred as decimal\n",
    "\n",
    "Usually, type arguments are inferred automatically, but when this is impossible (e.g., in the absence of dimensions), you need to specify them explicitly:"
   ]
  },
  {
   "cell_type": "code",
   "execution_count": null,
   "id": "dae879a4",
   "metadata": {
    "language_info": {
     "name": "polyglot-notebook"
    },
    "polyglot_notebook": {
     "kernelName": "csharp"
    }
   },
   "outputs": [],
   "source": [
    "Enumerable.Range(1, 10)\n",
    "    .BuildCube<int, int, int>(\n",
    "        AggregationDefinition.Create((int i) => i, (a, b) => a + b, 0));"
   ]
  },
  {
   "cell_type": "markdown",
   "id": "d4922abb",
   "metadata": {},
   "source": [
    "The order of dimension definition arguments is arbitrary. The `BuildCube(...)` method treats all dimension definitions equally. However, note that the order of dimensions in the resulting cube will be the same as the order of dimension definition arguments.\n",
    "\n",
    "The `BuildCube(...)` method returns a data cube in the form of a `CubeResult` instance. See the [Querying Cubes](#querying-cubes) section for details."
   ]
  },
  {
   "cell_type": "markdown",
   "id": "5920e5ec",
   "metadata": {},
   "source": [
    "### <a id='toc1_5_1_'></a>[Aggregation Definitions](#toc0_)\n",
    "\n",
    "Aggregation (alternatively called measure) specifies how to calculate cube cells. Aggregation definitions can be created with the static method `AggregationDefinition.Create(...)` (or its variations) in the following way:"
   ]
  },
  {
   "cell_type": "code",
   "execution_count": null,
   "id": "c08eb0a0",
   "metadata": {
    "language_info": {
     "name": "polyglot-notebook"
    },
    "polyglot_notebook": {
     "kernelName": "csharp"
    }
   },
   "outputs": [],
   "source": [
    "AggregationDefinition.Create(\n",
    "    (Order order) => order.Quantity,\n",
    "    (decimal a, decimal b) => a + b,\n",
    "    seedValue: 0m);"
   ]
  },
  {
   "cell_type": "markdown",
   "id": "69723de1",
   "metadata": {},
   "source": [
    "The method `AggregationDefinition.Create<TSource, T>(...)` is generic with the following type arguments:\n",
    "- `TSource` - the type of the source collection's item\n",
    "- `T` - the type of aggregation result, which is basically the type of cube cell. In our example, it's the type of `order.Quantity`, which is inferred as decimal\n",
    "\n",
    "The method `AggregationDefinition.Create(...)` has the following parameters:\n",
    "- `valueSelector` - a lambda function (more precisely, an expression) that specifies what field of the source collection will be used for aggregation. In our example, `order => order.Quantity`. If your collection directly contains values of interest, specify just `x => x`. The expression can also include multiple fields, e.g., `order => order.Quantity * order.Amount`\n",
    "- `aggregationFunction` - a lambda function with signature `Func<T, T, T>` that specifies how data should be aggregated (e.g., sum, min, max). For our case, it's `(a, b) => a + b`\n",
    "- `seedValue` - specifies the seed value for aggregation. It also defines the value for cells that don't have matching data\n",
    "\n",
    "The last two arguments correspond to similar arguments of the [LINQ Aggregate method](https://docs.microsoft.com/en-us/dotnet/api/system.linq.enumerable.aggregate?view=netcore-3.1)."
   ]
  },
  {
   "cell_type": "code",
   "execution_count": null,
   "id": "a0193f8f",
   "metadata": {
    "language_info": {
     "name": "polyglot-notebook"
    },
    "polyglot_notebook": {
     "kernelName": "csharp"
    }
   },
   "outputs": [],
   "source": [
    "// Take sum\n",
    "var aggIntSum = AggregationDefinition.Create((int i) => i, (a, b) => a + b, 0);\n",
    "var aggDecimalSum = AggregationDefinition.Create((decimal d) => d, (a, b) => a + b, 0m);\n",
    "\n",
    "// Take product\n",
    "var aggProduct = AggregationDefinition.Create((int i) => i, (a, b) => a * b, 1);\n",
    "\n",
    "// Take minimum\n",
    "var aggMin = AggregationDefinition.Create((int i) => i, (a, b) => Math.Min(a, b), int.MinValue);\n",
    "\n",
    "// Count the elements (by summing 1)\n",
    "var aggCount = AggregationDefinition.Create((int i) => 1, (a, b) => a + b, 0);\n",
    "\n",
    "// Collect items\n",
    "var aggCollect = AggregationDefinition.Create(\n",
    "    (int i)  => new[] { i },\n",
    "    (int[] a, int[] b) => a.Concat(b).ToArray(),\n",
    "    Array.Empty<int>());"
   ]
  },
  {
   "cell_type": "markdown",
   "id": "5f9af62a",
   "metadata": {},
   "source": [
    "If you need to calculate multiple values for each cell, you can create a composite type and use it as the aggregation result type `T`, for instance:"
   ]
  },
  {
   "cell_type": "code",
   "execution_count": null,
   "id": "11ada39d",
   "metadata": {
    "language_info": {
     "name": "polyglot-notebook"
    },
    "polyglot_notebook": {
     "kernelName": "csharp"
    }
   },
   "outputs": [],
   "source": [
    "// Create structure for storing two aggregation values: count and sum\n",
    "struct CountAndSum\n",
    "{\n",
    "    public CountAndSum(int count, decimal sum)\n",
    "    {\n",
    "        Count = count;\n",
    "        Sum = sum;\n",
    "    }\n",
    "\n",
    "    public int Count { get; }\n",
    "\n",
    "    public decimal Sum { get; }\n",
    "\n",
    "    // Define Zero instance for seeding the aggregation\n",
    "    public static CountAndSum Zero => new CountAndSum(0, 0);\n",
    "\n",
    "    // Define Combine function for aggregation\n",
    "    public static CountAndSum Combine(CountAndSum left, CountAndSum right) =>\n",
    "        new CountAndSum(left.Count + right.Count, left.Sum + right.Sum);\n",
    "}\n",
    "\n",
    "// Create aggregation definition for calculating count and sum\n",
    "var aggCountAndSum = AggregationDefinition.Create(\n",
    "    (int i) => new CountAndSum(1, i),\n",
    "    CountAndSum.Combine,\n",
    "    CountAndSum.Zero);"
   ]
  },
  {
   "cell_type": "markdown",
   "id": "4f87bd30",
   "metadata": {},
   "source": [
    "There are several variations of the `AggregationDefinition.Create(...)` method.\n",
    "\n",
    "The method `AggregationDefinition.CreateForDictionaryCollection(...)` is a shortcut that fixes the type of collection elements to `IDictionary<string, object>`, which frees you from specifying this type argument explicitly."
   ]
  },
  {
   "cell_type": "code",
   "execution_count": null,
   "id": "7e87e42e",
   "metadata": {
    "language_info": {
     "name": "polyglot-notebook"
    },
    "polyglot_notebook": {
     "kernelName": "csharp"
    }
   },
   "outputs": [],
   "source": [
    "// Take sum of field Quantity (example ry)\n",
    "Dictionary<string, object>[] dicts = [\n",
    "    new() { [\"Quantity\"] = 5m },\n",
    "    new() { [\"Quantity\"] = 7m },\n",
    "];\n",
    "var dictAgg = AggregationDefinition.CreateForDictionaryCollection(\n",
    "    dict => (decimal)dict[\"Quantity\"], (a, b) => a + b, 0m);"
   ]
  },
  {
   "cell_type": "markdown",
   "id": "824e5083",
   "metadata": {},
   "source": [
    "The method `AggregationDefinition.CreateForCollection(...)` takes a collection as an additional argument, which is used only for type inference. It can also be used for anonymous types, as we have in the example."
   ]
  },
  {
   "cell_type": "code",
   "execution_count": null,
   "id": "dece0f42",
   "metadata": {
    "language_info": {
     "name": "polyglot-notebook"
    },
    "polyglot_notebook": {
     "kernelName": "csharp"
    }
   },
   "outputs": [],
   "source": [
    "// Take sum of field Quantity using CreateForCollection\n",
    "var aggForOrders = AggregationDefinition.CreateForCollection(\n",
    "    orders,\n",
    "    order => order.Quantity,\n",
    "    (decimal a, decimal b) => a + b,\n",
    "    0m);"
   ]
  },
  {
   "cell_type": "markdown",
   "id": "a700c519",
   "metadata": {},
   "source": [
    "### <a id='toc1_5_2_'></a>[Dimension Definitions](#toc0_)\n",
    "\n",
    "Dimension definitions specify which field of the source collection to use and what values of this field we are interested in. Dimension definitions can be created with the static method `DimensionDefinition.Create(...)` (or its variations) in the following way:"
   ]
  },
  {
   "cell_type": "code",
   "execution_count": null,
   "id": "61d0560d",
   "metadata": {
    "language_info": {
     "name": "polyglot-notebook"
    },
    "polyglot_notebook": {
     "kernelName": "csharp"
    }
   },
   "outputs": [],
   "source": [
    "DimensionDefinition.Create(\n",
    "    (Order order) => order.CustomerId,\n",
    "    title: \"Customers\",\n",
    "    IndexDefinition.Create(\"A\", \"Customer A\"),\n",
    "    IndexDefinition.Create(\"B\", \"Customer B\"),\n",
    "    IndexDefinition.Create(\"C\", \"Customer C\"));"
   ]
  },
  {
   "cell_type": "markdown",
   "id": "7c74cb9d",
   "metadata": {},
   "source": [
    "The method `DimensionDefinition.Create<TSource, TIndex>(...)` is generic with the following type arguments:\n",
    "- `TSource` - the type of the source collection's item\n",
    "- `TIndex` - the type of index, which is basically the type of field specified in the `indexSelector` parameter. In our example, it's the type of `order.CustomerId`, which is inferred as string\n",
    "\n",
    "The method `DimensionDefinition.Create(...)` has the following parameters:\n",
    "- `indexSelector` - a lambda function (more precisely, an expression) that specifies which field of the source collection will be used as index. In our example, `order => order.CustomerId`. More generally, `indexSelector` calculates index values based on arbitrary expressions:"
   ]
  },
  {
   "cell_type": "code",
   "execution_count": null,
   "id": "6bb4f41d",
   "metadata": {
    "language_info": {
     "name": "polyglot-notebook"
    },
    "polyglot_notebook": {
     "kernelName": "csharp"
    }
   },
   "outputs": [],
   "source": [
    "DimensionDefinition.Create(\n",
    "    (Order order) => order.OrderDate.Year % 4 == 0 ? \"leap\" : \"nonLeap\",\n",
    "    title: \"Years\",\n",
    "    IndexDefinition.Create(\"leap\", \"Leap years\"),\n",
    "    IndexDefinition.Create(\"nonLeap\", \"Non-leap years\"));"
   ]
  },
  {
   "cell_type": "markdown",
   "id": "af2ba136",
   "metadata": {},
   "source": [
    "- `title` - the title of the dimension, which can be used for data representation in tabular form\n",
    "- `indexDefinitions` - a [variable size parameter](https://docs.microsoft.com/en-us/dotnet/csharp/language-reference/keywords/params) for specifying a collection of index definitions\n",
    "\n",
    "Index definitions are created with the static method `IndexDefinition.Create(...)` in the following way:"
   ]
  },
  {
   "cell_type": "code",
   "execution_count": null,
   "id": "9c134299",
   "metadata": {
    "language_info": {
     "name": "polyglot-notebook"
    },
    "polyglot_notebook": {
     "kernelName": "csharp"
    }
   },
   "outputs": [],
   "source": [
    "IndexDefinition.Create(\"A\", \"Customer A\");"
   ]
  },
  {
   "cell_type": "markdown",
   "id": "9e1e3673",
   "metadata": {},
   "source": [
    "Index values should be unique within the scope of a dimension.\n",
    "\n",
    "Indexes can be organized in a hierarchy, where a parent index corresponds to a subtotal value of its children. Child indexes can be specified as an additional [variable size parameter](https://docs.microsoft.com/en-us/dotnet/csharp/language-reference/keywords/params) of the `IndexDefinition.Create(...)` method:"
   ]
  },
  {
   "cell_type": "code",
   "execution_count": null,
   "id": "52e688c8",
   "metadata": {
    "language_info": {
     "name": "polyglot-notebook"
    },
    "polyglot_notebook": {
     "kernelName": "csharp"
    }
   },
   "outputs": [],
   "source": [
    "IndexDefinition.Create(\n",
    "    \"A\",\n",
    "    title: \"Product category A\",\n",
    "    IndexDefinition.Create(\"A1\", \"Product A1\"),\n",
    "    IndexDefinition.Create(\"A2\", \"Product A2\"));"
   ]
  },
  {
   "cell_type": "markdown",
   "id": "78774387",
   "metadata": {},
   "source": [
    "Dimension definitions implement the [IEnumerable<>](https://docs.microsoft.com/en-us/dotnet/api/system.collections.generic.ienumerable-1?view=netcore-3.1) interface of `IndexDefinition<TIndex>`, which allows you to traverse incorporated index definitions in the specified order. This is useful for building table representations of cubes.\n",
    "\n",
    "For child indexes, they usually follow after the parent index as in the previous example. However, the parent index can be placed after the children with an overload of the `IndexDefinition.Create(...)` method with reversed order of arguments:"
   ]
  },
  {
   "cell_type": "code",
   "execution_count": null,
   "id": "c39aae5f",
   "metadata": {
    "language_info": {
     "name": "polyglot-notebook"
    },
    "polyglot_notebook": {
     "kernelName": "csharp"
    }
   },
   "outputs": [],
   "source": [
    "// Order of indexes:\n",
    "// Product A1\n",
    "// Product A2\n",
    "// Product category A\n",
    "IndexDefinition.Create(\n",
    "    new[] {\n",
    "        IndexDefinition.Create(\"A1\", \"Product A1\"),\n",
    "        IndexDefinition.Create(\"A2\", \"Product A2\"),\n",
    "    },\n",
    "    \"A\",\n",
    "    title: \"Product category A\");"
   ]
  },
  {
   "cell_type": "markdown",
   "id": "0342c9f0",
   "metadata": {},
   "source": [
    "The `default` value (which is the same as `null` for reference and nullable types) of index is reserved for the so-called _Default index_, which contains the total value over the entire dimension and usually represents the total row or column in tabular representation.\n",
    "\n",
    "> **_NOTE:_** If the `default` value conflicts with a usual index value (e.g., `0` value for `integer` type), you can consider converting the index type to nullable (`int?`) or mapping the `default` value to some other value in the `indexSelector` lambda function.\n",
    "\n",
    "The _Default index_ must always be the only root index of a dimension and can have other indexes as children:"
   ]
  },
  {
   "cell_type": "code",
   "execution_count": null,
   "id": "864ef7e7",
   "metadata": {
    "language_info": {
     "name": "polyglot-notebook"
    },
    "polyglot_notebook": {
     "kernelName": "csharp"
    }
   },
   "outputs": [],
   "source": [
    "// Correct\n",
    "DimensionDefinition.Create(\n",
    "    (Order order) => order.CustomerId,\n",
    "    title: \"Customers\",\n",
    "    IndexDefinition.Create(\n",
    "        (string?)default,\n",
    "        title: \"Total\",\n",
    "        IndexDefinition.Create(\"A\", \"Customer A\"),\n",
    "        IndexDefinition.Create(\"B\", \"Customer B\")));\n",
    "\n",
    "// Error example (not executed):\n",
    "// DimensionDefinition.Create(\n",
    "//     order => order.CustomerId,\n",
    "//     title: \"Customers\",\n",
    "//     IndexDefinition.Create((string)default, \"Total\"),\n",
    "//     IndexDefinition.Create(\"A\", \"Customer A\"),\n",
    "//     IndexDefinition.Create(\"B\", \"Customer B\"));"
   ]
  },
  {
   "cell_type": "markdown",
   "id": "a7763cc5",
   "metadata": {},
   "source": [
    "There are shortcuts for creating a default index in an existing dimension in the form of `DimensionDefinition`'s extension methods `.WithLeadingDefaultIndex(...)` and `.WithTrailingDefaultIndex(...)`, which create a new instance of `DimensionDefinition` with a default index and nest all existing indexes as its children:"
   ]
  },
  {
   "cell_type": "code",
   "execution_count": null,
   "id": "1b5edd11",
   "metadata": {
    "language_info": {
     "name": "polyglot-notebook"
    },
    "polyglot_notebook": {
     "kernelName": "csharp"
    }
   },
   "outputs": [],
   "source": [
    "// Order of indexes:\n",
    "// Total\n",
    "// Customer A\n",
    "// Customer B\n",
    "DimensionDefinition\n",
    "    .Create(\n",
    "        (Order order) => order.CustomerId,\n",
    "        title: \"Customers\",\n",
    "        IndexDefinition.Create(\"A\", \"Customer A\"),\n",
    "        IndexDefinition.Create(\"B\", \"Customer B\"))\n",
    "    .WithLeadingDefaultIndex(\"Total\");\n",
    "\n",
    "// Order of indexes:\n",
    "// Customer A\n",
    "// Customer B\n",
    "// Total\n",
    "DimensionDefinition\n",
    "    .Create(\n",
    "        (Order order) => order.CustomerId,\n",
    "        title: \"Customers\",\n",
    "        IndexDefinition.Create(\"A\", \"Customer A\"),\n",
    "        IndexDefinition.Create(\"B\", \"Customer B\"))\n",
    "        .WithTrailingDefaultIndex(\"Total\");"
   ]
  },
  {
   "cell_type": "markdown",
   "id": "6705e426",
   "metadata": {},
   "source": [
    "Sometimes it's useful to have so-called _Default dimensions_, which are dimensions with only the default index. This is a degenerate form of dimension that can be used, for instance, as a placeholder to keep a constant number of dimensions across the code when fewer dimensions are required. Since _Default dimensions_ don't have actual index values, the `indexSelector` parameter (lambda expression) is redundant. There's a shortcut method `DimensionDefinition.CreateDefault(...)` for creating default dimensions:"
   ]
  },
  {
   "cell_type": "code",
   "execution_count": null,
   "id": "9dcac38f",
   "metadata": {
    "language_info": {
     "name": "polyglot-notebook"
    },
    "polyglot_notebook": {
     "kernelName": "csharp"
    }
   },
   "outputs": [],
   "source": [
    "DimensionDefinition.CreateDefault<string, string>(\n",
    "    title: \"Customers\",\n",
    "    indexTitle: \"All customers\");"
   ]
  },
  {
   "cell_type": "markdown",
   "id": "534cab6f",
   "metadata": {},
   "source": [
    "There are several variations of the `DimensionDefinition.Create(...)` method.\n",
    "\n",
    "The method `DimensionDefinition.CreateForDictionaryCollection(...)` is a shortcut that fixes the type of collection elements to `IDictionary<string, object>`, which frees you from specifying this type argument explicitly:"
   ]
  },
  {
   "cell_type": "code",
   "execution_count": null,
   "id": "f977896a",
   "metadata": {
    "language_info": {
     "name": "polyglot-notebook"
    },
    "polyglot_notebook": {
     "kernelName": "csharp"
    }
   },
   "outputs": [],
   "source": [
    "DimensionDefinition.CreateForDictionaryCollection(\n",
    "    dict => (string?)dict[\"CustomerId\"],\n",
    "    title: \"Customers\",\n",
    "    IndexDefinition.Create(\n",
    "        (string?)default,\n",
    "        title: \"Total\",\n",
    "        IndexDefinition.Create(\"A\", \"Customer A\"),\n",
    "        IndexDefinition.Create(\"B\", \"Customer B\")));"
   ]
  },
  {
   "cell_type": "markdown",
   "id": "03565ef4",
   "metadata": {},
   "source": [
    "The method `DimensionDefinition.CreateForCollection(...)` takes a collection as an additional argument, which is used only for type inference. It can also be used for anonymous types, as we have in the example:"
   ]
  },
  {
   "cell_type": "code",
   "execution_count": null,
   "id": "3b0b6892",
   "metadata": {
    "language_info": {
     "name": "polyglot-notebook"
    },
    "polyglot_notebook": {
     "kernelName": "csharp"
    }
   },
   "outputs": [],
   "source": [
    "DimensionDefinition.CreateForCollection(\n",
    "    orders,\n",
    "    order => order.CustomerId,\n",
    "    title: \"Customers\",\n",
    "    IndexDefinition.Create(\n",
    "        (string?)default,\n",
    "        title: \"Total\",\n",
    "        IndexDefinition.Create(\"A\", \"Customer A\"),\n",
    "        IndexDefinition.Create(\"B\", \"Customer B\")));"
   ]
  },
  {
   "cell_type": "markdown",
   "id": "735ddd00",
   "metadata": {},
   "source": [
    "#### <a id='toc1_5_2_1_'></a>[Multi-selection](#toc0_)\n",
    "\n",
    "Sometimes a target entity has a collection of attributes (a common example is informational tags) or is connected to another entity with one-to-many or many-to-many relations. For such cases, there's the method `DimensionDefinition.CreateWithMultiSelector(...)`, which takes an index selector that selects multiple index values in the form of `Func<TSource, IEnumerable<TIndex>>`. There are also variations of this method similar to those described above: `CreateForDictionaryCollectionWithMultiSelector(..)` and `CreateForCollectionWithMultiSelector(...)`.\n",
    "\n",
    "For example:"
   ]
  },
  {
   "cell_type": "code",
   "execution_count": null,
   "id": "37274591",
   "metadata": {
    "language_info": {
     "name": "polyglot-notebook"
    },
    "polyglot_notebook": {
     "kernelName": "csharp"
    }
   },
   "outputs": [],
   "source": [
    "// Example multi-selector dimension (Orders do not have Tags in sample; demonstration only)\n",
    "// Assume an artificial Tags projection (empty array)\n",
    "DimensionDefinition.CreateForCollectionWithMultiSelector(\n",
    "    orders,\n",
    "    order => order.Tags,\n",
    "    title: \"Tags\",\n",
    "    IndexDefinition.Create(\n",
    "        (string?)default,\n",
    "        title: \"Total\",\n",
    "        IndexDefinition.Create(\"Bestseller\", \"Bestseller\"),\n",
    "        IndexDefinition.Create(\"Discount\", \"Discount\")));"
   ]
  },
  {
   "cell_type": "markdown",
   "id": "d1d00fe8",
   "metadata": {},
   "source": [
    "## <a id='toc1_6_'></a>[Querying Cubes](#toc0_)\n",
    "\n",
    "### <a id='toc1_6_1_'></a>[Querying Single Cube Cells](#toc0_)\n",
    "\n",
    "The basic operation for querying cubes is the `GetValue(...)` method of the `CubeResult` class. It returns aggregated data for a specified cube cell. This method takes any number of index values as a [parameter array](https://docs.microsoft.com/en-us/dotnet/csharp/language-reference/keywords/params), each corresponding to the cube's dimensions in the order specified in the `BuildCube(...)` method."
   ]
  },
  {
   "cell_type": "code",
   "execution_count": null,
   "id": "c290a958",
   "metadata": {
    "language_info": {
     "name": "polyglot-notebook"
    },
    "polyglot_notebook": {
     "kernelName": "csharp"
    }
   },
   "outputs": [],
   "source": [
    "var cube2 = orders.BuildCube(aggregationDefinition, customerIdDimension, yearDimension);\n",
    "// Get aggregated value for customer \"A\" and year 2007\n",
    "cube2.GetValue(\"A\", \"2007\").Display();"
   ]
  },
  {
   "cell_type": "markdown",
   "id": "93725083",
   "metadata": {},
   "source": [
    "To get the total by some dimension, you need to specify `default` (which is the same as `null` for reference and nullable types) in the corresponding position."
   ]
  },
  {
   "cell_type": "code",
   "execution_count": null,
   "id": "56a5c8c8",
   "metadata": {
    "language_info": {
     "name": "polyglot-notebook"
    },
    "polyglot_notebook": {
     "kernelName": "csharp"
    }
   },
   "outputs": [],
   "source": [
    "// Get aggregated value for all customers and year 2007\n",
    "var allCustomers2007 = cube2.GetValue(default, \"2007\");\n",
    "// Get aggregated value for customer \"A\" and all years\n",
    "var aAllYears = cube2.GetValue(\"A\", default);\n",
    "// Get aggregated value for all records\n",
    "var totalAll = cube2.GetValue(default, default);\n",
    "\n",
    "new { allCustomers2007, aAllYears, totalAll }.Display();"
   ]
  },
  {
   "cell_type": "markdown",
   "id": "9ffe44de",
   "metadata": {},
   "source": [
    "As a shorthand, you can also omit trailing `default` index values:"
   ]
  },
  {
   "cell_type": "code",
   "execution_count": null,
   "id": "09c7db1a",
   "metadata": {
    "language_info": {
     "name": "polyglot-notebook"
    },
    "polyglot_notebook": {
     "kernelName": "csharp"
    }
   },
   "outputs": [],
   "source": [
    "// The same as cube2.GetValue(\"A\", default)\n",
    "var aTotalShorthand = cube2.GetValue(\"A\");\n",
    "// The same as cube2.GetValue(default, default) or cube2.GetValue(default)\n",
    "var totalShorthand = cube2.GetValue();\n",
    "new { aTotalShorthand, totalShorthand }.Display();"
   ]
  },
  {
   "cell_type": "markdown",
   "id": "b3aee7e5",
   "metadata": {},
   "source": [
    "> **_NOTE:_** Omitting trailing default indexes allows you to write generic code that doesn't depend on the actual number of dimensions. For instance, `cube.GetValue()` gets the total value for any cube, `cube.GetValue(index)` gets a specific value by index in the first dimension, provided that the cube has at least one dimension. See more details in the section [Generic Cube Operations](#generic-cube-operations).\n",
    "\n",
    "The `GetValue(...)` method always returns a result, unless the number of specified parameters is greater than the number of cube's dimensions, which can be retrieved by the property `CubeResult.FreeDimensionCount`. When one or more indexes are not included in the dimension's index definitions, the result will be the `seedValue` specified in the aggregation definition."
   ]
  },
  {
   "cell_type": "code",
   "execution_count": null,
   "id": "82d0e4d2",
   "metadata": {
    "language_info": {
     "name": "polyglot-notebook"
    },
    "polyglot_notebook": {
     "kernelName": "csharp"
    }
   },
   "outputs": [],
   "source": [
    "// Returns 0 if index not in definitions (demonstration)\n",
    "var notExistingCustomer = cube2.GetValue(\"Z\", \"2007\");\n",
    "var notExistingYear = cube2.GetValue(\"A\", \"1999\");\n",
    "new { notExistingCustomer, notExistingYear }.Display();"
   ]
  },
  {
   "cell_type": "markdown",
   "id": "8f730027",
   "metadata": {},
   "source": [
    "### <a id='toc1_6_2_'></a>[Slicing Cubes](#toc0_)\n",
    "\n",
    "The _slice_ operation can be intuitively considered as pinning the indexes for some dimensions. Compare different ways to achieve the same result:"
   ]
  },
  {
   "cell_type": "code",
   "execution_count": null,
   "id": "cbb002b7",
   "metadata": {
    "language_info": {
     "name": "polyglot-notebook"
    },
    "polyglot_notebook": {
     "kernelName": "csharp"
    }
   },
   "outputs": [],
   "source": [
    "// Get aggregated value for customer \"A\" and year 2007\n",
    "var v1 = cube2.GetValue(\"A\", \"2007\");\n",
    "// vs\n",
    "var v2 = cube2[\"A\"].GetValue(\"2007\");\n",
    "// vs\n",
    "var v3 = cube2[\"A\"][\"2007\"].GetValue();\n",
    "\n",
    "new { v1, v2, v3 }.Display();"
   ]
  },
  {
   "cell_type": "code",
   "execution_count": null,
   "id": "98c33272",
   "metadata": {
    "language_info": {
     "name": "polyglot-notebook"
    },
    "polyglot_notebook": {
     "kernelName": "csharp"
    }
   },
   "outputs": [],
   "source": [
    "// Get aggregated value for customer \"A\" and years 2007 and 2008 via slicing\n",
    "var sliceA = cube2[\"A\"];\n",
    "var a2007Again = sliceA.GetValue(\"2007\");\n",
    "var a2008 = sliceA.GetValue(\"2008\");\n",
    "\n",
    "new { a2007Again, a2008 }.Display();"
   ]
  },
  {
   "cell_type": "markdown",
   "id": "d2dbffab",
   "metadata": {},
   "source": [
    "In these examples, we apply the _slice_ operation using the index operator `[]`.\n",
    "\n",
    "More formally, _slice_ is the operation of extracting an _(n-k)_-dimensional cube from an _n_-dimensional cube by picking values for _k_ dimensions (_k = 1_ in the most usual case).\n",
    "\n",
    "The slice operation can be applied with the indexing operator `[]` of the `CubeResult` class (as in examples above) or the more general `Slice(...)` method. This method allows slicing by multiple dimensions in arbitrary order, whereas the indexing operator `[]` only allows slicing by the first free dimension. The dimension number to slice by can be specified as a value of type [Index](https://docs.microsoft.com/en-us/dotnet/csharp/tutorials/ranges-indexes#language-support-for-indices-and-ranges), which is convertible to _int_ type."
   ]
  },
  {
   "cell_type": "code",
   "execution_count": null,
   "id": "f8de811e",
   "metadata": {
    "language_info": {
     "name": "polyglot-notebook"
    },
    "polyglot_notebook": {
     "kernelName": "csharp"
    }
   },
   "outputs": [],
   "source": [
    "var sliceByCustomerA = cube2.Slice(0, \"A\");\n",
    "var sliceByYear2007 = cube2.Slice(1, \"2007\");\n",
    "var sliceByYear2007Alt = cube2.Slice(^1, \"2007\");\n",
    "new {\n",
    "    sliceByCustomerATotalValue = sliceByCustomerA.GetValue(),\n",
    "    sliceByYear2007TotalValue = sliceByYear2007.GetValue(),\n",
    "    sliceByYear2007AltTotalValue = sliceByYear2007Alt.GetValue()\n",
    "}.Display();"
   ]
  },
  {
   "cell_type": "markdown",
   "id": "d37a7cb7",
   "metadata": {},
   "source": [
    "To slice by multiple dimensions at once, you can use overloads of the `Slice(...)` method, which take multiple indexes or multiple pairs of dimension numbers and indexes as a [parameter array](https://docs.microsoft.com/en-us/dotnet/csharp/language-reference/keywords/params)."
   ]
  },
  {
   "cell_type": "code",
   "execution_count": null,
   "id": "484f730f",
   "metadata": {
    "language_info": {
     "name": "polyglot-notebook"
    },
    "polyglot_notebook": {
     "kernelName": "csharp"
    }
   },
   "outputs": [],
   "source": [
    "var sliceA2007_1 = cube2.Slice(\"A\", \"2007\");\n",
    "var sliceA2007_2 = cube2.Slice((0, \"A\"), (1, \"2007\"));\n",
    "var sliceA2007_3 = cube2.Slice((1, \"2007\"), (0, \"A\"));\n",
    "new {\n",
    "    sliceA2007TotalValue_1 = sliceA2007_1.GetValue(),\n",
    "    sliceA2007TotalValue_2 = sliceA2007_2.GetValue(),\n",
    "    sliceA2007TotalValue_3 = sliceA2007_3.GetValue()\n",
    "}.Display();"
   ]
  },
  {
   "cell_type": "markdown",
   "id": "6da54f63",
   "metadata": {},
   "source": [
    "Applied indexes and corresponding _bound_ dimensions are stored in the result of the _slice_ operation and can be retrieved as a collection of pairs with the method `GetBoundDimensionsAndIndexes()` or separately by methods `GetBoundDimension(...)` and `GetBoundIndex(...)` by the number of the _bound_ dimension."
   ]
  },
  {
   "cell_type": "code",
   "execution_count": null,
   "id": "98b70efd",
   "metadata": {
    "language_info": {
     "name": "polyglot-notebook"
    },
    "polyglot_notebook": {
     "kernelName": "csharp"
    }
   },
   "outputs": [],
   "source": [
    "var sliceByCustomerIdA = cube2[\"A\"];\n",
    "var boundA = sliceByCustomerIdA.GetBoundDimensionsAndIndexes();\n",
    "var sliceYear = cube2.Slice(1, \"2007\");\n",
    "var boundYear = sliceYear.GetBoundDimensionsAndIndexes();\n",
    "new { boundALength = boundA.Length, boundYearLength = boundYear.Length }.Display();"
   ]
  },
  {
   "cell_type": "markdown",
   "id": "d62b7d3a",
   "metadata": {},
   "source": [
    "Notice that the result of the `Slice(...)` method is a cube with fewer free dimensions and possibly shifted dimension numbers:"
   ]
  },
  {
   "cell_type": "code",
   "execution_count": null,
   "id": "3452b80f",
   "metadata": {
    "language_info": {
     "name": "polyglot-notebook"
    },
    "polyglot_notebook": {
     "kernelName": "csharp"
    }
   },
   "outputs": [],
   "source": [
    "var sliceCustomerA = cube2.Slice(0, \"A\");\n",
    "// After slicing, only year dimension is free (now number 0 in the slice)\n",
    "var sliceCustomerA2007 = sliceCustomerA.Slice(0, \"2007\");\n",
    "\n",
    "sliceCustomerA2007.GetValue().Display();"
   ]
  },
  {
   "cell_type": "markdown",
   "id": "637a2cdd",
   "metadata": {},
   "source": [
    "### <a id='toc1_6_3_'></a>[Breakdown Operations](#toc0_)\n",
    "\n",
    "The _breakdown_ operation allows you to create a collection of slices by all indexes of one or many dimensions.\n",
    "\n",
    "Returning to the starting example, remember that we need to build a report with customer IDs as rows. Since every row of the report corresponds to a cube slice by a specific customer ID, we need to have a collection of cube slices by all customer IDs. Since we already defined all customer IDs of interest in the dimension definition, we have an option to enumerate them. The breakdown operation is just a combination of enumerating dimension indexes and slicing the cube by each of them.\n",
    "\n",
    "The _breakdown_ operation is implemented in `BreakdownByDimensions(...)` extension methods of the `CubeResult` class. These methods take one or many free dimension numbers as a [parameter array](https://docs.microsoft.com/en-us/dotnet/csharp/language-reference/keywords/params). There's also an overload that takes a range of dimension numbers as a [Range](https://docs.microsoft.com/en-us/dotnet/csharp/language-reference/proposals/csharp-8.0/ranges) instance. As a result, `BreakdownByDimensions(...)` methods return a collection of cube slices in the form of instances of the `CubeResult` class, one per each index definition including totals. More generally, when many dimensions are specified, the result will be a collection of cube slices corresponding to all combinations of index definitions of the specified dimensions."
   ]
  },
  {
   "cell_type": "code",
   "execution_count": null,
   "id": "f42c202e",
   "metadata": {
    "language_info": {
     "name": "polyglot-notebook"
    },
    "polyglot_notebook": {
     "kernelName": "csharp"
    }
   },
   "outputs": [],
   "source": [
    "// Returns collection of all slices by customer IDs\n",
    "var slicesCustomers = cube2.BreakdownByDimensions(0);\n",
    "// Returns collection of all slices by years\n",
    "var slicesYears = cube2.BreakdownByDimensions(1);\n",
    "// Returns collection of all slices by customer IDs and years\n",
    "var slicesCustomersYears = cube2.BreakdownByDimensions(0, 1);\n",
    "\n",
    "new {\n",
    "    slicesCustomersCount = slicesCustomers.Count(),\n",
    "    slicesYearsCount = slicesYears.Count(),\n",
    "    slicesCustomersYearsCount = slicesCustomersYears.Count()\n",
    "}.Display();"
   ]
  },
  {
   "cell_type": "markdown",
   "id": "813fd602",
   "metadata": {},
   "source": [
    "### <a id='toc1_6_4_'></a>[Generic Cube Operations](#toc0_)\n",
    "\n",
    "Let's return to the initial example in [Getting Started](#getting-started), where we created a tabular report using the cube:"
   ]
  },
  {
   "cell_type": "code",
   "execution_count": null,
   "id": "1385fd8e",
   "metadata": {
    "language_info": {
     "name": "polyglot-notebook"
    },
    "polyglot_notebook": {
     "kernelName": "csharp"
    }
   },
   "outputs": [],
   "source": [
    "var cube3 = orders.BuildCube(aggregationDefinition, customerIdDimension, yearDimension);"
   ]
  },
  {
   "cell_type": "markdown",
   "id": "6341a843",
   "metadata": {},
   "source": [
    "Let's look again at probably the most obscure part, which builds the report from the cube:"
   ]
  },
  {
   "cell_type": "code",
   "execution_count": null,
   "id": "1cb829d0",
   "metadata": {
    "language_info": {
     "name": "polyglot-notebook"
    },
    "polyglot_notebook": {
     "kernelName": "csharp"
    }
   },
   "outputs": [],
   "source": [
    "cube3\n",
    "    .BreakdownByDimensions(..^1) // ..^1 - build rows by all dimensions except the last\n",
    "    .Select(row => row\n",
    "        .GetBoundDimensionsAndIndexes()\n",
    "        .Select(dimensionAndIndex => KeyValuePair.Create(\n",
    "            dimensionAndIndex.dimension.Title!,\n",
    "            (object?)dimensionAndIndex.dimension[dimensionAndIndex.index].Title))\n",
    "        .Concat(row\n",
    "            .BreakdownByDimensions(^1) // ^1 - first from end\n",
    "            .Select(column => KeyValuePair.Create(\n",
    "                column.GetBoundIndexDefinition(^1).Title!,\n",
    "                (object?)column.GetValue())))\n",
    "        .ToDictionary(kvp => kvp.Key, kvp => kvp.Value))\n",
    "    .DisplayAsTable();"
   ]
  },
  {
   "cell_type": "markdown",
   "id": "c548e3bc",
   "metadata": {},
   "source": [
    "Notice that this code doesn't depend on any specific cube or concrete definitions. It builds a tabular report in which rows correspond to all dimensions except the last, and columns correspond to the last dimension. This is due to the fact that a `CubeResult` instance contains all necessary information and meta-information to create such a report. It illustrates the idea that it's possible to create generic transformations of any cube to particular representations, such as collections, tables, or trees.\n",
    "\n",
    "Let's create a generic transformation of cube to table similar to what's demonstrated in the example.\n",
    "\n",
    "For a start, we can build a single table row in the form of a dictionary, where keys correspond to indexes (e.g., in dimension `0` (customerId)) and values contain aggregated values:"
   ]
  },
  {
   "cell_type": "code",
   "execution_count": null,
   "id": "bb0a1e44",
   "metadata": {
    "language_info": {
     "name": "polyglot-notebook"
    },
    "polyglot_notebook": {
     "kernelName": "csharp"
    }
   },
   "outputs": [],
   "source": [
    "cube3\n",
    "    .BreakdownByDimensions(0) // use dimension 0 (customerId) for columns\n",
    "    .Select(column => KeyValuePair.Create( // create KeyValuePair instance for each column\n",
    "        column.GetBoundIndexDefinition(^1).Title, // use title of last bound index for key\n",
    "        column.GetValue())) // use value for dictionary value\n",
    "    .ToDictionary(kvp => kvp.Key, kvp => kvp.Value)\n",
    "    .Display();"
   ]
  },
  {
   "cell_type": "markdown",
   "id": "35e6d852",
   "metadata": {},
   "source": [
    "We can generalize this code snippet to a reusable method by extracting `cubeResult` and `columnDimensionNumber` parameters:"
   ]
  },
  {
   "cell_type": "code",
   "execution_count": null,
   "id": "f90729a9",
   "metadata": {
    "language_info": {
     "name": "polyglot-notebook"
    },
    "polyglot_notebook": {
     "kernelName": "csharp"
    }
   },
   "outputs": [],
   "source": [
    "IDictionary<string, object?> GetTableBodyColumns<TIndex, T>(\n",
    "    CubeResult<TIndex, T> cubeResult, Index columnDimensionNumber)\n",
    "    where TIndex : notnull =>\n",
    "cubeResult\n",
    "    .BreakdownByDimensions(columnDimensionNumber)\n",
    "    .Select(column => KeyValuePair.Create(\n",
    "        column.GetBoundIndexDefinition(^1).Title!,\n",
    "        (object?)column.GetValue()))\n",
    "    .ToDictionary(kvp => kvp.Key, kvp => kvp.Value);\n",
    "\n",
    "// Example of call\n",
    "GetTableBodyColumns(cube3, 0).Display();"
   ]
  },
  {
   "cell_type": "markdown",
   "id": "1a5ee55d",
   "metadata": {},
   "source": [
    "Now let's outline the rows of our report. Each row will correspond to an index (e.g., in dimension `0` (customerId)) and will be represented by a single-entry dictionary with the aggregated value for the corresponding index:"
   ]
  },
  {
   "cell_type": "code",
   "execution_count": null,
   "id": "e3041dc2",
   "metadata": {
    "language_info": {
     "name": "polyglot-notebook"
    },
    "polyglot_notebook": {
     "kernelName": "csharp"
    }
   },
   "outputs": [],
   "source": [
    "cube3\n",
    "    .BreakdownByDimensions(0)\n",
    "    .Select(row =>\n",
    "        new[] { KeyValuePair.Create(\"Value\", (object)row.GetValue()) }\n",
    "            .ToDictionary(kvp => kvp.Key, kvp => kvp.Value))\n",
    "    .DisplayAsTable();"
   ]
  },
  {
   "cell_type": "markdown",
   "id": "fbd297f2",
   "metadata": {},
   "source": [
    "The method `BreakdownByDimensions(...)` takes multiple dimension numbers (as an array or [range](https://docs.microsoft.com/en-us/dotnet/csharp/language-reference/proposals/csharp-8.0/ranges)), so it's possible to create a table by multiple dimensions as rows:"
   ]
  },
  {
   "cell_type": "code",
   "execution_count": null,
   "id": "78c65dab",
   "metadata": {
    "language_info": {
     "name": "polyglot-notebook"
    },
    "polyglot_notebook": {
     "kernelName": "csharp"
    }
   },
   "outputs": [],
   "source": [
    "// Creates collection of total values for all combinations of customerID and year (including totals)\n",
    "cube3\n",
    "    .BreakdownByDimensions(..) // build rows by all dimensions\n",
    "    .Select(row => new[] { KeyValuePair.Create(\"Value\", (object)row.GetValue()) }\n",
    "        .ToDictionary(kvp => kvp.Key, kvp => kvp.Value))\n",
    "    .Count()"
   ]
  },
  {
   "cell_type": "markdown",
   "id": "73311b84",
   "metadata": {},
   "source": [
    "To add header columns, we can use the method `CubeResult.GetBoundDimensionsAndIndexes(...)`, which returns a collection of pairs of bound dimension and index. Each such pair can be transformed to a `KeyValuePair<string, object>` with the dimension title as key and index title as value:"
   ]
  },
  {
   "cell_type": "code",
   "execution_count": null,
   "id": "043fff35",
   "metadata": {
    "language_info": {
     "name": "polyglot-notebook"
    },
    "polyglot_notebook": {
     "kernelName": "csharp"
    }
   },
   "outputs": [],
   "source": [
    "cube3\n",
    "    .BreakdownByDimensions(0)\n",
    "    .Select(row => row\n",
    "        .GetBoundDimensionsAndIndexes() // get collection of pairs of bound dimension and index\n",
    "        .Select(dimensionAndIndex => KeyValuePair.Create( // create header column\n",
    "            dimensionAndIndex.dimension.Title!, // use dimension title for key\n",
    "            (object?)dimensionAndIndex.dimension[dimensionAndIndex.index].Title)) // use index title for value\n",
    "        .Concat(new[] { KeyValuePair.Create(\"Value\", (object?)row.GetValue()) })\n",
    "        .ToDictionary(kvp => kvp.Key, kvp => kvp.Value))\n",
    "    .DisplayAsTable();"
   ]
  },
  {
   "cell_type": "markdown",
   "id": "f0553b7f",
   "metadata": {},
   "source": [
    "We can similarly generalize the code snippet above to a reusable method by extracting the parameters `cubeResult`, `rowDimensions`, `getHeaderColumns` (function returning header columns from row cube slice), and `getBodyColumns` (function returning body columns from row cube slice) and extract the `GetTableHeaderColumns()` function:"
   ]
  },
  {
   "cell_type": "code",
   "execution_count": null,
   "id": "52b2cbf5",
   "metadata": {
    "language_info": {
     "name": "polyglot-notebook"
    },
    "polyglot_notebook": {
     "kernelName": "csharp"
    }
   },
   "outputs": [],
   "source": [
    "#nullable enable\n",
    "\n",
    "IEnumerable<IDictionary<string, object?>> GetTable<TIndex, T>(\n",
    "    CubeResult<TIndex, T> cubeResult,\n",
    "    Range rowDimensions,\n",
    "    Func<CubeResult<TIndex, T>, IDictionary<string, object?>> getHeaderColumns,\n",
    "    Func<CubeResult<TIndex, T>, IDictionary<string, object?>> getBodyColumns)\n",
    "    where TIndex : notnull =>\n",
    "    from row in cubeResult.BreakdownByDimensions(rowDimensions)\n",
    "    select getHeaderColumns(row)\n",
    "        .Concat(getBodyColumns(row)) // get body columns\n",
    "        .ToDictionary(kvp => kvp.Key, kvp => kvp.Value);\n",
    "\n",
    "IDictionary<string, object?> GetTableHeaderColumns<TIndex, T>(CubeResult<TIndex, T> row)\n",
    "    where TIndex : notnull =>\n",
    "    row.GetBoundDimensionsAndIndexes()\n",
    "        .Select(dimensionAndIndex => KeyValuePair.Create(\n",
    "            dimensionAndIndex.dimension.Title!,\n",
    "            (object?)dimensionAndIndex.dimension[dimensionAndIndex.index].Title))\n",
    "        .ToDictionary(kvp => kvp.Key, kvp => kvp.Value);\n",
    "\n",
    "// Example of call\n",
    "GetTable(\n",
    "    cube3,\n",
    "    ..^1, // ..^1 - build rows by all dimensions except the last\n",
    "    GetTableHeaderColumns,\n",
    "    row => new Dictionary<string, object?> { [\"Value\"] = (object)row.GetValue() })\n",
    ".DisplayAsTable();"
   ]
  },
  {
   "cell_type": "markdown",
   "id": "9728f4a2",
   "metadata": {},
   "source": [
    "Now let's put everything together: call the extracted method `GetTable(...)` using the extracted method `GetTableBodyColumns(...)` for generating body columns:"
   ]
  },
  {
   "cell_type": "code",
   "execution_count": null,
   "id": "279a863b",
   "metadata": {
    "language_info": {
     "name": "polyglot-notebook"
    },
    "polyglot_notebook": {
     "kernelName": "csharp"
    }
   },
   "outputs": [],
   "source": [
    "GetTable(\n",
    "    cube3,\n",
    "    ..^1, // ..^1 - build rows by all dimensions except the last\n",
    "    GetTableHeaderColumns,\n",
    "    row => GetTableBodyColumns(row, ^1)) // ^1 - build columns by the last dimension\n",
    ".DisplayAsTable();"
   ]
  },
  {
   "cell_type": "markdown",
   "metadata": {},
   "source": [
    "If we inline the code of the extracted generic methods, we'll get code similar to the initial example.\n",
    "\n",
    "As a result, we managed to build the desired report and created reusable generic methods that allow us to create similar reports."
   ]
  }
 ],
 "metadata": {
  "kernelspec": {
   "display_name": ".NET (C#)",
   "language": "C#",
   "name": ".net-csharp"
  },
  "language_info": {
   "name": "polyglot-notebook",
   "version": "12.0"
  },
  "polyglot_notebook": {
   "kernelInfo": {
    "defaultKernelName": "csharp",
    "items": [
     {
      "aliases": [],
      "name": "csharp"
     }
    ]
   }
  }
 },
 "nbformat": 4,
 "nbformat_minor": 5
}
