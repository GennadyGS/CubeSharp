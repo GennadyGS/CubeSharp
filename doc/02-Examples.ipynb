{
 "cells": [
  {
   "cell_type": "markdown",
   "id": "c46a93de",
   "metadata": {},
   "source": [
    "# <a id='toc1_'></a>[CubeSharp Examples](#toc0_)\n",
    "\n",
    "Task-oriented, progressively complex usage scenarios. See 01-Tutorial.ipynb for the conceptual walkthrough."
   ]
  },
  {
   "cell_type": "markdown",
   "id": "46b79d1d",
   "metadata": {},
   "source": [
    "**Table of Contents**<a id='toc0_'></a>    \n",
    "- [CubeSharp Examples](#toc1_)    \n",
    "  - [Prerequisites](#toc1_1_)    \n",
    "    - [Helper Functions](#toc1_1_1_)    \n",
    "      - [Visualization helpers](#toc1_1_1_1_)    \n",
    "      - [Cube -> Table helper](#toc1_1_1_2_)    \n",
    "  - [Sample Data](#toc1_2_)    \n",
    "  - [1D Report: Total quantity per customer](#toc1_3_)    \n",
    "  - [2D Report: Quantity per year per customer](#toc1_4_)    \n",
    "  - [2D Report: Quantity per tag per year (multi-selection)](#toc1_5_)    \n",
    "  - [3D Report: EmployeeId x CustomerId x Year](#toc1_6_)    \n",
    "  - [Zero / simple aggregation examples](#toc1_7_)    \n",
    "  - [Modulus dimension examples](#toc1_8_)    \n",
    "\n",
    "<!-- vscode-jupyter-toc-config\n",
    "\tnumbering=false\n",
    "\tanchor=true\n",
    "\tflat=false\n",
    "\tminLevel=1\n",
    "\tmaxLevel=6\n",
    "\t/vscode-jupyter-toc-config -->\n",
    "<!-- THIS CELL WILL BE REPLACED ON TOC UPDATE. DO NOT WRITE YOUR TEXT IN THIS CELL -->"
   ]
  },
  {
   "cell_type": "markdown",
   "id": "0d92c358",
   "metadata": {},
   "source": [
    "## <a id='toc1_1_'></a>[Prerequisites](#toc0_)\n",
    "This cell installs required NuGet packages and sets up global using directives."
   ]
  },
  {
   "cell_type": "code",
   "execution_count": null,
   "id": "4d5ea7ec",
   "metadata": {
    "polyglot_notebook": {
     "kernelName": "csharp"
    }
   },
   "outputs": [],
   "source": [
    "// Dependencies\n",
    "#r \"nuget: CubeSharp, 99.0.0.3-alpha\"\n",
    "\n",
    "using CubeSharp;\n"
   ]
  },
  {
   "cell_type": "markdown",
   "id": "69776e4e",
   "metadata": {},
   "source": [
    "### <a id='toc1_1_1_'></a>[Helper Functions](#toc0_)"
   ]
  },
  {
   "cell_type": "markdown",
   "id": "f359f6bf",
   "metadata": {},
   "source": [
    "#### <a id='toc1_1_1_1_'></a>[Visualization helpers](#toc0_)"
   ]
  },
  {
   "cell_type": "code",
   "execution_count": null,
   "id": "47737c52",
   "metadata": {
    "polyglot_notebook": {
     "kernelName": "csharp"
    }
   },
   "outputs": [],
   "source": [
    "#r \"nuget: Microsoft.Data.Analysis, 0.21.0\"\n",
    "#nullable enable\n",
    "\n",
    "using System;\n",
    "using System.Collections.Generic;\n",
    "using System.Linq;\n",
    "using System.Reflection;\n",
    "using Microsoft.Data.Analysis;\n",
    "\n",
    "public static void Display(this object? obj) => display(obj);\n",
    "public static void DisplayAsTable(this IEnumerable<IDictionary<string, object?>> rows) => display(rows.ToDataFrame());\n",
    "public static IDictionary<string, object?> ObjectToDictionary(this object obj) =>\n",
    "    obj.GetType().GetProperties(BindingFlags.Public | BindingFlags.Instance)\n",
    "        .ToDictionary(prop => prop.Name, prop => prop.GetValue(obj, null));\n",
    "private static DataFrame ToDataFrame(this IEnumerable<IDictionary<string, object?>> source)\n",
    "{\n",
    "    var props = source.FirstOrDefault()?.Keys ?? [];\n",
    "    var columns = props.Select(p => new StringDataFrameColumn(p)).ToList();\n",
    "    var result = new DataFrame(columns);\n",
    "    foreach (var item in source)\n",
    "    {\n",
    "        result.Append(props.ToDictionary(p => p, p => GetDisplayedValue(item[p])), true);\n",
    "    }\n",
    "    return result;\n",
    "    static object? GetDisplayedValue(object? value) => value switch\n",
    "    {\n",
    "        IEnumerable<object> values => $\"[{values.JoinStrings(\", \" )}]\",\n",
    "        _ => value\n",
    "    };\n",
    "}\n",
    "private static string JoinStrings(this IEnumerable<object?> strings, string separator) => string.Join(separator, strings);\n"
   ]
  },
  {
   "cell_type": "markdown",
   "id": "5120de08",
   "metadata": {},
   "source": [
    "#### <a id='toc1_1_1_2_'></a>[Cube -> Table helper](#toc0_)"
   ]
  },
  {
   "cell_type": "code",
   "execution_count": null,
   "id": "ebc8be37",
   "metadata": {
    "polyglot_notebook": {
     "kernelName": "csharp"
    }
   },
   "outputs": [],
   "source": [
    "#nullable enable\n",
    "public static IEnumerable<IDictionary<string, object?>> ToTable<TIndex, T>(\n",
    "    this CubeResult<TIndex, T> cubeResult, Index[] rowDimensionNumbers, Index[] columnDimensionNumbers) where TIndex : notnull\n",
    "{\n",
    "    if (rowDimensionNumbers.Concat(columnDimensionNumbers).GroupBy(x => x).Any(g => g.Count() > 1))\n",
    "    {\n",
    "        throw new InvalidOperationException(\"Duplicated indexes are not allowed\");\n",
    "    }\n",
    "    var shiftedColumnIndexes =\n",
    "        ShiftIndexes(columnDimensionNumbers, rowDimensionNumbers, cubeResult.FreeDimensionCount);\n",
    "    return cubeResult\n",
    "        .BreakdownByDimensions(rowDimensionNumbers)\n",
    "        .Select(row => row\n",
    "            .GetBoundDimensionsAndIndexes()\n",
    "            .Select(item => KeyValuePair.Create(\n",
    "                item.dimension.Title ?? string.Empty,\n",
    "                (object?)item.dimension[item.index].Title ?? item.index))\n",
    "            .Concat(row\n",
    "                .BreakdownByDimensions(shiftedColumnIndexes)\n",
    "                .Select(column => KeyValuePair.Create(\n",
    "                    column\n",
    "                        .GetBoundDimensionsAndIndexes()[^columnDimensionNumbers.Length ..]\n",
    "                        .Select(item => item.dimension[item.index].Title ?? item.index?.ToString())\n",
    "                        .DefaultIfEmpty(\"value\")\n",
    "                        .JoinStrings(\".\"),\n",
    "                    (object?)column.GetValue())))\n",
    "            .ToDictionary(kvp => kvp.Key, kvp => kvp.Value));\n",
    "}\n",
    "private static Index[] ShiftIndexes(Index[] indexes, Index[] precedingIndexes, int length) =>\n",
    "    indexes\n",
    "        .Select(index => index.GetOffset(length))\n",
    "        .Select(index =>\n",
    "            index - precedingIndexes.Count(i => i.GetOffset(length) < index))\n",
    "        .Select(dimensionNumber => (Index)dimensionNumber)\n",
    "        .ToArray();\n"
   ]
  },
  {
   "cell_type": "markdown",
   "id": "98b59b79",
   "metadata": {},
   "source": [
    "\n",
    "## <a id='toc1_2_'></a>[Sample Data](#toc0_)"
   ]
  },
  {
   "cell_type": "code",
   "execution_count": null,
   "id": "b0dc0a02",
   "metadata": {
    "polyglot_notebook": {
     "kernelName": "csharp"
    }
   },
   "outputs": [],
   "source": [
    "var orders = new [] {\n",
    "    new { OrderDate = new DateTime(2007, 08, 02), Product = \"X\", EmployeeId = 3, CustomerId = \"A\", Quantity = 10m, Tags = new [] { \"Discount\", \"Retail\" } },\n",
    "    new { OrderDate = new DateTime(2007, 12, 24), Product = \"X\", EmployeeId = 3, CustomerId = \"A\", Quantity = 12m, Tags = new [] { \"Retail\", \"BestSeller\" } },\n",
    "    new { OrderDate = new DateTime(2007, 12, 24), Product = \"Y\", EmployeeId = 1, CustomerId = \"B\", Quantity = 20m, Tags = new [] { \"Discount\", \"Retail\", \"New\", \"Season\", \"BestSeller\" } },\n",
    "    new { OrderDate = new DateTime(2008, 01, 09), Product = \"Z\", EmployeeId = 2, CustomerId = \"A\", Quantity = 40m, Tags = new [] { \"BestSeller\" } },\n",
    "    new { OrderDate = new DateTime(2008, 01, 18), Product = \"Z\", EmployeeId = 1, CustomerId = \"C\", Quantity = 14m, Tags = new [] { \"Discount\", \"New\", \"BestSeller\" } },\n",
    "    new { OrderDate = new DateTime(2008, 02, 12), Product = \"Z\", EmployeeId = 2, CustomerId = \"B\", Quantity = 12m, Tags = new [] { \"Retail\" } },\n",
    "    new { OrderDate = new DateTime(2009, 02, 12), Product = \"X\", EmployeeId = 3, CustomerId = \"A\", Quantity = 10m, Tags = new string[] {} },\n",
    "    new { OrderDate = new DateTime(2009, 02, 16), Product = \"X\", EmployeeId = 1, CustomerId = \"C\", Quantity = 20m, Tags = new [] { \"New\" } },\n",
    "    new { OrderDate = new DateTime(2009, 04, 18), Product = \"Z\", EmployeeId = 2, CustomerId = \"B\", Quantity = 15m, Tags = new [] { \"Discount\", \"BestSeller\" } },\n",
    "    new { OrderDate = new DateTime(2007, 04, 18), Product = \"X\", EmployeeId = 3, CustomerId = \"C\", Quantity = 22m, Tags = new [] { \"Discount\", \"Retail\", \"New\", \"Season\" } },\n",
    "    new { OrderDate = new DateTime(2009, 09, 07), Product = \"Y\", EmployeeId = 3, CustomerId = \"D\", Quantity = 30m, Tags = new [] { \"Retail\", \"New\", \"Season\", \"BestSeller\" } },\n",
    "    new { OrderDate = new DateTime(2009, 09, 07), Product = (string)null, EmployeeId = 3, CustomerId = \"D\", Quantity = 30m, Tags = new [] { \"Discount\", \"New\", \"BestSeller\" } },\n",
    "};\n",
    "orders.Select(order => order.ObjectToDictionary()).DisplayAsTable();\n"
   ]
  },
  {
   "cell_type": "markdown",
   "id": "c895250d",
   "metadata": {},
   "source": [
    "## <a id='toc1_3_'></a>[1D Report: Total quantity per customer](#toc0_)"
   ]
  },
  {
   "cell_type": "code",
   "execution_count": null,
   "id": "4009f1cd",
   "metadata": {
    "polyglot_notebook": {
     "kernelName": "csharp"
    }
   },
   "outputs": [],
   "source": [
    "var cube1d = orders.BuildCube(\n",
    "    AggregationDefinition.CreateForCollection(orders, o => o.Quantity, (a,b) => a + b, 0m),\n",
    "    DimensionDefinition.CreateForCollection(orders, o => o.CustomerId, null,\n",
    "        IndexDefinition.Create(\"A\"), IndexDefinition.Create(\"B\"), IndexDefinition.Create(\"C\"), IndexDefinition.Create(\"D\")));\n",
    "new { A = cube1d.GetValue(\"A\"), B = cube1d.GetValue(\"B\"), C = cube1d.GetValue(\"C\"), D = cube1d.GetValue(\"D\") }.Display();\n"
   ]
  },
  {
   "cell_type": "markdown",
   "id": "186872cd",
   "metadata": {},
   "source": [
    "## <a id='toc1_4_'></a>[2D Report: Quantity per year per customer](#toc0_)"
   ]
  },
  {
   "cell_type": "code",
   "execution_count": null,
   "id": "30562e66",
   "metadata": {
    "polyglot_notebook": {
     "kernelName": "csharp"
    }
   },
   "outputs": [],
   "source": [
    "var cube2d = orders.BuildCube(\n",
    "    AggregationDefinition.CreateForCollection(orders, o => o.Quantity, (a,b)=>a+b, 0m),\n",
    "    DimensionDefinition.CreateForCollection(orders, o => o.CustomerId, null,\n",
    "        IndexDefinition.Create(\"A\"), IndexDefinition.Create(\"B\"), IndexDefinition.Create(\"C\"), IndexDefinition.Create(\"D\"))\n",
    "        .WithTrailingDefaultIndex(\"Total\"),\n",
    "    DimensionDefinition.CreateForCollection(orders, o => o.OrderDate.Year.ToString(), null,\n",
    "        IndexDefinition.Create(\"2007\"), IndexDefinition.Create(\"2008\"), IndexDefinition.Create(\"2009\")));\n",
    "var tableCustomersYears = cube2d.BreakdownByDimensions(0)\n",
    "    .Select(row => new {\n",
    "        Customer = row.GetBoundIndexDefinition(0).Title ?? row.GetBoundIndexDefinition(0).Value,\n",
    "        Y2007 = row.GetValue(\"2007\"),\n",
    "        Y2008 = row.GetValue(\"2008\"),\n",
    "        Y2009 = row.GetValue(\"2009\"),\n",
    "        Total = row.GetValue((string)default!)\n",
    "    })\n",
    "    .Select(order => order.ObjectToDictionary())\n",
    "    .ToList();\n",
    "tableCustomersYears.DisplayAsTable();\n"
   ]
  },
  {
   "cell_type": "markdown",
   "id": "7466b03c",
   "metadata": {},
   "source": [
    "## <a id='toc1_5_'></a>[2D Report: Quantity per tag per year (multi-selection)](#toc0_)"
   ]
  },
  {
   "cell_type": "code",
   "execution_count": null,
   "id": "a714f5a9",
   "metadata": {
    "polyglot_notebook": {
     "kernelName": "csharp"
    }
   },
   "outputs": [],
   "source": [
    "var cubeTagYear = orders.BuildCube(\n",
    "    AggregationDefinition.CreateForCollection(orders, o => o.Quantity, (a,b)=>a+b, 0m),\n",
    "    DimensionDefinition.CreateForCollection(orders, o => o.OrderDate.Year.ToString(), \"Year\",\n",
    "        IndexDefinition.Create(\"2007\"), IndexDefinition.Create(\"2008\"), IndexDefinition.Create(\"2009\"))\n",
    "        .WithTrailingDefaultIndex(\"Total\"),\n",
    "    DimensionDefinition.CreateForCollectionWithMultiSelector(orders, o => o.Tags, null,\n",
    "        IndexDefinition.Create(\"Discount\"), IndexDefinition.Create(\"Retail\"), IndexDefinition.Create(\"New\"), IndexDefinition.Create(\"Season\"), IndexDefinition.Create(\"BestSeller\")));\n",
    "var tagYear = cubeTagYear.BreakdownByDimensions(0)\n",
    "    .Select(row => new {\n",
    "        Year = row.GetBoundIndexDefinition(0).Title ?? row.GetBoundIndexDefinition(0).Value,\n",
    "        Discount = row.GetValue(\"Discount\"),\n",
    "        Retail = row.GetValue(\"Retail\"),\n",
    "        New = row.GetValue(\"New\"),\n",
    "        Season = row.GetValue(\"Season\"),\n",
    "        BestSeller = row.GetValue(\"BestSeller\")\n",
    "    })\n",
    "    .Select(order => order.ObjectToDictionary())\n",
    "    .ToList();\n",
    "tagYear.DisplayAsTable();\n"
   ]
  },
  {
   "cell_type": "markdown",
   "id": "823a5a7c",
   "metadata": {},
   "source": [
    "## <a id='toc1_6_'></a>[3D Report: EmployeeId x CustomerId x Year](#toc0_)"
   ]
  },
  {
   "cell_type": "code",
   "execution_count": null,
   "id": "23313972",
   "metadata": {
    "polyglot_notebook": {
     "kernelName": "csharp"
    }
   },
   "outputs": [],
   "source": [
    "var cube3d = orders.BuildCube(\n",
    "    AggregationDefinition.CreateForCollection(orders, o => o.Quantity, (a,b)=>a+b, 0m),\n",
    "    DimensionDefinition.CreateForCollection(orders, o => o.EmployeeId.ToString(), \"EmployeeId\", IndexDefinition.Create(\"1\"), IndexDefinition.Create(\"2\"), IndexDefinition.Create(\"3\")).WithTrailingDefaultIndex(\"Total\"),\n",
    "    DimensionDefinition.CreateForCollection(orders, o => o.CustomerId, \"CustomerId\", IndexDefinition.Create(\"A\"), IndexDefinition.Create(\"B\"), IndexDefinition.Create(\"C\"), IndexDefinition.Create(\"D\")).WithTrailingDefaultIndex(\"Total\"),\n",
    "    DimensionDefinition.CreateForCollection(orders, o => o.OrderDate.Year.ToString(), \"Year\", IndexDefinition.Create(\"2007\"), IndexDefinition.Create(\"2008\"), IndexDefinition.Create(\"2009\")).WithTrailingDefaultIndex(\"Total\"));\n",
    "var table3d = cube3d.ToTable([0, 1], [2]);\n",
    "table3d.DisplayTable();\n"
   ]
  },
  {
   "cell_type": "markdown",
   "id": "c1b3456b",
   "metadata": {},
   "source": [
    "## <a id='toc1_7_'></a>[Zero / simple aggregation examples](#toc0_)\n",
    "Hello world"
   ]
  },
  {
   "cell_type": "code",
   "execution_count": null,
   "id": "8b59a460",
   "metadata": {
    "polyglot_notebook": {
     "kernelName": "csharp"
    }
   },
   "outputs": [],
   "source": [
    "Array.Empty<string>()\n",
    "    .BuildCube<string, string, string>(AggregationDefinition.Create((string x) => x, (a, b) => default!, \"Hello world\"))\n",
    "    .GetValue()\n",
    "    .Display();\n"
   ]
  },
  {
   "cell_type": "markdown",
   "id": "9e93fd82",
   "metadata": {},
   "source": [
    "Sum of numbers from 1 to 10"
   ]
  },
  {
   "cell_type": "code",
   "execution_count": null,
   "id": "bbd94b95",
   "metadata": {
    "polyglot_notebook": {
     "kernelName": "csharp"
    }
   },
   "outputs": [],
   "source": [
    "Enumerable.Range(1,10)\n",
    "    .BuildCube<int, int, int>(AggregationDefinition.Create((int i) => i, (a, b) => a + b, 0))\n",
    "    .GetValue()\n",
    "    .Display();\n"
   ]
  },
  {
   "cell_type": "markdown",
   "id": "3afac4f3",
   "metadata": {},
   "source": [
    "Array of numbers from 1 to 10"
   ]
  },
  {
   "cell_type": "code",
   "execution_count": null,
   "id": "b2771625",
   "metadata": {
    "polyglot_notebook": {
     "kernelName": "csharp"
    }
   },
   "outputs": [],
   "source": [
    "Enumerable.Range(0, 10)\n",
    "    .BuildCube<int, int, int[]>(AggregationDefinition.Create((int i) => new[] { i }, (a,b) => a.Concat(b).ToArray(), []))\n",
    "    .GetValue()\n",
    "    .Display();\n"
   ]
  },
  {
   "cell_type": "markdown",
   "id": "fa0b6a85",
   "metadata": {},
   "source": [
    "## <a id='toc1_8_'></a>[Modulus dimension examples](#toc0_)"
   ]
  },
  {
   "cell_type": "code",
   "execution_count": null,
   "id": "ca47257b",
   "metadata": {
    "polyglot_notebook": {
     "kernelName": "csharp"
    }
   },
   "outputs": [],
   "source": [
    "var mod3Cube = Enumerable.Range(0,10).BuildCube(\n",
    "    AggregationDefinition.Create((int i) => new[] { i }, (a, b) => a.Concat(b).ToArray(), Array.Empty<int>()),\n",
    "    DimensionDefinition.Create((int i) => (int?)(i % 3), \"Mod 3\", Enumerable.Range(0, 3).Select(i => IndexDefinition.Create((int?)i)).ToArray()));\n",
    "mod3Cube.GetValue().Display(); // x % 3 = *\n",
    "mod3Cube.GetValue(0).Display(); // x % 3 = 0\n",
    "mod3Cube.GetValue(1).Display(); // x % 3 = 1\n",
    "mod3Cube.GetValue(2).Display(); // x % 3 = 2\n"
   ]
  },
  {
   "cell_type": "code",
   "execution_count": null,
   "id": "ce5c3446",
   "metadata": {
    "polyglot_notebook": {
     "kernelName": "csharp"
    }
   },
   "outputs": [],
   "source": [
    "DimensionDefinition<int, int?> CreateModulusDimension(int m) => DimensionDefinition.Create((int i)=> (int?)(i % m), $\"Mod {m}\", Enumerable.Range(0,m).Select(i => IndexDefinition.Create((int?)i)).ToArray());\n",
    "var mod3and5Cube = Enumerable.Range(0,20).BuildCube(\n",
    "    AggregationDefinition.Create((int i)=> new[] { i }, (a, b) => a.Concat(b).ToArray(), Array.Empty<int>()),\n",
    "    CreateModulusDimension(3),\n",
    "    CreateModulusDimension(5));\n",
    "mod3and5Cube.GetValue(0).Display();       // x % 3 = 0\n",
    "mod3and5Cube.GetValue(null, 0).Display(); // x % 5 = 0\n",
    "mod3and5Cube.GetValue(0, 0).Display();    // x % 3 = 0 and x % 5 = 0\n",
    "mod3and5Cube.ToTable([0, 1], []).DisplayTable();\n"
   ]
  }
 ],
 "metadata": {
  "kernelspec": {
   "display_name": ".NET (C#)",
   "language": "C#",
   "name": ".net-csharp"
  },
  "language_info": {
   "name": "polyglot-notebook"
  },
  "polyglot_notebook": {
   "kernelInfo": {
    "defaultKernelName": "csharp",
    "items": [
     {
      "aliases": [],
      "name": "csharp"
     }
    ]
   }
  }
 },
 "nbformat": 4,
 "nbformat_minor": 5
}
