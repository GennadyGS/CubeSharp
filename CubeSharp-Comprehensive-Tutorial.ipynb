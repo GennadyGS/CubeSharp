{
  "cells": [
    {
      "cell_type": "markdown",
      "metadata": {},
      "source": [
        "# CubeSharp Comprehensive Tutorial\n",
        "\n",
        "Welcome to the comprehensive CubeSharp tutorial! This notebook will guide you through all aspects of building and querying multi-dimensional data cubes using the CubeSharp library.\n",
        "\n",
        "## What is CubeSharp?\n",
        "\n",
        "CubeSharp is a lightweight .NET library for building in-memory data cubes. It provides a systematic approach to multi-dimensional data analysis and aggregation, enabling developers to create flexible, testable, and maintainable reporting solutions.\n",
        "\n",
        "## Why Use CubeSharp?\n",
        "\n",
        "Traditional approaches to multi-dimensional reporting present several challenges:\n",
        "- **SQL Limitations**: Limited refactoring and testing capabilities\n",
        "- **Ad-hoc LINQ Solutions**: Code duplication and maintenance difficulties\n",
        "- **CubeSharp Solution**: Systematizes multi-factor reports with structured APIs\n"
      ]
    },
    {
      "cell_type": "markdown",
      "metadata": {},
      "source": [
        "## Setup\n",
        "\n",
        "First, let's add the CubeSharp package and necessary using statements:"
      ]
    },
    {
      "cell_type": "code",
      "execution_count": 1,
      "metadata": {
        "dotnet_interactive": {
          "language": "csharp"
        }
      },
      "outputs": [
        {
          "data": {
            "text/html": [
              "<div><div></div><div></div><div></div></div>"
            ]
          },
          "metadata": {},
          "output_type": "display_data"
        },
        {
          "ename": "Error",
          "evalue": "C:\\Users\\Gennadii_Saltyshchak\\.packagemanagement\\nuget\\Projects\\36432--1353d17b-e1ea-4b76-bf5d-795d4764dadf\\Project.fsproj : error NU1102: Unable to find package CubeSharp with version (>= 99.0.0.3-alpha.nupkg)\r\nC:\\Users\\Gennadii_Saltyshchak\\.packagemanagement\\nuget\\Projects\\36432--1353d17b-e1ea-4b76-bf5d-795d4764dadf\\Project.fsproj : error NU1102:   - Found 3 version(s) in local [ Nearest version: 99.0.0.3-alpha ]\r\nC:\\Users\\Gennadii_Saltyshchak\\.packagemanagement\\nuget\\Projects\\36432--1353d17b-e1ea-4b76-bf5d-795d4764dadf\\Project.fsproj : error NU1102:   - Found 0 version(s) in C:\\Program Files\\dotnet\\library-packs\r\nC:\\Users\\Gennadii_Saltyshchak\\.packagemanagement\\nuget\\Projects\\36432--1353d17b-e1ea-4b76-bf5d-795d4764dadf\\Project.fsproj : error NU1102:   - Found 0 version(s) in C:\\Program Files\\dotnet\\sdk\\9.0.304\\FSharp\\library-packs\r\nC:\\Users\\Gennadii_Saltyshchak\\.packagemanagement\\nuget\\Projects\\36432--1353d17b-e1ea-4b76-bf5d-795d4764dadf\\Project.fsproj : error NU1102:   - Found 0 version(s) in nuget.org",
          "output_type": "error",
          "traceback": [
            "C:\\Users\\Gennadii_Saltyshchak\\.packagemanagement\\nuget\\Projects\\36432--1353d17b-e1ea-4b76-bf5d-795d4764dadf\\Project.fsproj : error NU1102: Unable to find package CubeSharp with version (>= 99.0.0.3-alpha.nupkg)\r\n",
            "C:\\Users\\Gennadii_Saltyshchak\\.packagemanagement\\nuget\\Projects\\36432--1353d17b-e1ea-4b76-bf5d-795d4764dadf\\Project.fsproj : error NU1102:   - Found 3 version(s) in local [ Nearest version: 99.0.0.3-alpha ]\r\n",
            "C:\\Users\\Gennadii_Saltyshchak\\.packagemanagement\\nuget\\Projects\\36432--1353d17b-e1ea-4b76-bf5d-795d4764dadf\\Project.fsproj : error NU1102:   - Found 0 version(s) in C:\\Program Files\\dotnet\\library-packs\r\n",
            "C:\\Users\\Gennadii_Saltyshchak\\.packagemanagement\\nuget\\Projects\\36432--1353d17b-e1ea-4b76-bf5d-795d4764dadf\\Project.fsproj : error NU1102:   - Found 0 version(s) in C:\\Program Files\\dotnet\\sdk\\9.0.304\\FSharp\\library-packs\r\n",
            "C:\\Users\\Gennadii_Saltyshchak\\.packagemanagement\\nuget\\Projects\\36432--1353d17b-e1ea-4b76-bf5d-795d4764dadf\\Project.fsproj : error NU1102:   - Found 0 version(s) in nuget.org"
          ]
        }
      ],
      "source": [
        "#r \"nuget: CubeSharp, 99.0.0.3-alpha.nupkg\"\n",
        "\n",
        "using CubeSharp;\n",
        "using System;\n",
        "using System.Collections.Generic;\n",
        "using System.Linq;\n",
        "using System.Threading.Tasks;\n",
        "\n",
        "display(\"CubeSharp loaded successfully!\");"
      ]
    },
    {
      "cell_type": "code",
      "execution_count": 2,
      "metadata": {
        "language_info": {
          "name": "polyglot-notebook"
        },
        "polyglot_notebook": {
          "kernelName": "csharp"
        }
      },
      "outputs": [
        {
          "ename": "Error",
          "evalue": "(3,17): error CS0234: The type or namespace name 'Data' does not exist in the namespace 'Microsoft' (are you missing an assembly reference?)\r\n(5,15): error CS0246: The type or namespace name 'DataFrame' could not be found (are you missing a using directive or an assembly reference?)\r\n(11,22): error CS0246: The type or namespace name 'DataFrame' could not be found (are you missing a using directive or an assembly reference?)\r\n(21,49): error CS0246: The type or namespace name 'BooleanDataFrameColumn' could not be found (are you missing a using directive or an assembly reference?)\r\n(22,48): error CS0246: The type or namespace name 'Int32DataFrameColumn' could not be found (are you missing a using directive or an assembly reference?)\r\n(23,52): error CS0246: The type or namespace name 'DecimalDataFrameColumn' could not be found (are you missing a using directive or an assembly reference?)\r\n(24,51): error CS0246: The type or namespace name 'DoubleDataFrameColumn' could not be found (are you missing a using directive or an assembly reference?)\r\n(25,53): error CS0246: The type or namespace name 'DateTimeDataFrameColumn' could not be found (are you missing a using directive or an assembly reference?)\r\n(26,51): error CS0246: The type or namespace name 'StringDataFrameColumn' could not be found (are you missing a using directive or an assembly reference?)\r\n(18,12): error CS0246: The type or namespace name 'DataFrameColumn' could not be found (are you missing a using directive or an assembly reference?)",
          "output_type": "error",
          "traceback": [
            "(3,17): error CS0234: The type or namespace name 'Data' does not exist in the namespace 'Microsoft' (are you missing an assembly reference?)\r\n",
            "(5,15): error CS0246: The type or namespace name 'DataFrame' could not be found (are you missing a using directive or an assembly reference?)\r\n",
            "(11,22): error CS0246: The type or namespace name 'DataFrame' could not be found (are you missing a using directive or an assembly reference?)\r\n",
            "(21,49): error CS0246: The type or namespace name 'BooleanDataFrameColumn' could not be found (are you missing a using directive or an assembly reference?)\r\n",
            "(22,48): error CS0246: The type or namespace name 'Int32DataFrameColumn' could not be found (are you missing a using directive or an assembly reference?)\r\n",
            "(23,52): error CS0246: The type or namespace name 'DecimalDataFrameColumn' could not be found (are you missing a using directive or an assembly reference?)\r\n",
            "(24,51): error CS0246: The type or namespace name 'DoubleDataFrameColumn' could not be found (are you missing a using directive or an assembly reference?)\r\n",
            "(25,53): error CS0246: The type or namespace name 'DateTimeDataFrameColumn' could not be found (are you missing a using directive or an assembly reference?)\r\n",
            "(26,51): error CS0246: The type or namespace name 'StringDataFrameColumn' could not be found (are you missing a using directive or an assembly reference?)\r\n",
            "(18,12): error CS0246: The type or namespace name 'DataFrameColumn' could not be found (are you missing a using directive or an assembly reference?)"
          ]
        }
      ],
      "source": [
        "using System.Collections.Generic;\n",
        "using System.Reflection;\n",
        "using Microsoft.Data.Analysis;\n",
        "\n",
        "public static DataFrame ToDataFrame<T>(this IEnumerable<T> source)\n",
        "{\n",
        "    var props = typeof(T).GetProperties(BindingFlags.Public | BindingFlags.Instance);\n",
        "    var columns = props\n",
        "        .Select(p => CreateColumn(p.Name, p.PropertyType))\n",
        "        .ToList();\n",
        "    var result = new DataFrame(columns);\n",
        "    foreach (var item in source)\n",
        "    {\n",
        "        result.Append(props.ToDictionary(p => p.Name, p => p.GetValue(item)), true);\n",
        "    }\n",
        "    return result;\n",
        "\n",
        "    static DataFrameColumn CreateColumn(string name, Type type) =>\n",
        "        type switch\n",
        "        {\n",
        "            var t when t == typeof(bool) => new BooleanDataFrameColumn(name),\n",
        "            var t when t == typeof(int) => new Int32DataFrameColumn(name),\n",
        "            var t when t == typeof(decimal) => new DecimalDataFrameColumn(name),\n",
        "            var t when t == typeof(double) => new DoubleDataFrameColumn(name),\n",
        "            var t when t == typeof(DateTime) => new DateTimeDataFrameColumn(name),\n",
        "            var t when t == typeof(string) => new StringDataFrameColumn(name),\n",
        "            _ => throw new NotSupportedException($\"Type {type} not supported\")\n",
        "        };\n",
        "}\n",
        "\n",
        "display(\"Utility function ToDataFrame<T> loaded successfully!\");"
      ]
    },
    {
      "cell_type": "markdown",
      "metadata": {},
      "source": [
        "## Chapter 1: Getting Started - Basic Example\n",
        "\n",
        "Let's start with a practical example using order data. We'll create a report with customers as rows, years as columns, and total quantity in each cell."
      ]
    },
    {
      "cell_type": "code",
      "execution_count": 3,
      "metadata": {
        "dotnet_interactive": {
          "language": "csharp"
        }
      },
      "outputs": [
        {
          "ename": "Error",
          "evalue": "(54,16): error CS1061: 'Order[]' does not contain a definition for 'ToDataFrame' and no accessible extension method 'ToDataFrame' accepting a first argument of type 'Order[]' could be found (are you missing a using directive or an assembly reference?)",
          "output_type": "error",
          "traceback": [
            "(54,16): error CS1061: 'Order[]' does not contain a definition for 'ToDataFrame' and no accessible extension method 'ToDataFrame' accepting a first argument of type 'Order[]' could be found (are you missing a using directive or an assembly reference?)"
          ]
        }
      ],
      "source": [
        "// Sample order data\n",
        "record Order {\n",
        "    public DateTime OrderDate { get; init; }\n",
        "    public string Product { get; init; }\n",
        "    public int EmployeeId { get; init; }\n",
        "    public string CustomerId { get; init; }\n",
        "    public decimal Quantity { get; init; }\n",
        "}\n",
        "\n",
        "var orders = new Order[] {\n",
        "    new Order\n",
        "    {\n",
        "        OrderDate = new DateTime(2007, 08, 02),\n",
        "        Product = \"Laptop\",\n",
        "        EmployeeId = 3,\n",
        "        CustomerId = \"A\",\n",
        "        Quantity = 10m,\n",
        "    },\n",
        "    new Order\n",
        "    {\n",
        "        OrderDate = new DateTime(2007, 12, 24),\n",
        "        Product = \"Mouse\",\n",
        "        EmployeeId = 4,\n",
        "        CustomerId = \"B\",\n",
        "        Quantity = 12m,\n",
        "    },\n",
        "    new Order\n",
        "    {\n",
        "        OrderDate = new DateTime(2008, 03, 15),\n",
        "        Product = \"Keyboard\",\n",
        "        EmployeeId = 3,\n",
        "        CustomerId = \"A\",\n",
        "        Quantity = 30m,\n",
        "    },\n",
        "    new Order{\n",
        "        OrderDate = new DateTime(2008, 06, 10),\n",
        "        Product = \"Monitor\",\n",
        "        EmployeeId = 5,\n",
        "        CustomerId = \"C\",\n",
        "        Quantity = 14m,\n",
        "    },\n",
        "    new Order\n",
        "    {\n",
        "        OrderDate = new DateTime(2009, 01, 20),\n",
        "        Product = \"Tablet\",\n",
        "        EmployeeId = 4,\n",
        "        CustomerId = \"D\",\n",
        "        Quantity = 60m,\n",
        "    }\n",
        "};\n",
        "\n",
        "display($\"Sample data loaded: {orders.Length} orders\");\n",
        "display(\"Order details:\");\n",
        "display(orders.ToDataFrame());"
      ]
    },
    {
      "cell_type": "markdown",
      "metadata": {},
      "source": [
        "### Step 1: Define How to Aggregate Data\n",
        "\n",
        "An aggregation definition specifies:\n",
        "1. **Value Selector**: What value to extract from each record\n",
        "2. **Aggregation Function**: How to combine multiple values\n",
        "3. **Seed Value**: Initial value and default for empty cells"
      ]
    },
    {
      "cell_type": "code",
      "execution_count": 4,
      "metadata": {
        "dotnet_interactive": {
          "language": "csharp"
        }
      },
      "outputs": [
        {
          "ename": "Error",
          "evalue": "(2,29): error CS0103: The name 'AggregationDefinition' does not exist in the current context\r\n(3,5): error CS0103: The name 'orders' does not exist in the current context",
          "output_type": "error",
          "traceback": [
            "(2,29): error CS0103: The name 'AggregationDefinition' does not exist in the current context\r\n",
            "(3,5): error CS0103: The name 'orders' does not exist in the current context"
          ]
        }
      ],
      "source": [
        "// Define how to aggregate data (sum of quantities)\n",
        "var aggregationDefinition = AggregationDefinition.CreateForCollection(\n",
        "    orders,\n",
        "    order => order.Quantity,  // Extract quantity from each order\n",
        "    (a, b) => a + b,         // Sum the values\n",
        "    seedValue: 0);           // Start with 0, use 0 for missing data\n",
        "\n",
        "display(\"Aggregation definition created: Sum of quantities\");"
      ]
    },
    {
      "cell_type": "markdown",
      "metadata": {},
      "source": [
        "### Step 2: Define Customer Dimension (Rows)\n",
        "\n",
        "A dimension definition specifies how to extract index values from source data and defines which values are relevant for analysis."
      ]
    },
    {
      "cell_type": "code",
      "execution_count": 5,
      "metadata": {
        "dotnet_interactive": {
          "language": "csharp"
        }
      },
      "outputs": [
        {
          "ename": "Error",
          "evalue": "(2,27): error CS0103: The name 'DimensionDefinition' does not exist in the current context\r\n(3,5): error CS0103: The name 'orders' does not exist in the current context\r\n(6,5): error CS0103: The name 'IndexDefinition' does not exist in the current context\r\n(7,5): error CS0103: The name 'IndexDefinition' does not exist in the current context\r\n(8,5): error CS0103: The name 'IndexDefinition' does not exist in the current context\r\n(9,5): error CS0103: The name 'IndexDefinition' does not exist in the current context",
          "output_type": "error",
          "traceback": [
            "(2,27): error CS0103: The name 'DimensionDefinition' does not exist in the current context\r\n",
            "(3,5): error CS0103: The name 'orders' does not exist in the current context\r\n",
            "(6,5): error CS0103: The name 'IndexDefinition' does not exist in the current context\r\n",
            "(7,5): error CS0103: The name 'IndexDefinition' does not exist in the current context\r\n",
            "(8,5): error CS0103: The name 'IndexDefinition' does not exist in the current context\r\n",
            "(9,5): error CS0103: The name 'IndexDefinition' does not exist in the current context"
          ]
        }
      ],
      "source": [
        "// Define customer dimension (rows)\n",
        "var customerIdDimension = DimensionDefinition.CreateForCollection(\n",
        "    orders,\n",
        "    order => order.CustomerId,  // Extract customer ID from orders\n",
        "    title: \"Customers\",         // Dimension title for display\n",
        "    IndexDefinition.Create(\"A\", \"Customer A\"),\n",
        "    IndexDefinition.Create(\"B\", \"Customer B\"),\n",
        "    IndexDefinition.Create(\"C\", \"Customer C\"),\n",
        "    IndexDefinition.Create(\"D\", \"Customer D\"))\n",
        "        .WithTrailingDefaultIndex(\"Total\");  // Add total column at the end\n",
        "\n",
        "display(\"Customer dimension created with 4 customers + Total\");"
      ]
    },
    {
      "cell_type": "markdown",
      "metadata": {},
      "source": [
        "### Step 3: Define Year Dimension (Columns)\n",
        "\n",
        "We'll extract the year from the order date and create indexes for each year."
      ]
    },
    {
      "cell_type": "code",
      "execution_count": 6,
      "metadata": {
        "dotnet_interactive": {
          "language": "csharp"
        }
      },
      "outputs": [
        {
          "ename": "Error",
          "evalue": "(2,21): error CS0103: The name 'DimensionDefinition' does not exist in the current context\r\n(3,5): error CS0103: The name 'orders' does not exist in the current context\r\n(6,5): error CS0103: The name 'IndexDefinition' does not exist in the current context\r\n(7,5): error CS0103: The name 'IndexDefinition' does not exist in the current context\r\n(8,5): error CS0103: The name 'IndexDefinition' does not exist in the current context",
          "output_type": "error",
          "traceback": [
            "(2,21): error CS0103: The name 'DimensionDefinition' does not exist in the current context\r\n",
            "(3,5): error CS0103: The name 'orders' does not exist in the current context\r\n",
            "(6,5): error CS0103: The name 'IndexDefinition' does not exist in the current context\r\n",
            "(7,5): error CS0103: The name 'IndexDefinition' does not exist in the current context\r\n",
            "(8,5): error CS0103: The name 'IndexDefinition' does not exist in the current context"
          ]
        }
      ],
      "source": [
        "// Define year dimension (columns)\n",
        "var yearDimension = DimensionDefinition.CreateForCollection(\n",
        "    orders,\n",
        "    order => order.OrderDate.Year.ToString(),  // Extract year as string\n",
        "    title: \"Years\",\n",
        "    IndexDefinition.Create(\"2007\", \"2007 Year\"),\n",
        "    IndexDefinition.Create(\"2008\", \"2008 Year\"),\n",
        "    IndexDefinition.Create(\"2009\", \"2009 Year\"))\n",
        "        .WithTrailingDefaultIndex(\"Total\");   // Add total row at the end\n",
        "\n",
        "display(\"Year dimension created with 3 years + Total\");"
      ]
    },
    {
      "cell_type": "markdown",
      "metadata": {},
      "source": [
        "### Step 4: Build the Cube\n",
        "\n",
        "Now we combine everything to build our data cube:"
      ]
    },
    {
      "cell_type": "code",
      "execution_count": 7,
      "metadata": {
        "dotnet_interactive": {
          "language": "csharp"
        }
      },
      "outputs": [
        {
          "ename": "Error",
          "evalue": "(2,12): error CS0103: The name 'orders' does not exist in the current context\r\n(2,29): error CS0103: The name 'aggregationDefinition' does not exist in the current context\r\n(2,52): error CS0103: The name 'customerIdDimension' does not exist in the current context\r\n(2,73): error CS0103: The name 'yearDimension' does not exist in the current context",
          "output_type": "error",
          "traceback": [
            "(2,12): error CS0103: The name 'orders' does not exist in the current context\r\n",
            "(2,29): error CS0103: The name 'aggregationDefinition' does not exist in the current context\r\n",
            "(2,52): error CS0103: The name 'customerIdDimension' does not exist in the current context\r\n",
            "(2,73): error CS0103: The name 'yearDimension' does not exist in the current context"
          ]
        }
      ],
      "source": [
        "// Build the cube\n",
        "var cube = orders.BuildCube(aggregationDefinition, customerIdDimension, yearDimension);\n",
        "\n",
        "display(\"Data cube built successfully!\");\n",
        "display($\"Cube dimensions: {cube.FreeDimensionCount}\");\n",
        "display($\"Total value across all dimensions: {cube.GetValue()}\");"
      ]
    },
    {
      "cell_type": "markdown",
      "metadata": {},
      "source": [
        "### Step 5: Query the Cube\n",
        "\n",
        "Now let's explore different ways to query our cube:"
      ]
    },
    {
      "cell_type": "code",
      "execution_count": 8,
      "metadata": {
        "dotnet_interactive": {
          "language": "csharp"
        }
      },
      "outputs": [
        {
          "ename": "Error",
          "evalue": "(5,18): error CS0103: The name 'cube' does not exist in the current context\r\n(9,22): error CS0103: The name 'cube' does not exist in the current context\r\n(13,21): error CS0103: The name 'cube' does not exist in the current context\r\n(17,21): error CS0103: The name 'cube' does not exist in the current context\r\n(21,23): error CS0103: The name 'cube' does not exist in the current context",
          "output_type": "error",
          "traceback": [
            "(5,18): error CS0103: The name 'cube' does not exist in the current context\r\n",
            "(9,22): error CS0103: The name 'cube' does not exist in the current context\r\n",
            "(13,21): error CS0103: The name 'cube' does not exist in the current context\r\n",
            "(17,21): error CS0103: The name 'cube' does not exist in the current context\r\n",
            "(21,23): error CS0103: The name 'cube' does not exist in the current context"
          ]
        }
      ],
      "source": [
        "// Basic queries\n",
        "display(\"=== Basic Cube Queries ===\");\n",
        "\n",
        "// Total across all customers and years\n",
        "var grandTotal = cube.GetValue();\n",
        "display($\"Grand Total: {grandTotal}\");\n",
        "\n",
        "// Total for Customer A across all years\n",
        "var customerATotal = cube.GetValue(\"A\");\n",
        "display($\"Customer A Total: {customerATotal}\");\n",
        "\n",
        "// Total for all customers in 2007\n",
        "var year2007Total = cube.GetValue(default, \"2007\");\n",
        "display($\"2007 Total: {year2007Total}\");\n",
        "\n",
        "// Specific cell: Customer A in 2007\n",
        "var specificValue = cube.GetValue(\"A\", \"2007\");\n",
        "display($\"Customer A in 2007: {specificValue}\");\n",
        "\n",
        "// Non-existent data (returns seed value)\n",
        "var unknownCustomer = cube.GetValue(\"Z\", \"2007\");\n",
        "display($\"Unknown Customer Z in 2007: {unknownCustomer}\");"
      ]
    },
    {
      "cell_type": "markdown",
      "metadata": {},
      "source": [
        "### Step 6: Create a Complete Report\n",
        "\n",
        "Let's transform our cube into a tabular report format:"
      ]
    },
    {
      "cell_type": "code",
      "execution_count": 9,
      "metadata": {
        "dotnet_interactive": {
          "language": "csharp"
        }
      },
      "outputs": [
        {
          "ename": "Error",
          "evalue": "(5,19): error CS0103: The name 'yearDimension' does not exist in the current context\r\n(13,18): error CS0103: The name 'customerIdDimension' does not exist in the current context\r\n(16,18): error CS0103: The name 'yearDimension' does not exist in the current context\r\n(18,21): error CS0103: The name 'cube' does not exist in the current context",
          "output_type": "error",
          "traceback": [
            "(5,19): error CS0103: The name 'yearDimension' does not exist in the current context\r\n",
            "(13,18): error CS0103: The name 'customerIdDimension' does not exist in the current context\r\n",
            "(16,18): error CS0103: The name 'yearDimension' does not exist in the current context\r\n",
            "(18,21): error CS0103: The name 'cube' does not exist in the current context"
          ]
        }
      ],
      "source": [
        "display(\"=== Complete Report ===\");\n",
        "display(\"\");\n",
        "\n",
        "// Create report headers\n",
        "var yearHeaders = yearDimension.Select(idx => idx.Title).ToArray();\n",
        "var headerRow = $\"{\"Customers\",-12} | {string.Join(\" | \", yearHeaders.Select(h => $\"{h,10}\"))}\";\n",
        "var separatorRow = new string('-', 12 + 3 + yearHeaders.Length * 13);\n",
        "\n",
        "display(headerRow);\n",
        "display(separatorRow);\n",
        "\n",
        "// Generate report rows\n",
        "var reportRows = customerIdDimension.Select(customer =>\n",
        "{\n",
        "    var customerTitle = customer.Title.PadRight(12);\n",
        "    var values = yearDimension.Select(year =>\n",
        "    {\n",
        "        var value = cube.GetValue(customer.Value, year.Value);\n",
        "        return $\"{value,10}\";\n",
        "    });\n",
        "\n",
        "    return $\"{customerTitle} | {string.Join(\" | \", values)}\";\n",
        "});\n",
        "\n",
        "display(reportRows);"
      ]
    },
    {
      "cell_type": "markdown",
      "metadata": {},
      "source": [
        "## Chapter 2: Core Concepts Deep Dive\n",
        "\n",
        "### Aggregation Definitions\n",
        "\n",
        "Let's explore different types of aggregation patterns:"
      ]
    },
    {
      "cell_type": "code",
      "execution_count": 10,
      "metadata": {
        "dotnet_interactive": {
          "language": "csharp"
        }
      },
      "outputs": [
        {
          "ename": "Error",
          "evalue": "(7,22): error CS0103: The name 'AggregationDefinition' does not exist in the current context\r\n(14,24): error CS0103: The name 'AggregationDefinition' does not exist in the current context\r\n(21,22): error CS0103: The name 'AggregationDefinition' does not exist in the current context\r\n(28,22): error CS0103: The name 'AggregationDefinition' does not exist in the current context\r\n(35,29): error CS0103: The name 'AggregationDefinition' does not exist in the current context",
          "output_type": "error",
          "traceback": [
            "(7,22): error CS0103: The name 'AggregationDefinition' does not exist in the current context\r\n",
            "(14,24): error CS0103: The name 'AggregationDefinition' does not exist in the current context\r\n",
            "(21,22): error CS0103: The name 'AggregationDefinition' does not exist in the current context\r\n",
            "(28,22): error CS0103: The name 'AggregationDefinition' does not exist in the current context\r\n",
            "(35,29): error CS0103: The name 'AggregationDefinition' does not exist in the current context"
          ]
        }
      ],
      "source": [
        "display(\"=== Different Aggregation Patterns ===\");\n",
        "\n",
        "// Sample numeric data\n",
        "var numbers = new[] { 1, 5, 3, 9, 2, 7, 4, 8, 6 };\n",
        "\n",
        "// 1. Sum aggregation\n",
        "var sumAggregation = AggregationDefinition.Create(\n",
        "    (int i) => i,\n",
        "    (a, b) => a + b,\n",
        "    0);\n",
        "display(\"Sum aggregation created\");\n",
        "\n",
        "// 2. Count aggregation\n",
        "var countAggregation = AggregationDefinition.Create(\n",
        "    (int item) => 1,\n",
        "    (a, b) => a + b,\n",
        "    0);\n",
        "display(\"Count aggregation created\");\n",
        "\n",
        "// 3. Minimum aggregation\n",
        "var minAggregation = AggregationDefinition.Create(\n",
        "    (int i) => i,\n",
        "    (a, b) => Math.Min(a, b),\n",
        "    int.MaxValue);\n",
        "display(\"Minimum aggregation created\");\n",
        "\n",
        "// 4. Maximum aggregation\n",
        "var maxAggregation = AggregationDefinition.Create(\n",
        "    (int i) => i,\n",
        "    (a, b) => Math.Max(a, b),\n",
        "    int.MinValue);\n",
        "display(\"Maximum aggregation created\");\n",
        "\n",
        "// 5. Collection aggregation\n",
        "var collectionAggregation = AggregationDefinition.Create(\n",
        "    (int i) => new[] { i },\n",
        "    (a, b) => a.Concat(b).ToArray(),\n",
        "    Array.Empty<int>());\n",
        "display(\"Collection aggregation created\");"
      ]
    },
    {
      "cell_type": "markdown",
      "metadata": {},
      "source": [
        "### Complex Aggregations - Count and Sum Together\n",
        "\n",
        "Sometimes you need multiple calculations per cell. Here's how to create composite aggregations:"
      ]
    },
    {
      "cell_type": "code",
      "execution_count": 11,
      "metadata": {
        "dotnet_interactive": {
          "language": "csharp"
        }
      },
      "outputs": [
        {
          "ename": "Error",
          "evalue": "(23,28): error CS0103: The name 'AggregationDefinition' does not exist in the current context\r\n(24,5): error CS0103: The name 'orders' does not exist in the current context\r\n(29,21): error CS0103: The name 'orders' does not exist in the current context\r\n(29,60): error CS0103: The name 'customerIdDimension' does not exist in the current context",
          "output_type": "error",
          "traceback": [
            "(23,28): error CS0103: The name 'AggregationDefinition' does not exist in the current context\r\n",
            "(24,5): error CS0103: The name 'orders' does not exist in the current context\r\n",
            "(29,21): error CS0103: The name 'orders' does not exist in the current context\r\n",
            "(29,60): error CS0103: The name 'customerIdDimension' does not exist in the current context"
          ]
        }
      ],
      "source": [
        "// Define a composite type for count and sum\n",
        "public struct CountAndSum\n",
        "{\n",
        "    public CountAndSum(int count, decimal sum)\n",
        "    {\n",
        "        Count = count;\n",
        "        Sum = sum;\n",
        "    }\n",
        "\n",
        "    public int Count { get; }\n",
        "    public decimal Sum { get; }\n",
        "    public decimal Average => Count > 0 ? Sum / Count : 0;\n",
        "\n",
        "    public static CountAndSum Zero => new(0, 0);\n",
        "\n",
        "    public static CountAndSum Combine(CountAndSum left, CountAndSum right) =>\n",
        "        new(left.Count + right.Count, left.Sum + right.Sum);\n",
        "\n",
        "    public override string ToString() => $\"Count: {Count}, Sum: {Sum}, Avg: {Average:F2}\";\n",
        "}\n",
        "\n",
        "// Use composite aggregation with our orders\n",
        "var compositeAggregation = AggregationDefinition.CreateForCollection(\n",
        "    orders,\n",
        "    order => new CountAndSum(1, order.Quantity),\n",
        "    CountAndSum.Combine,\n",
        "    CountAndSum.Zero);\n",
        "\n",
        "var compositeCube = orders.BuildCube(compositeAggregation, customerIdDimension);\n",
        "\n",
        "display(\"=== Composite Aggregation Results ===\");\n",
        "display($\"Total across all customers: {compositeCube.GetValue()}\");\n",
        "display($\"Customer A stats: {compositeCube.GetValue(\"A\")}\");\n",
        "display($\"Customer B stats: {compositeCube.GetValue(\"B\")}\");"
      ]
    },
    {
      "cell_type": "markdown",
      "metadata": {},
      "source": [
        "## Chapter 3: Advanced Dimension Features\n",
        "\n",
        "### Hierarchical Indexes\n",
        "\n",
        "Let's create dimensions with parent-child relationships for subtotals:"
      ]
    },
    {
      "cell_type": "code",
      "execution_count": 12,
      "metadata": {
        "dotnet_interactive": {
          "language": "csharp"
        }
      },
      "outputs": [
        {
          "data": {
            "text/plain": [
              "Sample product data:"
            ]
          },
          "metadata": {},
          "output_type": "display_data"
        },
        {
          "data": {
            "text/html": [
              "<div class=\"dni-plaintext\"><pre>[   iPhone (Phones) - $999,   Samsung Galaxy (Phones) - $899,   iPad (Tablets) - $599,   MacBook (Laptops) - $1299,   T-Shirt (Shirts) - $25,   Jeans (Pants) - $75 ]</pre></div><style>\r\n",
              ".dni-code-hint {\r\n",
              "    font-style: italic;\r\n",
              "    overflow: hidden;\r\n",
              "    white-space: nowrap;\r\n",
              "}\r\n",
              ".dni-treeview {\r\n",
              "    white-space: nowrap;\r\n",
              "}\r\n",
              ".dni-treeview td {\r\n",
              "    vertical-align: top;\r\n",
              "    text-align: start;\r\n",
              "}\r\n",
              "details.dni-treeview {\r\n",
              "    padding-left: 1em;\r\n",
              "}\r\n",
              "table td {\r\n",
              "    text-align: start;\r\n",
              "}\r\n",
              "table tr { \r\n",
              "    vertical-align: top; \r\n",
              "    margin: 0em 0px;\r\n",
              "}\r\n",
              "table tr td pre \r\n",
              "{ \r\n",
              "    vertical-align: top !important; \r\n",
              "    margin: 0em 0px !important;\r\n",
              "} \r\n",
              "table th {\r\n",
              "    text-align: start;\r\n",
              "}\r\n",
              "</style>"
            ]
          },
          "metadata": {},
          "output_type": "display_data"
        }
      ],
      "source": [
        "// Sample product data with categories\n",
        "var products = new[] {\n",
        "    new { ProductId = \"P1\", Name = \"iPhone\", Category = \"Electronics\", SubCategory = \"Phones\", Price = 999m },\n",
        "    new { ProductId = \"P2\", Name = \"Samsung Galaxy\", Category = \"Electronics\", SubCategory = \"Phones\", Price = 899m },\n",
        "    new { ProductId = \"P3\", Name = \"iPad\", Category = \"Electronics\", SubCategory = \"Tablets\", Price = 599m },\n",
        "    new { ProductId = \"P4\", Name = \"MacBook\", Category = \"Electronics\", SubCategory = \"Laptops\", Price = 1299m },\n",
        "    new { ProductId = \"P5\", Name = \"T-Shirt\", Category = \"Clothing\", SubCategory = \"Shirts\", Price = 25m },\n",
        "    new { ProductId = \"P6\", Name = \"Jeans\", Category = \"Clothing\", SubCategory = \"Pants\", Price = 75m }\n",
        "};\n",
        "\n",
        "display(\"Sample product data:\");\n",
        "display(products.Select(product => $\"  {product.Name} ({product.SubCategory}) - ${product.Price}\"));"
      ]
    },
    {
      "cell_type": "code",
      "execution_count": 13,
      "metadata": {
        "dotnet_interactive": {
          "language": "csharp"
        }
      },
      "outputs": [
        {
          "ename": "Error",
          "evalue": "(2,29): error CS0103: The name 'DimensionDefinition' does not exist in the current context\r\n(7,5): error CS0103: The name 'IndexDefinition' does not exist in the current context\r\n(9,9): error CS0103: The name 'IndexDefinition' does not exist in the current context\r\n(10,9): error CS0103: The name 'IndexDefinition' does not exist in the current context\r\n(11,9): error CS0103: The name 'IndexDefinition' does not exist in the current context\r\n(13,5): error CS0103: The name 'IndexDefinition' does not exist in the current context\r\n(15,9): error CS0103: The name 'IndexDefinition' does not exist in the current context\r\n(16,9): error CS0103: The name 'IndexDefinition' does not exist in the current context\r\n(20,24): error CS0103: The name 'AggregationDefinition' does not exist in the current context\r\n(26,33): error CS1061: '<anonymous type: string ProductId, string Name, string Category, string SubCategory, decimal Price>[]' does not contain a definition for 'BuildCube' and no accessible extension method 'BuildCube' accepting a first argument of type '<anonymous type: string ProductId, string Name, string Category, string SubCategory, decimal Price>[]' could be found (are you missing a using directive or an assembly reference?)",
          "output_type": "error",
          "traceback": [
            "(2,29): error CS0103: The name 'DimensionDefinition' does not exist in the current context\r\n",
            "(7,5): error CS0103: The name 'IndexDefinition' does not exist in the current context\r\n",
            "(9,9): error CS0103: The name 'IndexDefinition' does not exist in the current context\r\n",
            "(10,9): error CS0103: The name 'IndexDefinition' does not exist in the current context\r\n",
            "(11,9): error CS0103: The name 'IndexDefinition' does not exist in the current context\r\n",
            "(13,5): error CS0103: The name 'IndexDefinition' does not exist in the current context\r\n",
            "(15,9): error CS0103: The name 'IndexDefinition' does not exist in the current context\r\n",
            "(16,9): error CS0103: The name 'IndexDefinition' does not exist in the current context\r\n",
            "(20,24): error CS0103: The name 'AggregationDefinition' does not exist in the current context\r\n",
            "(26,33): error CS1061: '<anonymous type: string ProductId, string Name, string Category, string SubCategory, decimal Price>[]' does not contain a definition for 'BuildCube' and no accessible extension method 'BuildCube' accepting a first argument of type '<anonymous type: string ProductId, string Name, string Category, string SubCategory, decimal Price>[]' could be found (are you missing a using directive or an assembly reference?)"
          ]
        }
      ],
      "source": [
        "// Create hierarchical dimension with categories and subcategories\n",
        "var hierarchicalDimension = DimensionDefinition.CreateForCollection(\n",
        "    products,\n",
        "    product => product.SubCategory,  // We map to subcategory\n",
        "    title: \"Product Categories\",\n",
        "    // Electronics category with subcategories\n",
        "    IndexDefinition.Create(\n",
        "        \"Electronics\", \"Electronics Category\",\n",
        "        IndexDefinition.Create(\"Phones\", \"Mobile Phones\"),\n",
        "        IndexDefinition.Create(\"Tablets\", \"Tablets\"),\n",
        "        IndexDefinition.Create(\"Laptops\", \"Laptop Computers\")),\n",
        "    // Clothing category with subcategories\n",
        "    IndexDefinition.Create(\n",
        "        \"Clothing\", \"Clothing Category\",\n",
        "        IndexDefinition.Create(\"Shirts\", \"Shirts\"),\n",
        "        IndexDefinition.Create(\"Pants\", \"Pants\")))\n",
        "    .WithTrailingDefaultIndex(\"All Products\");\n",
        "\n",
        "// Price aggregation\n",
        "var priceAggregation = AggregationDefinition.CreateForCollection(\n",
        "    products,\n",
        "    product => product.Price,\n",
        "    (a, b) => a + b,\n",
        "    0m);\n",
        "\n",
        "var hierarchicalCube = products.BuildCube(priceAggregation, hierarchicalDimension);\n",
        "\n",
        "display(\"=== Hierarchical Dimension Results ===\");\n",
        "display($\"Total value of all products: ${hierarchicalCube.GetValue():F2}\");\n",
        "display($\"Electronics category total: ${hierarchicalCube.GetValue(\"Electronics\"):F2}\");\n",
        "display($\"Phones subcategory total: ${hierarchicalCube.GetValue(\"Phones\"):F2}\");\n",
        "display($\"Clothing category total: ${hierarchicalCube.GetValue(\"Clothing\"):F2}\");\n",
        "display($\"Shirts subcategory total: ${hierarchicalCube.GetValue(\"Shirts\"):F2}\");"
      ]
    },
    {
      "cell_type": "markdown",
      "metadata": {},
      "source": [
        "### Multi-selection Dimensions\n",
        "\n",
        "Sometimes a single record can belong to multiple index values within the same dimension. For example, products with multiple tags:"
      ]
    },
    {
      "cell_type": "code",
      "execution_count": 14,
      "metadata": {
        "dotnet_interactive": {
          "language": "csharp"
        }
      },
      "outputs": [
        {
          "data": {
            "text/plain": [
              "Tagged orders:"
            ]
          },
          "metadata": {},
          "output_type": "display_data"
        },
        {
          "data": {
            "text/html": [
              "<div class=\"dni-plaintext\"><pre>[   Order 1: $100 - Tags: [bestseller, discount],   Order 2: $200 - Tags: [bestseller],   Order 3: $150 - Tags: [new, discount],   Order 4: $75 - Tags: [new],   Order 5: $300 - Tags: [bestseller, premium] ]</pre></div><style>\r\n",
              ".dni-code-hint {\r\n",
              "    font-style: italic;\r\n",
              "    overflow: hidden;\r\n",
              "    white-space: nowrap;\r\n",
              "}\r\n",
              ".dni-treeview {\r\n",
              "    white-space: nowrap;\r\n",
              "}\r\n",
              ".dni-treeview td {\r\n",
              "    vertical-align: top;\r\n",
              "    text-align: start;\r\n",
              "}\r\n",
              "details.dni-treeview {\r\n",
              "    padding-left: 1em;\r\n",
              "}\r\n",
              "table td {\r\n",
              "    text-align: start;\r\n",
              "}\r\n",
              "table tr { \r\n",
              "    vertical-align: top; \r\n",
              "    margin: 0em 0px;\r\n",
              "}\r\n",
              "table tr td pre \r\n",
              "{ \r\n",
              "    vertical-align: top !important; \r\n",
              "    margin: 0em 0px !important;\r\n",
              "} \r\n",
              "table th {\r\n",
              "    text-align: start;\r\n",
              "}\r\n",
              "</style>"
            ]
          },
          "metadata": {},
          "output_type": "display_data"
        }
      ],
      "source": [
        "// Sample data with multiple tags per order\n",
        "var taggedOrders = new[] {\n",
        "    new { OrderId = 1, Amount = 100m, Tags = new[] { \"bestseller\", \"discount\" } },\n",
        "    new { OrderId = 2, Amount = 200m, Tags = new[] { \"bestseller\" } },\n",
        "    new { OrderId = 3, Amount = 150m, Tags = new[] { \"new\", \"discount\" } },\n",
        "    new { OrderId = 4, Amount = 75m, Tags = new[] { \"new\" } },\n",
        "    new { OrderId = 5, Amount = 300m, Tags = new[] { \"bestseller\", \"premium\" } }\n",
        "};\n",
        "\n",
        "display(\"Tagged orders:\");\n",
        "display(taggedOrders.Select(order => $\"  Order {order.OrderId}: ${order.Amount} - Tags: [{string.Join(\", \", order.Tags)}]\"));"
      ]
    },
    {
      "cell_type": "code",
      "execution_count": 15,
      "metadata": {
        "dotnet_interactive": {
          "language": "csharp"
        }
      },
      "outputs": [
        {
          "ename": "Error",
          "evalue": "(2,21): error CS0103: The name 'DimensionDefinition' does not exist in the current context\r\n(6,5): error CS0103: The name 'IndexDefinition' does not exist in the current context\r\n(7,5): error CS0103: The name 'IndexDefinition' does not exist in the current context\r\n(8,5): error CS0103: The name 'IndexDefinition' does not exist in the current context\r\n(9,5): error CS0103: The name 'IndexDefinition' does not exist in the current context\r\n(12,25): error CS0103: The name 'AggregationDefinition' does not exist in the current context\r\n(18,29): error CS1061: '<anonymous type: int OrderId, decimal Amount, string[] Tags>[]' does not contain a definition for 'BuildCube' and no accessible extension method 'BuildCube' accepting a first argument of type '<anonymous type: int OrderId, decimal Amount, string[] Tags>[]' could be found (are you missing a using directive or an assembly reference?)",
          "output_type": "error",
          "traceback": [
            "(2,21): error CS0103: The name 'DimensionDefinition' does not exist in the current context\r\n",
            "(6,5): error CS0103: The name 'IndexDefinition' does not exist in the current context\r\n",
            "(7,5): error CS0103: The name 'IndexDefinition' does not exist in the current context\r\n",
            "(8,5): error CS0103: The name 'IndexDefinition' does not exist in the current context\r\n",
            "(9,5): error CS0103: The name 'IndexDefinition' does not exist in the current context\r\n",
            "(12,25): error CS0103: The name 'AggregationDefinition' does not exist in the current context\r\n",
            "(18,29): error CS1061: '<anonymous type: int OrderId, decimal Amount, string[] Tags>[]' does not contain a definition for 'BuildCube' and no accessible extension method 'BuildCube' accepting a first argument of type '<anonymous type: int OrderId, decimal Amount, string[] Tags>[]' could be found (are you missing a using directive or an assembly reference?)"
          ]
        }
      ],
      "source": [
        "// Create multi-selection dimension\n",
        "var tagsDimension = DimensionDefinition.CreateForCollectionWithMultiSelector(\n",
        "    taggedOrders,\n",
        "    order => order.Tags,              // Returns IEnumerable<string>\n",
        "    title: \"Tags\",\n",
        "    IndexDefinition.Create(\"bestseller\", \"Bestseller\"),\n",
        "    IndexDefinition.Create(\"discount\", \"Discounted\"),\n",
        "    IndexDefinition.Create(\"new\", \"New Products\"),\n",
        "    IndexDefinition.Create(\"premium\", \"Premium\"))\n",
        "    .WithTrailingDefaultIndex(\"Total\");\n",
        "\n",
        "var amountAggregation = AggregationDefinition.CreateForCollection(\n",
        "    taggedOrders,\n",
        "    order => order.Amount,\n",
        "    (a, b) => a + b,\n",
        "    0m);\n",
        "\n",
        "var tagsCube = taggedOrders.BuildCube(amountAggregation, tagsDimension);\n",
        "\n",
        "display(\"=== Multi-selection Dimension Results ===\");\n",
        "display($\"Bestseller tag total: ${tagsCube.GetValue(\"bestseller\"):F2}  (Orders 1, 2, 5: $100 + $200 + $300)\");\n",
        "display($\"Discount tag total: ${tagsCube.GetValue(\"discount\"):F2}    (Orders 1, 3: $100 + $150)\");\n",
        "display($\"New tag total: ${tagsCube.GetValue(\"new\"):F2}         (Orders 3, 4: $150 + $75)\");\n",
        "display($\"Premium tag total: ${tagsCube.GetValue(\"premium\"):F2}     (Order 5: $300)\");\n",
        "display($\"Grand total: ${tagsCube.GetValue():F2}           (All unique orders: $825)\");"
      ]
    },
    {
      "cell_type": "markdown",
      "metadata": {},
      "source": [
        "## Chapter 4: Advanced Querying\n",
        "\n",
        "### Cube Slicing\n",
        "\n",
        "Slicing allows you to fix certain dimensions and work with the remaining dimensions:"
      ]
    },
    {
      "cell_type": "code",
      "execution_count": 16,
      "metadata": {
        "dotnet_interactive": {
          "language": "csharp"
        }
      },
      "outputs": [
        {
          "ename": "Error",
          "evalue": "(11,27): error CS0103: The name 'AggregationDefinition' does not exist in the current context\r\n(17,19): error CS0103: The name 'DimensionDefinition' does not exist in the current context\r\n(21,5): error CS0103: The name 'IndexDefinition' does not exist in the current context\r\n(22,5): error CS0103: The name 'IndexDefinition' does not exist in the current context\r\n(25,15): error CS0103: The name 'DimensionDefinition' does not exist in the current context\r\n(29,5): error CS0103: The name 'IndexDefinition' does not exist in the current context\r\n(30,5): error CS0103: The name 'IndexDefinition' does not exist in the current context\r\n(33,18): error CS0103: The name 'DimensionDefinition' does not exist in the current context\r\n(37,5): error CS0103: The name 'IndexDefinition' does not exist in the current context\r\n(38,5): error CS0103: The name 'IndexDefinition' does not exist in the current context\r\n(39,5): error CS0103: The name 'IndexDefinition' does not exist in the current context\r\n(42,33): error CS1061: '<anonymous type: string CustomerId, string Year, string Product, decimal Quantity>[]' does not contain a definition for 'BuildCube' and no accessible extension method 'BuildCube' accepting a first argument of type '<anonymous type: string CustomerId, string Year, string Product, decimal Quantity>[]' could be found (are you missing a using directive or an assembly reference?)",
          "output_type": "error",
          "traceback": [
            "(11,27): error CS0103: The name 'AggregationDefinition' does not exist in the current context\r\n",
            "(17,19): error CS0103: The name 'DimensionDefinition' does not exist in the current context\r\n",
            "(21,5): error CS0103: The name 'IndexDefinition' does not exist in the current context\r\n",
            "(22,5): error CS0103: The name 'IndexDefinition' does not exist in the current context\r\n",
            "(25,15): error CS0103: The name 'DimensionDefinition' does not exist in the current context\r\n",
            "(29,5): error CS0103: The name 'IndexDefinition' does not exist in the current context\r\n",
            "(30,5): error CS0103: The name 'IndexDefinition' does not exist in the current context\r\n",
            "(33,18): error CS0103: The name 'DimensionDefinition' does not exist in the current context\r\n",
            "(37,5): error CS0103: The name 'IndexDefinition' does not exist in the current context\r\n",
            "(38,5): error CS0103: The name 'IndexDefinition' does not exist in the current context\r\n",
            "(39,5): error CS0103: The name 'IndexDefinition' does not exist in the current context\r\n",
            "(42,33): error CS1061: '<anonymous type: string CustomerId, string Year, string Product, decimal Quantity>[]' does not contain a definition for 'BuildCube' and no accessible extension method 'BuildCube' accepting a first argument of type '<anonymous type: string CustomerId, string Year, string Product, decimal Quantity>[]' could be found (are you missing a using directive or an assembly reference?)"
          ]
        }
      ],
      "source": [
        "// Create a 3-dimensional cube: Customer x Year x Product\n",
        "var detailedOrders = new[] {\n",
        "    new { CustomerId = \"A\", Year = \"2007\", Product = \"Laptop\", Quantity = 10m },\n",
        "    new { CustomerId = \"A\", Year = \"2007\", Product = \"Mouse\", Quantity = 5m },\n",
        "    new { CustomerId = \"A\", Year = \"2008\", Product = \"Laptop\", Quantity = 15m },\n",
        "    new { CustomerId = \"B\", Year = \"2007\", Product = \"Laptop\", Quantity = 8m },\n",
        "    new { CustomerId = \"B\", Year = \"2008\", Product = \"Mouse\", Quantity = 12m },\n",
        "    new { CustomerId = \"B\", Year = \"2008\", Product = \"Keyboard\", Quantity = 7m }\n",
        "};\n",
        "\n",
        "var detailedAggregation = AggregationDefinition.CreateForCollection(\n",
        "    detailedOrders,\n",
        "    order => order.Quantity,\n",
        "    (a, b) => a + b,\n",
        "    0m);\n",
        "\n",
        "var customerDim = DimensionDefinition.CreateForCollection(\n",
        "    detailedOrders,\n",
        "    order => order.CustomerId,\n",
        "    title: \"Customers\",\n",
        "    IndexDefinition.Create(\"A\", \"Customer A\"),\n",
        "    IndexDefinition.Create(\"B\", \"Customer B\"))\n",
        "    .WithTrailingDefaultIndex(\"All Customers\");\n",
        "\n",
        "var yearDim = DimensionDefinition.CreateForCollection(\n",
        "    detailedOrders,\n",
        "    order => order.Year,\n",
        "    title: \"Years\",\n",
        "    IndexDefinition.Create(\"2007\", \"2007\"),\n",
        "    IndexDefinition.Create(\"2008\", \"2008\"))\n",
        "    .WithTrailingDefaultIndex(\"All Years\");\n",
        "\n",
        "var productDim = DimensionDefinition.CreateForCollection(\n",
        "    detailedOrders,\n",
        "    order => order.Product,\n",
        "    title: \"Products\",\n",
        "    IndexDefinition.Create(\"Laptop\", \"Laptop\"),\n",
        "    IndexDefinition.Create(\"Mouse\", \"Mouse\"),\n",
        "    IndexDefinition.Create(\"Keyboard\", \"Keyboard\"))\n",
        "    .WithTrailingDefaultIndex(\"All Products\");\n",
        "\n",
        "var threeDCube = detailedOrders.BuildCube(detailedAggregation, customerDim, yearDim, productDim);\n",
        "\n",
        "display(\"3D Cube created: Customer x Year x Product\");\n",
        "display($\"Total across all dimensions: {threeDCube.GetValue()}\");"
      ]
    },
    {
      "cell_type": "code",
      "execution_count": 17,
      "metadata": {
        "dotnet_interactive": {
          "language": "csharp"
        }
      },
      "outputs": [
        {
          "ename": "Error",
          "evalue": "(2,22): error CS0103: The name 'threeDCube' does not exist in the current context\r\n(12,21): error CS0103: The name 'threeDCube' does not exist in the current context",
          "output_type": "error",
          "traceback": [
            "(2,22): error CS0103: The name 'threeDCube' does not exist in the current context\r\n",
            "(12,21): error CS0103: The name 'threeDCube' does not exist in the current context"
          ]
        }
      ],
      "source": [
        "// Slice the cube to focus on Customer A's data\n",
        "var customerASlice = threeDCube.Slice(\"A\");\n",
        "\n",
        "display(\"=== Customer A Slice (Year x Product) ===\");\n",
        "display($\"Customer A total: {customerASlice.GetValue()}\");\n",
        "display($\"Customer A 2007: {customerASlice.GetValue(\"2007\")}\");\n",
        "display($\"Customer A 2008: {customerASlice.GetValue(\"2008\")}\");\n",
        "display($\"Customer A Laptops: {customerASlice.GetValue(default, \"Laptop\")}\");\n",
        "display($\"Customer A 2007 Laptops: {customerASlice.GetValue(\"2007\", \"Laptop\")}\");\n",
        "\n",
        "// Slice by year\n",
        "var year2007Slice = threeDCube.Slice(default, \"2007\");\n",
        "display(\"\");\n",
        "display(\"=== 2007 Slice (Customer x Product) ===\");\n",
        "display($\"2007 total: {year2007Slice.GetValue()}\");\n",
        "display($\"2007 Customer A: {year2007Slice.GetValue(\"A\")}\");\n",
        "display($\"2007 Laptops: {year2007Slice.GetValue(default, \"Laptop\")}\");"
      ]
    },
    {
      "cell_type": "markdown",
      "metadata": {},
      "source": [
        "### Breakdown Operations\n",
        "\n",
        "Breakdown operations let you iterate through values along specific dimensions:"
      ]
    },
    {
      "cell_type": "code",
      "execution_count": 18,
      "metadata": {
        "dotnet_interactive": {
          "language": "csharp"
        }
      },
      "outputs": [
        {
          "ename": "Error",
          "evalue": "(2,26): error CS0103: The name 'threeDCube' does not exist in the current context\r\n(13,22): error CS0103: The name 'threeDCube' does not exist in the current context\r\n(24,21): error CS0103: The name 'threeDCube' does not exist in the current context",
          "output_type": "error",
          "traceback": [
            "(2,26): error CS0103: The name 'threeDCube' does not exist in the current context\r\n",
            "(13,22): error CS0103: The name 'threeDCube' does not exist in the current context\r\n",
            "(24,21): error CS0103: The name 'threeDCube' does not exist in the current context"
          ]
        }
      ],
      "source": [
        "display(\"=== Breakdown by Customers ===\");\n",
        "var customerBreakdowns = threeDCube.BreakdownByDimensions(0) // First dimension (customers)\n",
        "    .Select(customerBreakdown =>\n",
        "    {\n",
        "        var customerIndex = customerBreakdown.GetBoundIndexDefinition(0);\n",
        "        var value = customerBreakdown.GetValue();\n",
        "        return $\"{customerIndex.Title}: {value}\";\n",
        "    });\n",
        "display(customerBreakdowns);\n",
        "\n",
        "display(\"\");\n",
        "display(\"=== Breakdown by Years ===\");\n",
        "var yearBreakdowns = threeDCube.BreakdownByDimensions(1) // Second dimension (years)\n",
        "    .Select(yearBreakdown =>\n",
        "    {\n",
        "        var yearIndex = yearBreakdown.GetBoundIndexDefinition(1);\n",
        "        var value = yearBreakdown.GetValue();\n",
        "        return $\"{yearIndex.Title}: {value}\";\n",
        "    });\n",
        "display(yearBreakdowns);\n",
        "\n",
        "display(\"\");\n",
        "display(\"=== Customer A Breakdown by Year and Product ===\");\n",
        "var customerAData = threeDCube.Slice(\"A\");\n",
        "foreach(var yearBreakdown in customerAData.BreakdownByDimensions(0)) // Years in sliced cube\n",
        "{\n",
        "    var yearIndex = yearBreakdown.GetBoundIndexDefinition(0);\n",
        "    display($\"\\n{yearIndex.Title}:\");\n",
        "\n",
        "    var productDetails = yearBreakdown.BreakdownByDimensions(0) // Products\n",
        "        .Where(productBreakdown => productBreakdown.GetValue() > 0) // Only show non-zero values\n",
        "        .Select(productBreakdown =>\n",
        "        {\n",
        "            var productIndex = productBreakdown.GetBoundIndexDefinition(0);\n",
        "            var value = productBreakdown.GetValue();\n",
        "            return $\"  {productIndex.Title}: {value}\";\n",
        "        });\n",
        "\n",
        "    display(productDetails);\n",
        "}"
      ]
    },
    {
      "cell_type": "markdown",
      "metadata": {},
      "source": [
        "## Chapter 5: Asynchronous Operations\n",
        "\n",
        "CubeSharp supports building cubes from asynchronous data sources:"
      ]
    },
    {
      "cell_type": "code",
      "execution_count": 19,
      "metadata": {
        "dotnet_interactive": {
          "language": "csharp"
        }
      },
      "outputs": [
        {
          "ename": "Error",
          "evalue": "(20,24): error CS0103: The name 'AggregationDefinition' does not exist in the current context\r\n(25,24): error CS0103: The name 'DimensionDefinition' does not exist in the current context\r\n(28,5): error CS0103: The name 'IndexDefinition' does not exist in the current context\r\n(29,5): error CS0103: The name 'IndexDefinition' does not exist in the current context\r\n(30,5): error CS0103: The name 'IndexDefinition' does not exist in the current context\r\n(33,20): error CS0103: The name 'DimensionDefinition' does not exist in the current context\r\n(36,5): error CS0103: The name 'IndexDefinition' does not exist in the current context\r\n(37,5): error CS0103: The name 'IndexDefinition' does not exist in the current context\r\n(41,40): error CS1061: 'IAsyncEnumerable<dynamic>' does not contain a definition for 'BuildCubeAsync' and no accessible extension method 'BuildCubeAsync' accepting a first argument of type 'IAsyncEnumerable<dynamic>' could be found (are you missing a using directive or an assembly reference?)",
          "output_type": "error",
          "traceback": [
            "(20,24): error CS0103: The name 'AggregationDefinition' does not exist in the current context\r\n",
            "(25,24): error CS0103: The name 'DimensionDefinition' does not exist in the current context\r\n",
            "(28,5): error CS0103: The name 'IndexDefinition' does not exist in the current context\r\n",
            "(29,5): error CS0103: The name 'IndexDefinition' does not exist in the current context\r\n",
            "(30,5): error CS0103: The name 'IndexDefinition' does not exist in the current context\r\n",
            "(33,20): error CS0103: The name 'DimensionDefinition' does not exist in the current context\r\n",
            "(36,5): error CS0103: The name 'IndexDefinition' does not exist in the current context\r\n",
            "(37,5): error CS0103: The name 'IndexDefinition' does not exist in the current context\r\n",
            "(41,40): error CS1061: 'IAsyncEnumerable<dynamic>' does not contain a definition for 'BuildCubeAsync' and no accessible extension method 'BuildCubeAsync' accepting a first argument of type 'IAsyncEnumerable<dynamic>' could be found (are you missing a using directive or an assembly reference?)"
          ]
        }
      ],
      "source": [
        "// Simulate an async data source\n",
        "async IAsyncEnumerable<dynamic> GetOrdersAsync()\n",
        "{\n",
        "    var asyncOrders = new[] {\n",
        "        new { CustomerId = \"A\", Year = \"2007\", Amount = 100m },\n",
        "        new { CustomerId = \"B\", Year = \"2007\", Amount = 200m },\n",
        "        new { CustomerId = \"A\", Year = \"2008\", Amount = 150m },\n",
        "        new { CustomerId = \"C\", Year = \"2008\", Amount = 175m }\n",
        "    };\n",
        "\n",
        "    foreach(var order in asyncOrders)\n",
        "    {\n",
        "        // Simulate async delay\n",
        "        await Task.Delay(100);\n",
        "        yield return order;\n",
        "    }\n",
        "}\n",
        "\n",
        "// Define aggregation and dimensions for async operation\n",
        "var asyncAggregation = AggregationDefinition.Create(\n",
        "    (dynamic order) => (decimal)order.Amount,\n",
        "    (a, b) => a + b,\n",
        "    0m);\n",
        "\n",
        "var asyncCustomerDim = DimensionDefinition.Create(\n",
        "    (dynamic order) => (string)order.CustomerId,\n",
        "    title: \"Customers\",\n",
        "    IndexDefinition.Create(\"A\", \"Customer A\"),\n",
        "    IndexDefinition.Create(\"B\", \"Customer B\"),\n",
        "    IndexDefinition.Create(\"C\", \"Customer C\"))\n",
        "    .WithTrailingDefaultIndex(\"Total\");\n",
        "\n",
        "var asyncYearDim = DimensionDefinition.Create(\n",
        "    (dynamic order) => (string)order.Year,\n",
        "    title: \"Years\",\n",
        "    IndexDefinition.Create(\"2007\", \"2007\"),\n",
        "    IndexDefinition.Create(\"2008\", \"2008\"))\n",
        "    .WithTrailingDefaultIndex(\"Total\");\n",
        "\n",
        "display(\"Building cube from async data source...\");\n",
        "var asyncCube = await GetOrdersAsync().BuildCubeAsync(asyncAggregation, asyncCustomerDim, asyncYearDim);\n",
        "\n",
        "display(\"=== Async Cube Results ===\");\n",
        "display($\"Total: ${asyncCube.GetValue():F2}\");\n",
        "display($\"Customer A: ${asyncCube.GetValue(\"A\"):F2}\");\n",
        "display($\"2007: ${asyncCube.GetValue(default, \"2007\"):F2}\");\n",
        "display($\"Customer A 2007: ${asyncCube.GetValue(\"A\", \"2007\"):F2}\");"
      ]
    },
    {
      "cell_type": "markdown",
      "metadata": {},
      "source": [
        "## Chapter 6: Real-world Example - Sales Dashboard\n",
        "\n",
        "Let's create a comprehensive sales dashboard using all the concepts we've learned:"
      ]
    },
    {
      "cell_type": "code",
      "execution_count": 20,
      "metadata": {
        "dotnet_interactive": {
          "language": "csharp"
        }
      },
      "outputs": [
        {
          "data": {
            "text/plain": [
              "Sales data loaded: 8 transactions"
            ]
          },
          "metadata": {},
          "output_type": "display_data"
        },
        {
          "data": {
            "text/plain": [
              "Total revenue: $55100.00"
            ]
          },
          "metadata": {},
          "output_type": "display_data"
        }
      ],
      "source": [
        "// Comprehensive sales data\n",
        "var salesData = new[] {\n",
        "    new { Date = new DateTime(2023, 1, 15), Region = \"North\", Category = \"Electronics\", Product = \"Laptop\", Quantity = 5, UnitPrice = 1200m, SalespersonId = \"SP1\" },\n",
        "    new { Date = new DateTime(2023, 1, 20), Region = \"North\", Category = \"Electronics\", Product = \"Phone\", Quantity = 12, UnitPrice = 800m, SalespersonId = \"SP1\" },\n",
        "    new { Date = new DateTime(2023, 2, 10), Region = \"South\", Category = \"Electronics\", Product = \"Laptop\", Quantity = 8, UnitPrice = 1200m, SalespersonId = \"SP2\" },\n",
        "    new { Date = new DateTime(2023, 2, 15), Region = \"North\", Category = \"Clothing\", Product = \"Jacket\", Quantity = 20, UnitPrice = 150m, SalespersonId = \"SP3\" },\n",
        "    new { Date = new DateTime(2023, 3, 5), Region = \"South\", Category = \"Electronics\", Product = \"Tablet\", Quantity = 15, UnitPrice = 600m, SalespersonId = \"SP2\" },\n",
        "    new { Date = new DateTime(2023, 3, 12), Region = \"East\", Category = \"Clothing\", Product = \"Shoes\", Quantity = 25, UnitPrice = 80m, SalespersonId = \"SP4\" },\n",
        "    new { Date = new DateTime(2023, 4, 8), Region = \"East\", Category = \"Electronics\", Product = \"Phone\", Quantity = 18, UnitPrice = 800m, SalespersonId = \"SP4\" },\n",
        "    new { Date = new DateTime(2023, 4, 20), Region = \"North\", Category = \"Clothing\", Product = \"Jacket\", Quantity = 10, UnitPrice = 150m, SalespersonId = \"SP3\" }\n",
        "};\n",
        "\n",
        "display($\"Sales data loaded: {salesData.Length} transactions\");\n",
        "display($\"Total revenue: ${salesData.Sum(s => s.Quantity * s.UnitPrice):F2}\");"
      ]
    },
    {
      "cell_type": "code",
      "execution_count": 21,
      "metadata": {
        "dotnet_interactive": {
          "language": "csharp"
        }
      },
      "outputs": [
        {
          "ename": "Error",
          "evalue": "(2,20): error CS0103: The name 'AggregationDefinition' does not exist in the current context\r\n(17,23): error CS0103: The name 'DimensionDefinition' does not exist in the current context\r\n(21,5): error CS0103: The name 'IndexDefinition' does not exist in the current context\r\n(22,5): error CS0103: The name 'IndexDefinition' does not exist in the current context\r\n(23,5): error CS0103: The name 'IndexDefinition' does not exist in the current context\r\n(26,25): error CS0103: The name 'DimensionDefinition' does not exist in the current context\r\n(30,5): error CS0103: The name 'IndexDefinition' does not exist in the current context\r\n(31,5): error CS0103: The name 'IndexDefinition' does not exist in the current context\r\n(34,22): error CS0103: The name 'DimensionDefinition' does not exist in the current context\r\n(38,5): error CS0103: The name 'IndexDefinition' does not exist in the current context\r\n(39,5): error CS0103: The name 'IndexDefinition' does not exist in the current context\r\n(40,5): error CS0103: The name 'IndexDefinition' does not exist in the current context\r\n(41,5): error CS0103: The name 'IndexDefinition' does not exist in the current context",
          "output_type": "error",
          "traceback": [
            "(2,20): error CS0103: The name 'AggregationDefinition' does not exist in the current context\r\n",
            "(17,23): error CS0103: The name 'DimensionDefinition' does not exist in the current context\r\n",
            "(21,5): error CS0103: The name 'IndexDefinition' does not exist in the current context\r\n",
            "(22,5): error CS0103: The name 'IndexDefinition' does not exist in the current context\r\n",
            "(23,5): error CS0103: The name 'IndexDefinition' does not exist in the current context\r\n",
            "(26,25): error CS0103: The name 'DimensionDefinition' does not exist in the current context\r\n",
            "(30,5): error CS0103: The name 'IndexDefinition' does not exist in the current context\r\n",
            "(31,5): error CS0103: The name 'IndexDefinition' does not exist in the current context\r\n",
            "(34,22): error CS0103: The name 'DimensionDefinition' does not exist in the current context\r\n",
            "(38,5): error CS0103: The name 'IndexDefinition' does not exist in the current context\r\n",
            "(39,5): error CS0103: The name 'IndexDefinition' does not exist in the current context\r\n",
            "(40,5): error CS0103: The name 'IndexDefinition' does not exist in the current context\r\n",
            "(41,5): error CS0103: The name 'IndexDefinition' does not exist in the current context"
          ]
        }
      ],
      "source": [
        "// Define comprehensive aggregations\n",
        "var salesMetrics = AggregationDefinition.CreateForCollection(\n",
        "    salesData,\n",
        "    sale => new {\n",
        "        Revenue = sale.Quantity * sale.UnitPrice,\n",
        "        Quantity = sale.Quantity,\n",
        "        TransactionCount = 1\n",
        "    },\n",
        "    (a, b) => new {\n",
        "        Revenue = a.Revenue + b.Revenue,\n",
        "        Quantity = a.Quantity + b.Quantity,\n",
        "        TransactionCount = a.TransactionCount + b.TransactionCount\n",
        "    },\n",
        "    new { Revenue = 0m, Quantity = 0, TransactionCount = 0 });\n",
        "\n",
        "// Define dimensions\n",
        "var regionDimension = DimensionDefinition.CreateForCollection(\n",
        "    salesData,\n",
        "    sale => sale.Region,\n",
        "    title: \"Regions\",\n",
        "    IndexDefinition.Create(\"North\", \"Northern Region\"),\n",
        "    IndexDefinition.Create(\"South\", \"Southern Region\"),\n",
        "    IndexDefinition.Create(\"East\", \"Eastern Region\"))\n",
        "    .WithTrailingDefaultIndex(\"All Regions\");\n",
        "\n",
        "var categoryDimension = DimensionDefinition.CreateForCollection(\n",
        "    salesData,\n",
        "    sale => sale.Category,\n",
        "    title: \"Categories\",\n",
        "    IndexDefinition.Create(\"Electronics\", \"Electronics\"),\n",
        "    IndexDefinition.Create(\"Clothing\", \"Clothing\"))\n",
        "    .WithTrailingDefaultIndex(\"All Categories\");\n",
        "\n",
        "var monthDimension = DimensionDefinition.CreateForCollection(\n",
        "    salesData,\n",
        "    sale => sale.Date.ToString(\"yyyy-MM\"),\n",
        "    title: \"Months\",\n",
        "    IndexDefinition.Create(\"2023-01\", \"January 2023\"),\n",
        "    IndexDefinition.Create(\"2023-02\", \"February 2023\"),\n",
        "    IndexDefinition.Create(\"2023-03\", \"March 2023\"),\n",
        "    IndexDefinition.Create(\"2023-04\", \"April 2023\"))\n",
        "    .WithTrailingDefaultIndex(\"All Months\");\n",
        "\n",
        "display(\"Dimensions defined: Region, Category, Month\");"
      ]
    },
    {
      "cell_type": "code",
      "execution_count": 22,
      "metadata": {
        "dotnet_interactive": {
          "language": "csharp"
        }
      },
      "outputs": [
        {
          "ename": "Error",
          "evalue": "(2,37): error CS0103: The name 'salesMetrics' does not exist in the current context\r\n(2,51): error CS0103: The name 'regionDimension' does not exist in the current context\r\n(2,68): error CS0103: The name 'categoryDimension' does not exist in the current context\r\n(2,87): error CS0103: The name 'monthDimension' does not exist in the current context\r\n(2,27): error CS1061: '<anonymous type: DateTime Date, string Region, string Category, string Product, int Quantity, decimal UnitPrice, string SalespersonId>[]' does not contain a definition for 'BuildCube' and no accessible extension method 'BuildCube' accepting a first argument of type '<anonymous type: DateTime Date, string Region, string Category, string Product, int Quantity, decimal UnitPrice, string SalespersonId>[]' could be found (are you missing a using directive or an assembly reference?)",
          "output_type": "error",
          "traceback": [
            "(2,37): error CS0103: The name 'salesMetrics' does not exist in the current context\r\n",
            "(2,51): error CS0103: The name 'regionDimension' does not exist in the current context\r\n",
            "(2,68): error CS0103: The name 'categoryDimension' does not exist in the current context\r\n",
            "(2,87): error CS0103: The name 'monthDimension' does not exist in the current context\r\n",
            "(2,27): error CS1061: '<anonymous type: DateTime Date, string Region, string Category, string Product, int Quantity, decimal UnitPrice, string SalespersonId>[]' does not contain a definition for 'BuildCube' and no accessible extension method 'BuildCube' accepting a first argument of type '<anonymous type: DateTime Date, string Region, string Category, string Product, int Quantity, decimal UnitPrice, string SalespersonId>[]' could be found (are you missing a using directive or an assembly reference?)"
          ]
        }
      ],
      "source": [
        "// Build comprehensive sales cube\n",
        "var salesCube = salesData.BuildCube(salesMetrics, regionDimension, categoryDimension, monthDimension);\n",
        "\n",
        "display(\"=== Sales Dashboard - Overall Metrics ===\");\n",
        "var totalMetrics = salesCube.GetValue();\n",
        "display($\"Total Revenue: ${totalMetrics.Revenue:F2}\");\n",
        "display($\"Total Units Sold: {totalMetrics.Quantity:N0}\");\n",
        "display($\"Total Transactions: {totalMetrics.TransactionCount:N0}\");\n",
        "display($\"Average Transaction Value: ${totalMetrics.Revenue / totalMetrics.TransactionCount:F2}\");\n",
        "\n",
        "display(\"\");\n",
        "display(\"=== Revenue by Region ===\");\n",
        "var regionBreakdowns = salesCube.BreakdownByDimensions(0)\n",
        "    .Select(regionBreakdown =>\n",
        "    {\n",
        "        var region = regionBreakdown.GetBoundIndexDefinition(0);\n",
        "        var metrics = regionBreakdown.GetValue();\n",
        "        var percentage = totalMetrics.Revenue > 0 ? (metrics.Revenue / totalMetrics.Revenue * 100) : 0;\n",
        "        return $\"{region.Title,-16}: ${metrics.Revenue,10:F2} ({percentage,5:F1}%)\";\n",
        "    });\n",
        "display(regionBreakdowns);\n",
        "\n",
        "display(\"\");\n",
        "display(\"=== Revenue by Category ===\");\n",
        "var categoryBreakdowns = salesCube.BreakdownByDimensions(1)\n",
        "    .Select(categoryBreakdown =>\n",
        "    {\n",
        "        var category = categoryBreakdown.GetBoundIndexDefinition(1);\n",
        "        var metrics = categoryBreakdown.GetValue();\n",
        "        var percentage = totalMetrics.Revenue > 0 ? (metrics.Revenue / totalMetrics.Revenue * 100) : 0;\n",
        "        return $\"{category.Title,-16}: ${metrics.Revenue,10:F2} ({percentage,5:F1}%)\";\n",
        "    });\n",
        "display(categoryBreakdowns);"
      ]
    },
    {
      "cell_type": "code",
      "execution_count": 23,
      "metadata": {
        "dotnet_interactive": {
          "language": "csharp"
        }
      },
      "outputs": [
        {
          "ename": "Error",
          "evalue": "(8,19): error CS0103: The name 'salesCube' does not exist in the current context\r\n(28,32): error CS0103: The name 'salesCube' does not exist in the current context",
          "output_type": "error",
          "traceback": [
            "(8,19): error CS0103: The name 'salesCube' does not exist in the current context\r\n",
            "(28,32): error CS0103: The name 'salesCube' does not exist in the current context"
          ]
        }
      ],
      "source": [
        "// Monthly trend analysis\n",
        "display(\"=== Monthly Revenue Trend ===\");\n",
        "var headerRow = $\"{\"Month\",-15} {\"Revenue\",12} {\"Quantity\",10} {\"Transactions\",12} {\"Avg/Trans\",10}\";\n",
        "var separatorRow = new string('-', 65);\n",
        "display(headerRow);\n",
        "display(separatorRow);\n",
        "\n",
        "var monthlyData = salesCube.BreakdownByDimensions(2)\n",
        "    .Select(monthBreakdown =>\n",
        "    {\n",
        "        var month = monthBreakdown.GetBoundIndexDefinition(2);\n",
        "        var metrics = monthBreakdown.GetValue();\n",
        "        var avgTransaction = metrics.TransactionCount > 0 ? metrics.Revenue / metrics.TransactionCount : 0;\n",
        "\n",
        "        if(metrics.Revenue > 0) // Skip months with no sales\n",
        "        {\n",
        "            return $\"{month.Title,-15} ${metrics.Revenue,10:F2} {metrics.Quantity,9:N0} {metrics.TransactionCount,11:N0} ${avgTransaction,9:F2}\";\n",
        "        }\n",
        "        return null;\n",
        "    })\n",
        "    .Where(row => row != null);\n",
        "\n",
        "display(monthlyData);\n",
        "\n",
        "// Regional breakdown by category\n",
        "display(\"\");\n",
        "display(\"=== Regional Performance by Category ===\");\n",
        "foreach(var regionBreakdown in salesCube.BreakdownByDimensions(0))\n",
        "{\n",
        "    var region = regionBreakdown.GetBoundIndexDefinition(0);\n",
        "    if(regionBreakdown.GetValue().Revenue == 0) continue; // Skip regions with no sales\n",
        "\n",
        "    display($\"\\n{region.Title}:\");\n",
        "\n",
        "    var categoryDetails = regionBreakdown.BreakdownByDimensions(0) // Categories within region\n",
        "        .Where(categoryBreakdown => categoryBreakdown.GetValue().Revenue > 0)\n",
        "        .Select(categoryBreakdown =>\n",
        "        {\n",
        "            var category = categoryBreakdown.GetBoundIndexDefinition(0);\n",
        "            var metrics = categoryBreakdown.GetValue();\n",
        "            return $\"  {category.Title,-12}: ${metrics.Revenue,8:F2} ({metrics.TransactionCount} transactions)\";\n",
        "        });\n",
        "\n",
        "    display(categoryDetails);\n",
        "}"
      ]
    },
    {
      "cell_type": "markdown",
      "metadata": {},
      "source": [
        "## Chapter 7: Best Practices and Performance Tips\n",
        "\n",
        "### 1. Type Safety and Inference\n",
        "\n",
        "Use type inference when possible, but be explicit when needed:"
      ]
    },
    {
      "cell_type": "code",
      "execution_count": 24,
      "metadata": {
        "dotnet_interactive": {
          "language": "csharp"
        }
      },
      "outputs": [
        {
          "ename": "Error",
          "evalue": "(2,23): error CS0103: The name 'AggregationDefinition' does not exist in the current context\r\n(3,5): error CS0103: The name 'orders' does not exist in the current context\r\n(9,27): error CS0103: The name 'AggregationDefinition' does not exist in the current context",
          "output_type": "error",
          "traceback": [
            "(2,23): error CS0103: The name 'AggregationDefinition' does not exist in the current context\r\n",
            "(3,5): error CS0103: The name 'orders' does not exist in the current context\r\n",
            "(9,27): error CS0103: The name 'AggregationDefinition' does not exist in the current context"
          ]
        }
      ],
      "source": [
        "// ✅ Good: Use CreateForCollection for type inference\n",
        "var goodAggregation = AggregationDefinition.CreateForCollection(\n",
        "    orders,\n",
        "    order => order.Quantity,\n",
        "    (a, b) => a + b,\n",
        "    0m);\n",
        "\n",
        "// ✅ Good: Explicit types when inference fails\n",
        "var explicitAggregation = AggregationDefinition.Create<dynamic, decimal>(\n",
        "    order => order.Amount,\n",
        "    (a, b) => a + b,\n",
        "    0m);\n",
        "\n",
        "display(\"Type safety examples completed\");"
      ]
    },
    {
      "cell_type": "markdown",
      "metadata": {},
      "source": [
        "### 2. Memory Efficiency\n",
        "\n",
        "Consider memory usage for large datasets:"
      ]
    },
    {
      "cell_type": "code",
      "execution_count": 25,
      "metadata": {
        "dotnet_interactive": {
          "language": "csharp"
        }
      },
      "outputs": [
        {
          "ename": "Error",
          "evalue": "(19,28): error CS0103: The name 'AggregationDefinition' does not exist in the current context\r\n(20,5): error CS0103: The name 'orders' does not exist in the current context",
          "output_type": "error",
          "traceback": [
            "(19,28): error CS0103: The name 'AggregationDefinition' does not exist in the current context\r\n",
            "(20,5): error CS0103: The name 'orders' does not exist in the current context"
          ]
        }
      ],
      "source": [
        "// For large datasets, consider using structs for aggregation values\n",
        "public struct EfficientMetrics\n",
        "{\n",
        "    public EfficientMetrics(decimal sum, int count)\n",
        "    {\n",
        "        Sum = sum;\n",
        "        Count = count;\n",
        "    }\n",
        "\n",
        "    public decimal Sum { get; }\n",
        "    public int Count { get; }\n",
        "    public decimal Average => Count > 0 ? Sum / Count : 0;\n",
        "\n",
        "    public static EfficientMetrics Combine(EfficientMetrics a, EfficientMetrics b) =>\n",
        "        new(a.Sum + b.Sum, a.Count + b.Count);\n",
        "}\n",
        "\n",
        "// Use efficient aggregation\n",
        "var efficientAggregation = AggregationDefinition.CreateForCollection(\n",
        "    orders,\n",
        "    order => new EfficientMetrics(order.Quantity, 1),\n",
        "    EfficientMetrics.Combine,\n",
        "    new EfficientMetrics(0, 0));\n",
        "\n",
        "display(\"Memory-efficient aggregation pattern demonstrated\");"
      ]
    },
    {
      "cell_type": "markdown",
      "metadata": {},
      "source": [
        "### 3. Error Handling\n",
        "\n",
        "Handle edge cases gracefully:"
      ]
    },
    {
      "cell_type": "code",
      "execution_count": 26,
      "metadata": {
        "dotnet_interactive": {
          "language": "csharp"
        }
      },
      "outputs": [
        {
          "ename": "Error",
          "evalue": "(19,27): error CS0103: The name 'DimensionDefinition' does not exist in the current context\r\n(20,5): error CS0103: The name 'orders' does not exist in the current context\r\n(23,5): error CS0103: The name 'IndexDefinition' does not exist in the current context\r\n(24,5): error CS0103: The name 'IndexDefinition' does not exist in the current context",
          "output_type": "error",
          "traceback": [
            "(19,27): error CS0103: The name 'DimensionDefinition' does not exist in the current context\r\n",
            "(20,5): error CS0103: The name 'orders' does not exist in the current context\r\n",
            "(23,5): error CS0103: The name 'IndexDefinition' does not exist in the current context\r\n",
            "(24,5): error CS0103: The name 'IndexDefinition' does not exist in the current context"
          ]
        }
      ],
      "source": [
        "// Safe division aggregation\n",
        "public struct SafeRatio\n",
        "{\n",
        "    public SafeRatio(decimal numerator, decimal denominator)\n",
        "    {\n",
        "        Numerator = numerator;\n",
        "        Denominator = denominator;\n",
        "    }\n",
        "\n",
        "    public decimal Numerator { get; }\n",
        "    public decimal Denominator { get; }\n",
        "    public decimal Ratio => Denominator != 0 ? Numerator / Denominator : 0;\n",
        "\n",
        "    public static SafeRatio Combine(SafeRatio a, SafeRatio b) =>\n",
        "        new(a.Numerator + b.Numerator, a.Denominator + b.Denominator);\n",
        "}\n",
        "\n",
        "// Handle null/missing data\n",
        "var safeStringDimension = DimensionDefinition.CreateForCollection(\n",
        "    orders,\n",
        "    order => order.CustomerId ?? \"Unknown\",  // Handle null customer IDs\n",
        "    title: \"Customers\",\n",
        "    IndexDefinition.Create(\"A\", \"Customer A\"),\n",
        "    IndexDefinition.Create(\"Unknown\", \"Unknown Customers\"))\n",
        "    .WithTrailingDefaultIndex(\"Total\");\n",
        "\n",
        "display(\"Error handling patterns demonstrated\");"
      ]
    },
    {
      "cell_type": "markdown",
      "metadata": {},
      "source": [
        "## Conclusion\n",
        "\n",
        "Congratulations! You've completed the comprehensive CubeSharp tutorial. You've learned:\n",
        "\n",
        "1. **Basic Concepts**: Aggregations, dimensions, and index definitions\n",
        "2. **Advanced Features**: Hierarchical indexes, multi-selection dimensions, and default indexes\n",
        "3. **Querying Techniques**: Value retrieval, slicing, and breakdown operations\n",
        "4. **Asynchronous Operations**: Building cubes from async data sources\n",
        "5. **Real-world Applications**: Complex reporting scenarios\n",
        "6. **Best Practices**: Performance optimization and error handling\n",
        "\n",
        "### Key Takeaways:\n",
        "\n",
        "- **Systematic Approach**: CubeSharp provides a structured way to handle multi-dimensional data analysis\n",
        "- **Flexibility**: Support for complex aggregations, hierarchies, and multi-selection scenarios\n",
        "- **Performance**: In-memory processing with efficient querying capabilities\n",
        "- **Maintainability**: Type-safe, testable code that's easy to refactor\n",
        "\n",
        "### Next Steps:\n",
        "\n",
        "- Experiment with your own data sources\n",
        "- Create custom aggregation types for your specific needs\n",
        "- Integrate with your existing .NET applications\n",
        "- Explore the full API documentation for advanced scenarios\n",
        "\n",
        "Happy coding with CubeSharp!"
      ]
    },
    {
      "cell_type": "code",
      "execution_count": 27,
      "metadata": {
        "dotnet_interactive": {
          "language": "csharp"
        }
      },
      "outputs": [
        {
          "data": {
            "text/plain": [
              "🎉 Tutorial completed successfully!"
            ]
          },
          "metadata": {},
          "output_type": "display_data"
        },
        {
          "data": {
            "text/plain": [
              "Thank you for learning CubeSharp!"
            ]
          },
          "metadata": {},
          "output_type": "display_data"
        }
      ],
      "source": [
        "display(\"🎉 Tutorial completed successfully!\");\n",
        "display(\"Thank you for learning CubeSharp!\");"
      ]
    }
  ],
  "metadata": {
    "kernelspec": {
      "display_name": ".NET (C#)",
      "language": "C#",
      "name": ".net-csharp"
    },
    "language_info": {
      "name": "polyglot-notebook"
    },
    "polyglot_notebook": {
      "kernelInfo": {
        "defaultKernelName": "csharp",
        "items": [
          {
            "aliases": [],
            "languageName": "csharp",
            "name": "csharp"
          }
        ]
      }
    }
  },
  "nbformat": 4,
  "nbformat_minor": 2
}
