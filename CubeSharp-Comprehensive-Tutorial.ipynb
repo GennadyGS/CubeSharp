﻿{
  "cells": [
    {
      "cell_type": "markdown",
      "metadata": {},
      "source": [
        "# CubeSharp Comprehensive Tutorial\n",
        "\n",
        "Welcome to the comprehensive CubeSharp tutorial! This notebook will guide you through all aspects of building and querying multi-dimensional data cubes using the CubeSharp library.\n",
        "\n",
        "## What is CubeSharp?\n",
        "\n",
        "CubeSharp is a lightweight .NET library for building in-memory data cubes. It provides a systematic approach to multi-dimensional data analysis and aggregation, enabling developers to create flexible, testable, and maintainable reporting solutions.\n",
        "\n",
        "## Why Use CubeSharp?\n",
        "\n",
        "Traditional approaches to multi-dimensional reporting present several challenges:\n",
        "- **SQL Limitations**: Limited refactoring and testing capabilities\n",
        "- **Ad-hoc LINQ Solutions**: Code duplication and maintenance difficulties\n",
        "- **CubeSharp Solution**: Systematizes multi-factor reports with structured APIs\n"
      ]
    },
    {
      "cell_type": "markdown",
      "metadata": {},
      "source": [
        "## Setup\n",
        "\n",
        "First, let's add the CubeSharp package and necessary using statements:"
      ]
    },
    {
      "cell_type": "code",
      "execution_count": null,
      "metadata": {
        "dotnet_interactive": {
          "language": "csharp"
        }
      },
      "outputs": [],
      "source": [
        "#r \"nuget: CubeSharp\"\n",
        "\n",
        "using CubeSharp;\n",
        "using System;\n",
        "using System.Collections.Generic;\n",
        "using System.Linq;\n",
        "using System.Threading.Tasks;\n",
        "\n",
        "Console.WriteLine(\"CubeSharp loaded successfully!\");"
      ]
    },
    {
      "cell_type": "markdown",
      "metadata": {},
      "source": [
        "## Chapter 1: Getting Started - Basic Example\n",
        "\n",
        "Let's start with a practical example using order data. We'll create a report with customers as rows, years as columns, and total quantity in each cell."
      ]
    },
    {
      "cell_type": "code",
      "execution_count": null,
      "metadata": {
        "dotnet_interactive": {
          "language": "csharp"
        }
      },
      "outputs": [],
      "source": [
        "// Sample order data\n",
        "var orders = new[] {\n",
        "    new { \n",
        "        OrderDate = new DateTime(2007, 08, 02), \n",
        "        Product = \"Laptop\", \n",
        "        EmployeeId = 3, \n",
        "        CustomerId = \"A\", \n",
        "        Quantity = 10m,\n",
        "    },\n",
        "    new { \n",
        "        OrderDate = new DateTime(2007, 12, 24), \n",
        "        Product = \"Mouse\", \n",
        "        EmployeeId = 4, \n",
        "        CustomerId = \"B\", \n",
        "        Quantity = 12m, \n",
        "    },\n",
        "    new { \n",
        "        OrderDate = new DateTime(2008, 03, 15), \n",
        "        Product = \"Keyboard\", \n",
        "        EmployeeId = 3, \n",
        "        CustomerId = \"A\", \n",
        "        Quantity = 30m, \n",
        "    },\n",
        "    new { \n",
        "        OrderDate = new DateTime(2008, 06, 10), \n",
        "        Product = \"Monitor\", \n",
        "        EmployeeId = 5, \n",
        "        CustomerId = \"C\", \n",
        "        Quantity = 14m, \n",
        "    },\n",
        "    new { \n",
        "        OrderDate = new DateTime(2009, 01, 20), \n",
        "        Product = \"Tablet\", \n",
        "        EmployeeId = 4, \n",
        "        CustomerId = \"D\", \n",
        "        Quantity = 60m, \n",
        "    }\n",
        "};\n",
        "\n",
        "Console.WriteLine($\"Sample data loaded: {orders.Length} orders\");\n",
        "foreach(var order in orders)\n",
        "{\n",
        "    Console.WriteLine($\"  {order.OrderDate:yyyy-MM-dd}: Customer {order.CustomerId} ordered {order.Quantity} {order.Product}(s)\");\n",
        "}"
      ]
    },
    {
      "cell_type": "markdown",
      "metadata": {},
      "source": [
        "### Step 1: Define How to Aggregate Data\n",
        "\n",
        "An aggregation definition specifies:\n",
        "1. **Value Selector**: What value to extract from each record\n",
        "2. **Aggregation Function**: How to combine multiple values\n",
        "3. **Seed Value**: Initial value and default for empty cells"
      ]
    },
    {
      "cell_type": "code",
      "execution_count": null,
      "metadata": {
        "dotnet_interactive": {
          "language": "csharp"
        }
      },
      "outputs": [],
      "source": [
        "// Define how to aggregate data (sum of quantities)\n",
        "var aggregationDefinition = AggregationDefinition.CreateForCollection(\n",
        "    orders,\n",
        "    order => order.Quantity,  // Extract quantity from each order\n",
        "    (a, b) => a + b,         // Sum the values\n",
        "    seedValue: 0);           // Start with 0, use 0 for missing data\n",
        "\n",
        "Console.WriteLine(\"Aggregation definition created: Sum of quantities\");"
      ]
    },
    {
      "cell_type": "markdown",
      "metadata": {},
      "source": [
        "### Step 2: Define Customer Dimension (Rows)\n",
        "\n",
        "A dimension definition specifies how to extract index values from source data and defines which values are relevant for analysis."
      ]
    },
    {
      "cell_type": "code",
      "execution_count": null,
      "metadata": {
        "dotnet_interactive": {
          "language": "csharp"
        }
      },
      "outputs": [],
      "source": [
        "// Define customer dimension (rows)\n",
        "var customerIdDimension = DimensionDefinition.CreateForCollection(\n",
        "    orders,\n",
        "    order => order.CustomerId,  // Extract customer ID from orders\n",
        "    title: \"Customers\",         // Dimension title for display\n",
        "    IndexDefinition.Create(\"A\", \"Customer A\"),\n",
        "    IndexDefinition.Create(\"B\", \"Customer B\"),\n",
        "    IndexDefinition.Create(\"C\", \"Customer C\"),\n",
        "    IndexDefinition.Create(\"D\", \"Customer D\"))\n",
        "        .WithTrailingDefaultIndex(\"Total\");  // Add total column at the end\n",
        "\n",
        "Console.WriteLine(\"Customer dimension created with 4 customers + Total\");"
      ]
    },
    {
      "cell_type": "markdown",
      "metadata": {},
      "source": [
        "### Step 3: Define Year Dimension (Columns)\n",
        "\n",
        "We'll extract the year from the order date and create indexes for each year."
      ]
    },
    {
      "cell_type": "code",
      "execution_count": null,
      "metadata": {
        "dotnet_interactive": {
          "language": "csharp"
        }
      },
      "outputs": [],
      "source": [
        "// Define year dimension (columns)\n",
        "var yearDimension = DimensionDefinition.CreateForCollection(\n",
        "    orders,\n",
        "    order => order.OrderDate.Year.ToString(),  // Extract year as string\n",
        "    title: \"Years\",\n",
        "    IndexDefinition.Create(\"2007\", \"2007 Year\"),\n",
        "    IndexDefinition.Create(\"2008\", \"2008 Year\"),\n",
        "    IndexDefinition.Create(\"2009\", \"2009 Year\"))\n",
        "        .WithTrailingDefaultIndex(\"Total\");   // Add total row at the end\n",
        "\n",
        "Console.WriteLine(\"Year dimension created with 3 years + Total\");"
      ]
    },
    {
      "cell_type": "markdown",
      "metadata": {},
      "source": [
        "### Step 4: Build the Cube\n",
        "\n",
        "Now we combine everything to build our data cube:"
      ]
    },
    {
      "cell_type": "code",
      "execution_count": null,
      "metadata": {
        "dotnet_interactive": {
          "language": "csharp"
        }
      },
      "outputs": [],
      "source": [
        "// Build the cube\n",
        "var cube = orders.BuildCube(aggregationDefinition, customerIdDimension, yearDimension);\n",
        "\n",
        "Console.WriteLine(\"Data cube built successfully!\");\n",
        "Console.WriteLine($\"Cube dimensions: {cube.Dimensions.Count}\");\n",
        "Console.WriteLine($\"Total value across all dimensions: {cube.GetValue()}\");"
      ]
    },
    {
      "cell_type": "markdown",
      "metadata": {},
      "source": [
        "### Step 5: Query the Cube\n",
        "\n",
        "Now let's explore different ways to query our cube:"
      ]
    },
    {
      "cell_type": "code",
      "execution_count": null,
      "metadata": {
        "dotnet_interactive": {
          "language": "csharp"
        }
      },
      "outputs": [],
      "source": [
        "// Basic queries\n",
        "Console.WriteLine(\"=== Basic Cube Queries ===\");\n",
        "\n",
        "// Total across all customers and years\n",
        "var grandTotal = cube.GetValue();\n",
        "Console.WriteLine($\"Grand Total: {grandTotal}\");\n",
        "\n",
        "// Total for Customer A across all years\n",
        "var customerATotal = cube.GetValue(\"A\");\n",
        "Console.WriteLine($\"Customer A Total: {customerATotal}\");\n",
        "\n",
        "// Total for all customers in 2007\n",
        "var year2007Total = cube.GetValue(default, \"2007\");\n",
        "Console.WriteLine($\"2007 Total: {year2007Total}\");\n",
        "\n",
        "// Specific cell: Customer A in 2007\n",
        "var specificValue = cube.GetValue(\"A\", \"2007\");\n",
        "Console.WriteLine($\"Customer A in 2007: {specificValue}\");\n",
        "\n",
        "// Non-existent data (returns seed value)\n",
        "var unknownCustomer = cube.GetValue(\"Z\", \"2007\");\n",
        "Console.WriteLine($\"Unknown Customer Z in 2007: {unknownCustomer}\");"
      ]
    },
    {
      "cell_type": "markdown",
      "metadata": {},
      "source": [
        "### Step 6: Create a Complete Report\n",
        "\n",
        "Let's transform our cube into a tabular report format:"
      ]
    },
    {
      "cell_type": "code",
      "execution_count": null,
      "metadata": {
        "dotnet_interactive": {
          "language": "csharp"
        }
      },
      "outputs": [],
      "source": [
        "Console.WriteLine(\"\\n=== Complete Report ===\");\n",
        "Console.WriteLine();\n",
        "\n",
        "// Create report headers\n",
        "var yearHeaders = yearDimension.Select(idx => idx.Title).ToArray();\n",
        "Console.WriteLine($\"{\"Customers\",-12} | {string.Join(\" | \", yearHeaders.Select(h => $\"{h,10}\"))}\");\n",
        "Console.WriteLine(new string('-', 12 + 3 + yearHeaders.Length * 13));\n",
        "\n",
        "// Generate report rows\n",
        "foreach(var customer in customerIdDimension)\n",
        "{\n",
        "    var customerTitle = customer.Title.PadRight(12);\n",
        "    var values = yearDimension.Select(year => \n",
        "    {\n",
        "        var value = cube.GetValue(customer.Value, year.Value);\n",
        "        return $\"{value,10}\";\n",
        "    });\n",
        "    \n",
        "    Console.WriteLine($\"{customerTitle} | {string.Join(\" | \", values)}\");\n",
        "}"
      ]
    },
    {
      "cell_type": "markdown",
      "metadata": {},
      "source": [
        "## Chapter 2: Core Concepts Deep Dive\n",
        "\n",
        "### Aggregation Definitions\n",
        "\n",
        "Let's explore different types of aggregation patterns:"
      ]
    },
    {
      "cell_type": "code",
      "execution_count": null,
      "metadata": {
        "dotnet_interactive": {
          "language": "csharp"
        }
      },
      "outputs": [],
      "source": [
        "Console.WriteLine(\"=== Different Aggregation Patterns ===\");\n",
        "\n",
        "// Sample numeric data\n",
        "var numbers = new[] { 1, 5, 3, 9, 2, 7, 4, 8, 6 };\n",
        "\n",
        "// 1. Sum aggregation\n",
        "var sumAggregation = AggregationDefinition.Create(\n",
        "    (int i) => i, \n",
        "    (a, b) => a + b, \n",
        "    0);\n",
        "Console.WriteLine(\"Sum aggregation created\");\n",
        "\n",
        "// 2. Count aggregation\n",
        "var countAggregation = AggregationDefinition.Create(\n",
        "    (int item) => 1, \n",
        "    (a, b) => a + b, \n",
        "    0);\n",
        "Console.WriteLine(\"Count aggregation created\");\n",
        "\n",
        "// 3. Minimum aggregation\n",
        "var minAggregation = AggregationDefinition.Create(\n",
        "    (int i) => i, \n",
        "    (a, b) => Math.Min(a, b), \n",
        "    int.MaxValue);\n",
        "Console.WriteLine(\"Minimum aggregation created\");\n",
        "\n",
        "// 4. Maximum aggregation\n",
        "var maxAggregation = AggregationDefinition.Create(\n",
        "    (int i) => i, \n",
        "    (a, b) => Math.Max(a, b), \n",
        "    int.MinValue);\n",
        "Console.WriteLine(\"Maximum aggregation created\");\n",
        "\n",
        "// 5. Collection aggregation\n",
        "var collectionAggregation = AggregationDefinition.Create(\n",
        "    (int i) => new[] { i },\n",
        "    (a, b) => a.Concat(b).ToArray(),\n",
        "    Array.Empty<int>());\n",
        "Console.WriteLine(\"Collection aggregation created\");"
      ]
    },
    {
      "cell_type": "markdown",
      "metadata": {},
      "source": [
        "### Complex Aggregations - Count and Sum Together\n",
        "\n",
        "Sometimes you need multiple calculations per cell. Here's how to create composite aggregations:"
      ]
    },
    {
      "cell_type": "code",
      "execution_count": null,
      "metadata": {
        "dotnet_interactive": {
          "language": "csharp"
        }
      },
      "outputs": [],
      "source": [
        "// Define a composite type for count and sum\n",
        "public struct CountAndSum\n",
        "{\n",
        "    public CountAndSum(int count, decimal sum)\n",
        "    {\n",
        "        Count = count;\n",
        "        Sum = sum;\n",
        "    }\n",
        "\n",
        "    public int Count { get; }\n",
        "    public decimal Sum { get; }\n",
        "    public decimal Average => Count > 0 ? Sum / Count : 0;\n",
        "\n",
        "    public static CountAndSum Zero => new(0, 0);\n",
        "    \n",
        "    public static CountAndSum Combine(CountAndSum left, CountAndSum right) =>\n",
        "        new(left.Count + right.Count, left.Sum + right.Sum);\n",
        "    \n",
        "    public override string ToString() => $\"Count: {Count}, Sum: {Sum}, Avg: {Average:F2}\";\n",
        "}\n",
        "\n",
        "// Use composite aggregation with our orders\n",
        "var compositeAggregation = AggregationDefinition.CreateForCollection(\n",
        "    orders,\n",
        "    order => new CountAndSum(1, order.Quantity),\n",
        "    CountAndSum.Combine,\n",
        "    CountAndSum.Zero);\n",
        "\n",
        "var compositeCube = orders.BuildCube(compositeAggregation, customerIdDimension);\n",
        "\n",
        "Console.WriteLine(\"\\n=== Composite Aggregation Results ===\");\n",
        "Console.WriteLine($\"Total across all customers: {compositeCube.GetValue()}\");\n",
        "Console.WriteLine($\"Customer A stats: {compositeCube.GetValue(\\\"A\\\")}\");\n",
        "Console.WriteLine($\"Customer B stats: {compositeCube.GetValue(\\\"B\\\")}\");"
      ]
    },
    {
      "cell_type": "markdown",
      "metadata": {},
      "source": [
        "## Chapter 3: Advanced Dimension Features\n",
        "\n",
        "### Hierarchical Indexes\n",
        "\n",
        "Let's create dimensions with parent-child relationships for subtotals:"
      ]
    },
    {
      "cell_type": "code",
      "execution_count": null,
      "metadata": {
        "dotnet_interactive": {
          "language": "csharp"
        }
      },
      "outputs": [],
      "source": [
        "// Sample product data with categories\n",
        "var products = new[] {\n",
        "    new { ProductId = \"P1\", Name = \"iPhone\", Category = \"Electronics\", SubCategory = \"Phones\", Price = 999m },\n",
        "    new { ProductId = \"P2\", Name = \"Samsung Galaxy\", Category = \"Electronics\", SubCategory = \"Phones\", Price = 899m },\n",
        "    new { ProductId = \"P3\", Name = \"iPad\", Category = \"Electronics\", SubCategory = \"Tablets\", Price = 599m },\n",
        "    new { ProductId = \"P4\", Name = \"MacBook\", Category = \"Electronics\", SubCategory = \"Laptops\", Price = 1299m },\n",
        "    new { ProductId = \"P5\", Name = \"T-Shirt\", Category = \"Clothing\", SubCategory = \"Shirts\", Price = 25m },\n",
        "    new { ProductId = \"P6\", Name = \"Jeans\", Category = \"Clothing\", SubCategory = \"Pants\", Price = 75m }\n",
        "};\n",
        "\n",
        "Console.WriteLine(\"Sample product data:\");\n",
        "foreach(var product in products)\n",
        "{\n",
        "    Console.WriteLine($\"  {product.Name} ({product.SubCategory}) - ${product.Price}\");\n",
        "}"
      ]
    },
    {
      "cell_type": "code",
      "execution_count": null,
      "metadata": {
        "dotnet_interactive": {
          "language": "csharp"
        }
      },
      "outputs": [],
      "source": [
        "// Create hierarchical dimension with categories and subcategories\n",
        "var hierarchicalDimension = DimensionDefinition.CreateForCollection(\n",
        "    products,\n",
        "    product => product.SubCategory,  // We map to subcategory\n",
        "    title: \"Product Categories\",\n",
        "    // Electronics category with subcategories\n",
        "    IndexDefinition.Create(\n",
        "        \"Electronics\", \"Electronics Category\",\n",
        "        IndexDefinition.Create(\"Phones\", \"Mobile Phones\"),\n",
        "        IndexDefinition.Create(\"Tablets\", \"Tablets\"),\n",
        "        IndexDefinition.Create(\"Laptops\", \"Laptop Computers\")),\n",
        "    // Clothing category with subcategories\n",
        "    IndexDefinition.Create(\n",
        "        \"Clothing\", \"Clothing Category\",\n",
        "        IndexDefinition.Create(\"Shirts\", \"Shirts\"),\n",
        "        IndexDefinition.Create(\"Pants\", \"Pants\")))\n",
        "    .WithTrailingDefaultIndex(\"All Products\");\n",
        "\n",
        "// Price aggregation\n",
        "var priceAggregation = AggregationDefinition.CreateForCollection(\n",
        "    products,\n",
        "    product => product.Price,\n",
        "    (a, b) => a + b,\n",
        "    0m);\n",
        "\n",
        "var hierarchicalCube = products.BuildCube(priceAggregation, hierarchicalDimension);\n",
        "\n",
        "Console.WriteLine(\"\\n=== Hierarchical Dimension Results ===\");\n",
        "Console.WriteLine($\"Total value of all products: ${hierarchicalCube.GetValue():F2}\");\n",
        "Console.WriteLine($\"Electronics category total: ${hierarchicalCube.GetValue(\\\"Electronics\\\"):F2}\");\n",
        "Console.WriteLine($\"Phones subcategory total: ${hierarchicalCube.GetValue(\\\"Phones\\\"):F2}\");\n",
        "Console.WriteLine($\"Clothing category total: ${hierarchicalCube.GetValue(\\\"Clothing\\\"):F2}\");\n",
        "Console.WriteLine($\"Shirts subcategory total: ${hierarchicalCube.GetValue(\\\"Shirts\\\"):F2}\");"
      ]
    },
    {
      "cell_type": "markdown",
      "metadata": {},
      "source": [
        "### Multi-selection Dimensions\n",
        "\n",
        "Sometimes a single record can belong to multiple index values within the same dimension. For example, products with multiple tags:"
      ]
    },
    {
      "cell_type": "code",
      "execution_count": null,
      "metadata": {
        "dotnet_interactive": {
          "language": "csharp"
        }
      },
      "outputs": [],
      "source": [
        "// Sample data with multiple tags per order\n",
        "var taggedOrders = new[] {\n",
        "    new { OrderId = 1, Amount = 100m, Tags = new[] { \"bestseller\", \"discount\" } },\n",
        "    new { OrderId = 2, Amount = 200m, Tags = new[] { \"bestseller\" } },\n",
        "    new { OrderId = 3, Amount = 150m, Tags = new[] { \"new\", \"discount\" } },\n",
        "    new { OrderId = 4, Amount = 75m, Tags = new[] { \"new\" } },\n",
        "    new { OrderId = 5, Amount = 300m, Tags = new[] { \"bestseller\", \"premium\" } }\n",
        "};\n",
        "\n",
        "Console.WriteLine(\"Tagged orders:\");\n",
        "foreach(var order in taggedOrders)\n",
        "{\n",
        "    Console.WriteLine($\"  Order {order.OrderId}: ${order.Amount} - Tags: [{string.Join(\", \", order.Tags)}]\");\n",
        "}"
      ]
    },
    {
      "cell_type": "code",
      "execution_count": null,
      "metadata": {
        "dotnet_interactive": {
          "language": "csharp"
        }
      },
      "outputs": [],
      "source": [
        "// Create multi-selection dimension\n",
        "var tagsDimension = DimensionDefinition.CreateForCollectionWithMultiSelector(\n",
        "    taggedOrders,\n",
        "    order => order.Tags,              // Returns IEnumerable<string>\n",
        "    title: \"Tags\",\n",
        "    IndexDefinition.Create(\"bestseller\", \"Bestseller\"),\n",
        "    IndexDefinition.Create(\"discount\", \"Discounted\"),\n",
        "    IndexDefinition.Create(\"new\", \"New Products\"),\n",
        "    IndexDefinition.Create(\"premium\", \"Premium\"))\n",
        "    .WithTrailingDefaultIndex(\"Total\");\n",
        "\n",
        "var amountAggregation = AggregationDefinition.CreateForCollection(\n",
        "    taggedOrders,\n",
        "    order => order.Amount,\n",
        "    (a, b) => a + b,\n",
        "    0m);\n",
        "\n",
        "var tagsCube = taggedOrders.BuildCube(amountAggregation, tagsDimension);\n",
        "\n",
        "Console.WriteLine(\"\\n=== Multi-selection Dimension Results ===\");\n",
        "Console.WriteLine($\"Bestseller tag total: ${tagsCube.GetValue(\\\"bestseller\\\"):F2}  (Orders 1, 2, 5: $100 + $200 + $300)\");\n",
        "Console.WriteLine($\"Discount tag total: ${tagsCube.GetValue(\\\"discount\\\"):F2}    (Orders 1, 3: $100 + $150)\");\n",
        "Console.WriteLine($\"New tag total: ${tagsCube.GetValue(\\\"new\\\"):F2}         (Orders 3, 4: $150 + $75)\");\n",
        "Console.WriteLine($\"Premium tag total: ${tagsCube.GetValue(\\\"premium\\\"):F2}     (Order 5: $300)\");\n",
        "Console.WriteLine($\"Grand total: ${tagsCube.GetValue():F2}           (All unique orders: $825)\");"
      ]
    },
    {
      "cell_type": "markdown",
      "metadata": {},
      "source": [
        "## Chapter 4: Advanced Querying\n",
        "\n",
        "### Cube Slicing\n",
        "\n",
        "Slicing allows you to fix certain dimensions and work with the remaining dimensions:"
      ]
    },
    {
      "cell_type": "code",
      "execution_count": null,
      "metadata": {
        "dotnet_interactive": {
          "language": "csharp"
        }
      },
      "outputs": [],
      "source": [
        "// Create a 3-dimensional cube: Customer x Year x Product\n",
        "var detailedOrders = new[] {\n",
        "    new { CustomerId = \"A\", Year = \"2007\", Product = \"Laptop\", Quantity = 10m },\n",
        "    new { CustomerId = \"A\", Year = \"2007\", Product = \"Mouse\", Quantity = 5m },\n",
        "    new { CustomerId = \"A\", Year = \"2008\", Product = \"Laptop\", Quantity = 15m },\n",
        "    new { CustomerId = \"B\", Year = \"2007\", Product = \"Laptop\", Quantity = 8m },\n",
        "    new { CustomerId = \"B\", Year = \"2008\", Product = \"Mouse\", Quantity = 12m },\n",
        "    new { CustomerId = \"B\", Year = \"2008\", Product = \"Keyboard\", Quantity = 7m }\n",
        "};\n",
        "\n",
        "var detailedAggregation = AggregationDefinition.CreateForCollection(\n",
        "    detailedOrders,\n",
        "    order => order.Quantity,\n",
        "    (a, b) => a + b,\n",
        "    0m);\n",
        "\n",
        "var customerDim = DimensionDefinition.CreateForCollection(\n",
        "    detailedOrders,\n",
        "    order => order.CustomerId,\n",
        "    title: \"Customers\",\n",
        "    IndexDefinition.Create(\"A\", \"Customer A\"),\n",
        "    IndexDefinition.Create(\"B\", \"Customer B\"))\n",
        "    .WithTrailingDefaultIndex(\"All Customers\");\n",
        "\n",
        "var yearDim = DimensionDefinition.CreateForCollection(\n",
        "    detailedOrders,\n",
        "    order => order.Year,\n",
        "    title: \"Years\",\n",
        "    IndexDefinition.Create(\"2007\", \"2007\"),\n",
        "    IndexDefinition.Create(\"2008\", \"2008\"))\n",
        "    .WithTrailingDefaultIndex(\"All Years\");\n",
        "\n",
        "var productDim = DimensionDefinition.CreateForCollection(\n",
        "    detailedOrders,\n",
        "    order => order.Product,\n",
        "    title: \"Products\",\n",
        "    IndexDefinition.Create(\"Laptop\", \"Laptop\"),\n",
        "    IndexDefinition.Create(\"Mouse\", \"Mouse\"),\n",
        "    IndexDefinition.Create(\"Keyboard\", \"Keyboard\"))\n",
        "    .WithTrailingDefaultIndex(\"All Products\");\n",
        "\n",
        "var threeDCube = detailedOrders.BuildCube(detailedAggregation, customerDim, yearDim, productDim);\n",
        "\n",
        "Console.WriteLine(\"3D Cube created: Customer x Year x Product\");\n",
        "Console.WriteLine($\"Total across all dimensions: {threeDCube.GetValue()}\");"
      ]
    },
    {
      "cell_type": "code",
      "execution_count": null,
      "metadata": {
        "dotnet_interactive": {
          "language": "csharp"
        }
      },
      "outputs": [],
      "source": [
        "// Slice the cube to focus on Customer A's data\n",
        "var customerASlice = threeDCube.Slice(\"A\");\n",
        "\n",
        "Console.WriteLine(\"\\n=== Customer A Slice (Year x Product) ===\");\n",
        "Console.WriteLine($\"Customer A total: {customerASlice.GetValue()}\");\n",
        "Console.WriteLine($\"Customer A 2007: {customerASlice.GetValue(\\\"2007\\\")}\");\n",
        "Console.WriteLine($\"Customer A 2008: {customerASlice.GetValue(\\\"2008\\\")}\");\n",
        "Console.WriteLine($\"Customer A Laptops: {customerASlice.GetValue(default, \\\"Laptop\\\")}\");\n",
        "Console.WriteLine($\"Customer A 2007 Laptops: {customerASlice.GetValue(\\\"2007\\\", \\\"Laptop\\\")}\");\n",
        "\n",
        "// Slice by year\n",
        "var year2007Slice = threeDCube.Slice(default, \"2007\");\n",
        "Console.WriteLine(\"\\n=== 2007 Slice (Customer x Product) ===\");\n",
        "Console.WriteLine($\"2007 total: {year2007Slice.GetValue()}\");\n",
        "Console.WriteLine($\"2007 Customer A: {year2007Slice.GetValue(\\\"A\\\")}\");\n",
        "Console.WriteLine($\"2007 Laptops: {year2007Slice.GetValue(default, \\\"Laptop\\\")}\");"
      ]
    },
    {
      "cell_type": "markdown",
      "metadata": {},
      "source": [
        "### Breakdown Operations\n",
        "\n",
        "Breakdown operations let you iterate through values along specific dimensions:"
      ]
    },
    {
      "cell_type": "code",
      "execution_count": null,
      "metadata": {
        "dotnet_interactive": {
          "language": "csharp"
        }
      },
      "outputs": [],
      "source": [
        "Console.WriteLine(\"\\n=== Breakdown by Customers ===\");\n",
        "foreach(var customerBreakdown in threeDCube.BreakdownByDimensions(0)) // First dimension (customers)\n",
        "{\n",
        "    var customerIndex = customerBreakdown.GetBoundIndexDefinition(0);\n",
        "    var value = customerBreakdown.GetValue();\n",
        "    Console.WriteLine($\"{customerIndex.Title}: {value}\");\n",
        "}\n",
        "\n",
        "Console.WriteLine(\"\\n=== Breakdown by Years ===\");\n",
        "foreach(var yearBreakdown in threeDCube.BreakdownByDimensions(1)) // Second dimension (years)\n",
        "{\n",
        "    var yearIndex = yearBreakdown.GetBoundIndexDefinition(1);\n",
        "    var value = yearBreakdown.GetValue();\n",
        "    Console.WriteLine($\"{yearIndex.Title}: {value}\");\n",
        "}\n",
        "\n",
        "Console.WriteLine(\"\\n=== Customer A Breakdown by Year and Product ===\");\n",
        "var customerAData = threeDCube.Slice(\"A\");\n",
        "foreach(var yearBreakdown in customerAData.BreakdownByDimensions(0)) // Years in sliced cube\n",
        "{\n",
        "    var yearIndex = yearBreakdown.GetBoundIndexDefinition(0);\n",
        "    Console.WriteLine($\"\\n{yearIndex.Title}:\");\n",
        "    \n",
        "    foreach(var productBreakdown in yearBreakdown.BreakdownByDimensions(0)) // Products\n",
        "    {\n",
        "        var productIndex = productBreakdown.GetBoundIndexDefinition(0);\n",
        "        var value = productBreakdown.GetValue();\n",
        "        if(value > 0) // Only show non-zero values\n",
        "        {\n",
        "            Console.WriteLine($\"  {productIndex.Title}: {value}\");\n",
        "        }\n",
        "    }\n",
        "}"
      ]
    },
    {
      "cell_type": "markdown",
      "metadata": {},
      "source": [
        "## Chapter 5: Asynchronous Operations\n",
        "\n",
        "CubeSharp supports building cubes from asynchronous data sources:"
      ]
    },
    {
      "cell_type": "code",
      "execution_count": null,
      "metadata": {
        "dotnet_interactive": {
          "language": "csharp"
        }
      },
      "outputs": [],
      "source": [
        "// Simulate an async data source\n",
        "async IAsyncEnumerable<dynamic> GetOrdersAsync()\n",
        "{\n",
        "    var asyncOrders = new[] {\n",
        "        new { CustomerId = \"A\", Year = \"2007\", Amount = 100m },\n",
        "        new { CustomerId = \"B\", Year = \"2007\", Amount = 200m },\n",
        "        new { CustomerId = \"A\", Year = \"2008\", Amount = 150m },\n",
        "        new { CustomerId = \"C\", Year = \"2008\", Amount = 175m }\n",
        "    };\n",
        "    \n",
        "    foreach(var order in asyncOrders)\n",
        "    {\n",
        "        // Simulate async delay\n",
        "        await Task.Delay(100);\n",
        "        yield return order;\n",
        "    }\n",
        "}\n",
        "\n",
        "// Define aggregation and dimensions for async operation\n",
        "var asyncAggregation = AggregationDefinition.Create(\n",
        "    (dynamic order) => (decimal)order.Amount,\n",
        "    (a, b) => a + b,\n",
        "    0m);\n",
        "\n",
        "var asyncCustomerDim = DimensionDefinition.Create(\n",
        "    (dynamic order) => (string)order.CustomerId,\n",
        "    title: \"Customers\",\n",
        "    IndexDefinition.Create(\"A\", \"Customer A\"),\n",
        "    IndexDefinition.Create(\"B\", \"Customer B\"),\n",
        "    IndexDefinition.Create(\"C\", \"Customer C\"))\n",
        "    .WithTrailingDefaultIndex(\"Total\");\n",
        "\n",
        "var asyncYearDim = DimensionDefinition.Create(\n",
        "    (dynamic order) => (string)order.Year,\n",
        "    title: \"Years\",\n",
        "    IndexDefinition.Create(\"2007\", \"2007\"),\n",
        "    IndexDefinition.Create(\"2008\", \"2008\"))\n",
        "    .WithTrailingDefaultIndex(\"Total\");\n",
        "\n",
        "Console.WriteLine(\"Building cube from async data source...\");\n",
        "var asyncCube = await GetOrdersAsync().BuildCubeAsync(asyncAggregation, asyncCustomerDim, asyncYearDim);\n",
        "\n",
        "Console.WriteLine(\"\\n=== Async Cube Results ===\");\n",
        "Console.WriteLine($\"Total: ${asyncCube.GetValue():F2}\");\n",
        "Console.WriteLine($\"Customer A: ${asyncCube.GetValue(\\\"A\\\"):F2}\");\n",
        "Console.WriteLine($\"2007: ${asyncCube.GetValue(default, \\\"2007\\\"):F2}\");\n",
        "Console.WriteLine($\"Customer A 2007: ${asyncCube.GetValue(\\\"A\\\", \\\"2007\\\"):F2}\");"
      ]
    },
    {
      "cell_type": "markdown",
      "metadata": {},
      "source": [
        "## Chapter 6: Real-world Example - Sales Dashboard\n",
        "\n",
        "Let's create a comprehensive sales dashboard using all the concepts we've learned:"
      ]
    },
    {
      "cell_type": "code",
      "execution_count": null,
      "metadata": {
        "dotnet_interactive": {
          "language": "csharp"
        }
      },
      "outputs": [],
      "source": [
        "// Comprehensive sales data\n",
        "var salesData = new[] {\n",
        "    new { Date = new DateTime(2023, 1, 15), Region = \"North\", Category = \"Electronics\", Product = \"Laptop\", Quantity = 5, UnitPrice = 1200m, SalespersonId = \"SP1\" },\n",
        "    new { Date = new DateTime(2023, 1, 20), Region = \"North\", Category = \"Electronics\", Product = \"Phone\", Quantity = 12, UnitPrice = 800m, SalespersonId = \"SP1\" },\n",
        "    new { Date = new DateTime(2023, 2, 10), Region = \"South\", Category = \"Electronics\", Product = \"Laptop\", Quantity = 8, UnitPrice = 1200m, SalespersonId = \"SP2\" },\n",
        "    new { Date = new DateTime(2023, 2, 15), Region = \"North\", Category = \"Clothing\", Product = \"Jacket\", Quantity = 20, UnitPrice = 150m, SalespersonId = \"SP3\" },\n",
        "    new { Date = new DateTime(2023, 3, 5), Region = \"South\", Category = \"Electronics\", Product = \"Tablet\", Quantity = 15, UnitPrice = 600m, SalespersonId = \"SP2\" },\n",
        "    new { Date = new DateTime(2023, 3, 12), Region = \"East\", Category = \"Clothing\", Product = \"Shoes\", Quantity = 25, UnitPrice = 80m, SalespersonId = \"SP4\" },\n",
        "    new { Date = new DateTime(2023, 4, 8), Region = \"East\", Category = \"Electronics\", Product = \"Phone\", Quantity = 18, UnitPrice = 800m, SalespersonId = \"SP4\" },\n",
        "    new { Date = new DateTime(2023, 4, 20), Region = \"North\", Category = \"Clothing\", Product = \"Jacket\", Quantity = 10, UnitPrice = 150m, SalespersonId = \"SP3\" }\n",
        "};\n",
        "\n",
        "Console.WriteLine($\"Sales data loaded: {salesData.Length} transactions\");\n",
        "Console.WriteLine($\"Total revenue: ${salesData.Sum(s => s.Quantity * s.UnitPrice):F2}\");"
      ]
    },
    {
      "cell_type": "code",
      "execution_count": null,
      "metadata": {
        "dotnet_interactive": {
          "language": "csharp"
        }
      },
      "outputs": [],
      "source": [
        "// Define comprehensive aggregations\n",
        "var salesMetrics = AggregationDefinition.CreateForCollection(\n",
        "    salesData,\n",
        "    sale => new {\n",
        "        Revenue = sale.Quantity * sale.UnitPrice,\n",
        "        Quantity = sale.Quantity,\n",
        "        TransactionCount = 1\n",
        "    },\n",
        "    (a, b) => new {\n",
        "        Revenue = a.Revenue + b.Revenue,\n",
        "        Quantity = a.Quantity + b.Quantity,\n",
        "        TransactionCount = a.TransactionCount + b.TransactionCount\n",
        "    },\n",
        "    new { Revenue = 0m, Quantity = 0, TransactionCount = 0 });\n",
        "\n",
        "// Define dimensions\n",
        "var regionDimension = DimensionDefinition.CreateForCollection(\n",
        "    salesData,\n",
        "    sale => sale.Region,\n",
        "    title: \"Regions\",\n",
        "    IndexDefinition.Create(\"North\", \"Northern Region\"),\n",
        "    IndexDefinition.Create(\"South\", \"Southern Region\"),\n",
        "    IndexDefinition.Create(\"East\", \"Eastern Region\"))\n",
        "    .WithTrailingDefaultIndex(\"All Regions\");\n",
        "\n",
        "var categoryDimension = DimensionDefinition.CreateForCollection(\n",
        "    salesData,\n",
        "    sale => sale.Category,\n",
        "    title: \"Categories\",\n",
        "    IndexDefinition.Create(\"Electronics\", \"Electronics\"),\n",
        "    IndexDefinition.Create(\"Clothing\", \"Clothing\"))\n",
        "    .WithTrailingDefaultIndex(\"All Categories\");\n",
        "\n",
        "var monthDimension = DimensionDefinition.CreateForCollection(\n",
        "    salesData,\n",
        "    sale => sale.Date.ToString(\"yyyy-MM\"),\n",
        "    title: \"Months\",\n",
        "    IndexDefinition.Create(\"2023-01\", \"January 2023\"),\n",
        "    IndexDefinition.Create(\"2023-02\", \"February 2023\"),\n",
        "    IndexDefinition.Create(\"2023-03\", \"March 2023\"),\n",
        "    IndexDefinition.Create(\"2023-04\", \"April 2023\"))\n",
        "    .WithTrailingDefaultIndex(\"All Months\");\n",
        "\n",
        "Console.WriteLine(\"Dimensions defined: Region, Category, Month\");"
      ]
    },
    {
      "cell_type": "code",
      "execution_count": null,
      "metadata": {
        "dotnet_interactive": {
          "language": "csharp"
        }
      },
      "outputs": [],
      "source": [
        "// Build comprehensive sales cube\n",
        "var salesCube = salesData.BuildCube(salesMetrics, regionDimension, categoryDimension, monthDimension);\n",
        "\n",
        "Console.WriteLine(\"=== Sales Dashboard - Overall Metrics ===\");\n",
        "var totalMetrics = salesCube.GetValue();\n",
        "Console.WriteLine($\"Total Revenue: ${totalMetrics.Revenue:F2}\");\n",
        "Console.WriteLine($\"Total Units Sold: {totalMetrics.Quantity:N0}\");\n",
        "Console.WriteLine($\"Total Transactions: {totalMetrics.TransactionCount:N0}\");\n",
        "Console.WriteLine($\"Average Transaction Value: ${totalMetrics.Revenue / totalMetrics.TransactionCount:F2}\");\n",
        "\n",
        "Console.WriteLine(\"\\n=== Revenue by Region ===\");\n",
        "foreach(var regionBreakdown in salesCube.BreakdownByDimensions(0))\n",
        "{\n",
        "    var region = regionBreakdown.GetBoundIndexDefinition(0);\n",
        "    var metrics = regionBreakdown.GetValue();\n",
        "    var percentage = totalMetrics.Revenue > 0 ? (metrics.Revenue / totalMetrics.Revenue * 100) : 0;\n",
        "    Console.WriteLine($\"{region.Title,-16}: ${metrics.Revenue,10:F2} ({percentage,5:F1}%)\");\n",
        "}\n",
        "\n",
        "Console.WriteLine(\"\\n=== Revenue by Category ===\");\n",
        "foreach(var categoryBreakdown in salesCube.BreakdownByDimensions(1))\n",
        "{\n",
        "    var category = categoryBreakdown.GetBoundIndexDefinition(1);\n",
        "    var metrics = categoryBreakdown.GetValue();\n",
        "    var percentage = totalMetrics.Revenue > 0 ? (metrics.Revenue / totalMetrics.Revenue * 100) : 0;\n",
        "    Console.WriteLine($\"{category.Title,-16}: ${metrics.Revenue,10:F2} ({percentage,5:F1}%)\");\n",
        "}"
      ]
    },
    {
      "cell_type": "code",
      "execution_count": null,
      "metadata": {
        "dotnet_interactive": {
          "language": "csharp"
        }
      },
      "outputs": [],
      "source": [
        "// Monthly trend analysis\n",
        "Console.WriteLine(\"\\n=== Monthly Revenue Trend ===\");\n",
        "Console.WriteLine($\"{"Month",-15} {"Revenue",12} {"Quantity",10} {"Transactions",12} {"Avg/Trans",10}\");\n",
        "Console.WriteLine(new string('-', 65));\n",
        "\n",
        "foreach(var monthBreakdown in salesCube.BreakdownByDimensions(2))\n",
        "{\n",
        "    var month = monthBreakdown.GetBoundIndexDefinition(2);\n",
        "    var metrics = monthBreakdown.GetValue();\n",
        "    var avgTransaction = metrics.TransactionCount > 0 ? metrics.Revenue / metrics.TransactionCount : 0;\n",
        "    \n",
        "    if(metrics.Revenue > 0) // Skip months with no sales\n",
        "    {\n",
        "        Console.WriteLine($\"{month.Title,-15} ${metrics.Revenue,10:F2} {metrics.Quantity,9:N0} {metrics.TransactionCount,11:N0} ${avgTransaction,9:F2}\");\n",
        "    }\n",
        "}\n",
        "\n",
        "// Regional breakdown by category\n",
        "Console.WriteLine(\"\\n=== Regional Performance by Category ===\");\n",
        "foreach(var regionBreakdown in salesCube.BreakdownByDimensions(0))\n",
        "{\n",
        "    var region = regionBreakdown.GetBoundIndexDefinition(0);\n",
        "    if(regionBreakdown.GetValue().Revenue == 0) continue; // Skip regions with no sales\n",
        "    \n",
        "    Console.WriteLine($\"\\n{region.Title}:\");\n",
        "    foreach(var categoryBreakdown in regionBreakdown.BreakdownByDimensions(0)) // Categories within region\n",
        "    {\n",
        "        var category = categoryBreakdown.GetBoundIndexDefinition(0);\n",
        "        var metrics = categoryBreakdown.GetValue();\n",
        "        if(metrics.Revenue > 0)\n",
        "        {\n",
        "            Console.WriteLine($\"  {category.Title,-12}: ${metrics.Revenue,8:F2} ({metrics.TransactionCount} transactions)\");\n",
        "        }\n",
        "    }\n",
        "}"
      ]
    },
    {
      "cell_type": "markdown",
      "metadata": {},
      "source": [
        "## Chapter 7: Best Practices and Performance Tips\n",
        "\n",
        "### 1. Type Safety and Inference\n",
        "\n",
        "Use type inference when possible, but be explicit when needed:"
      ]
    },
    {
      "cell_type": "code",
      "execution_count": null,
      "metadata": {
        "dotnet_interactive": {
          "language": "csharp"
        }
      },
      "outputs": [],
      "source": [
        "// ✅ Good: Use CreateForCollection for type inference\n",
        "var goodAggregation = AggregationDefinition.CreateForCollection(\n",
        "    orders,\n",
        "    order => order.Quantity,\n",
        "    (a, b) => a + b,\n",
        "    0m);\n",
        "\n",
        "// ✅ Good: Explicit types when inference fails\n",
        "var explicitAggregation = AggregationDefinition.Create<dynamic, decimal>(\n",
        "    order => order.Amount,\n",
        "    (a, b) => a + b,\n",
        "    0m);\n",
        "\n",
        "Console.WriteLine(\"Type safety examples completed\");"
      ]
    },
    {
      "cell_type": "markdown",
      "metadata": {},
      "source": [
        "### 2. Memory Efficiency\n",
        "\n",
        "Consider memory usage for large datasets:"
      ]
    },
    {
      "cell_type": "code",
      "execution_count": null,
      "metadata": {
        "dotnet_interactive": {
          "language": "csharp"
        }
      },
      "outputs": [],
      "source": [
        "// For large datasets, consider using structs for aggregation values\n",
        "public struct EfficientMetrics\n",
        "{\n",
        "    public EfficientMetrics(decimal sum, int count)\n",
        "    {\n",
        "        Sum = sum;\n",
        "        Count = count;\n",
        "    }\n",
        "    \n",
        "    public decimal Sum { get; }\n",
        "    public int Count { get; }\n",
        "    public decimal Average => Count > 0 ? Sum / Count : 0;\n",
        "    \n",
        "    public static EfficientMetrics Combine(EfficientMetrics a, EfficientMetrics b) =>\n",
        "        new(a.Sum + b.Sum, a.Count + b.Count);\n",
        "}\n",
        "\n",
        "// Use efficient aggregation\n",
        "var efficientAggregation = AggregationDefinition.CreateForCollection(\n",
        "    orders,\n",
        "    order => new EfficientMetrics(order.Quantity, 1),\n",
        "    EfficientMetrics.Combine,\n",
        "    new EfficientMetrics(0, 0));\n",
        "\n",
        "Console.WriteLine(\"Memory-efficient aggregation pattern demonstrated\");"
      ]
    },
    {
      "cell_type": "markdown",
      "metadata": {},
      "source": [
        "### 3. Error Handling\n",
        "\n",
        "Handle edge cases gracefully:"
      ]
    },
    {
      "cell_type": "code",
      "execution_count": null,
      "metadata": {
        "dotnet_interactive": {
          "language": "csharp"
        }
      },
      "outputs": [],
      "source": [
        "// Safe division aggregation\n",
        "public struct SafeRatio\n",
        "{\n",
        "    public SafeRatio(decimal numerator, decimal denominator)\n",
        "    {\n",
        "        Numerator = numerator;\n",
        "        Denominator = denominator;\n",
        "    }\n",
        "    \n",
        "    public decimal Numerator { get; }\n",
        "    public decimal Denominator { get; }\n",
        "    public decimal Ratio => Denominator != 0 ? Numerator / Denominator : 0;\n",
        "    \n",
        "    public static SafeRatio Combine(SafeRatio a, SafeRatio b) =>\n",
        "        new(a.Numerator + b.Numerator, a.Denominator + b.Denominator);\n",
        "}\n",
        "\n",
        "// Handle null/missing data\n",
        "var safeStringDimension = DimensionDefinition.CreateForCollection(\n",
        "    orders,\n",
        "    order => order.CustomerId ?? \"Unknown\",  // Handle null customer IDs\n",
        "    title: \"Customers\",\n",
        "    IndexDefinition.Create(\"A\", \"Customer A\"),\n",
        "    IndexDefinition.Create(\"Unknown\", \"Unknown Customers\"))\n",
        "    .WithTrailingDefaultIndex(\"Total\");\n",
        "\n",
        "Console.WriteLine(\"Error handling patterns demonstrated\");"
      ]
    },
    {
      "cell_type": "markdown",
      "metadata": {},
      "source": [
        "## Conclusion\n",
        "\n",
        "Congratulations! You've completed the comprehensive CubeSharp tutorial. You've learned:\n",
        "\n",
        "1. **Basic Concepts**: Aggregations, dimensions, and index definitions\n",
        "2. **Advanced Features**: Hierarchical indexes, multi-selection dimensions, and default indexes\n",
        "3. **Querying Techniques**: Value retrieval, slicing, and breakdown operations\n",
        "4. **Asynchronous Operations**: Building cubes from async data sources\n",
        "5. **Real-world Applications**: Complex reporting scenarios\n",
        "6. **Best Practices**: Performance optimization and error handling\n",
        "\n",
        "### Key Takeaways:\n",
        "\n",
        "- **Systematic Approach**: CubeSharp provides a structured way to handle multi-dimensional data analysis\n",
        "- **Flexibility**: Support for complex aggregations, hierarchies, and multi-selection scenarios\n",
        "- **Performance**: In-memory processing with efficient querying capabilities\n",
        "- **Maintainability**: Type-safe, testable code that's easy to refactor\n",
        "\n",
        "### Next Steps:\n",
        "\n",
        "- Experiment with your own data sources\n",
        "- Create custom aggregation types for your specific needs\n",
        "- Integrate with your existing .NET applications\n",
        "- Explore the full API documentation for advanced scenarios\n",
        "\n",
        "Happy coding with CubeSharp!"
      ]
    },
    {
      "cell_type": "code",
      "execution_count": null,
      "metadata": {
        "dotnet_interactive": {
          "language": "csharp"
        }
      },
      "outputs": [],
      "source": [
        "Console.WriteLine(\"🎉 Tutorial completed successfully!\");\nConsole.WriteLine(\"Thank you for learning CubeSharp!\");"
      ]
    }
  ],
  "metadata": {
    "kernelspec": {
      "display_name": ".NET (C#)",
      "language": "C#",
      "name": ".net-csharp"
    },
    "language_info": {
      "name": "polyglot-notebook"
    },
    "polyglot_notebook": {
      "kernelInfo": {
        "defaultKernelName": "csharp",
        "items": [
          {
            "aliases": [],
            "languageName": "csharp",
            "name": "csharp"
          }
        ]
      }
    }
  },
  "nbformat": 4,
  "nbformat_minor": 2
}