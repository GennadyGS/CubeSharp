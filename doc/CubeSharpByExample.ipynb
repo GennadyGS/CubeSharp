{
 "cells": [
  {
   "cell_type": "markdown",
   "id": "3e13198c",
   "metadata": {},
   "source": [
    "**Table of contents**<a id='toc0_'></a>    \n",
    "- [CubeSharp by examples](#toc1_)    \n",
    "  - [Helper Functions](#toc1_1_)    \n",
    "    - [Helper functions for visualization](#toc1_1_1_)    \n",
    "    - [Helper function to transform cube result into table](#toc1_1_2_)    \n",
    "  - [Sample Data](#toc1_2_)    \n",
    "  - [One-dimensional report (total quantity per customer)](#toc1_3_)    \n",
    "  - [Two-dimensional report (quantity per year per customer)](#toc1_4_)    \n",
    "  - [Two-dimensional report (quantity per tag per year; multi-selection dimension)](#toc1_5_)    \n",
    "  - [Three-dimensional report (EmployeeId x CustomerId x Year)](#toc1_6_)    \n",
    "  - [Zero / simple aggregation examples](#toc1_7_)    \n",
    "  - [Modulus dimension examples](#toc1_8_)    \n",
    "\n",
    "<!-- vscode-jupyter-toc-config\n",
    "\tnumbering=false\n",
    "\tanchor=true\n",
    "\tflat=false\n",
    "\tminLevel=1\n",
    "\tmaxLevel=6\n",
    "\t/vscode-jupyter-toc-config -->\n",
    "<!-- THIS CELL WILL BE REPLACED ON TOC UPDATE. DO NOT WRITE YOUR TEXT IN THIS CELL -->"
   ]
  },
  {
   "cell_type": "markdown",
   "id": "0d92c358",
   "metadata": {},
   "source": [
    "# <a id='toc1_'></a>[CubeSharp by examples](#toc0_)"
   ]
  },
  {
   "cell_type": "code",
   "execution_count": 24,
   "metadata": {
    "polyglot_notebook": {
     "kernelName": "csharp"
    }
   },
   "outputs": [
    {
     "data": {
      "text/html": [
       "<div><div></div><div></div><div><strong>Installed Packages</strong><ul><li><span>CubeSharp, 99.0.0.3-alpha</span></li></ul></div></div>"
      ]
     },
     "metadata": {},
     "output_type": "display_data"
    }
   ],
   "source": [
    "// Dependencies\n",
    "#r \"nuget: CubeSharp, 99.0.0.3-alpha\"\n",
    "\n",
    "using CubeSharp;"
   ]
  },
  {
   "cell_type": "markdown",
   "id": "69776e4e",
   "metadata": {},
   "source": [
    "## <a id='toc1_1_'></a>[Helper Functions](#toc0_)"
   ]
  },
  {
   "cell_type": "markdown",
   "id": "f359f6bf",
   "metadata": {},
   "source": [
    "### <a id='toc1_1_1_'></a>[Helper functions for visualization](#toc0_)"
   ]
  },
  {
   "cell_type": "code",
   "execution_count": 25,
   "metadata": {
    "language_info": {
     "name": "polyglot-notebook"
    },
    "polyglot_notebook": {
     "kernelName": "csharp"
    }
   },
   "outputs": [
    {
     "data": {
      "text/html": [
       "<div><div></div><div></div><div><strong>Installed Packages</strong><ul><li><span>Microsoft.Data.Analysis, 0.21.0</span></li></ul></div></div>"
      ]
     },
     "metadata": {},
     "output_type": "display_data"
    }
   ],
   "source": [
    "#r \"nuget: Microsoft.Data.Analysis, 0.21.0\"\n",
    "#nullable enable\n",
    "\n",
    "using System;\n",
    "using System.Collections.Generic;\n",
    "using System.Linq;\n",
    "using System.Reflection;\n",
    "using Microsoft.Data.Analysis;\n",
    "\n",
    "public static void Display(this object? obj) => display(obj);\n",
    "\n",
    "public static void DisplayAsTable(this IEnumerable<IDictionary<string, object?>> rows) =>\n",
    "    display(rows.ToDataFrame());\n",
    "\n",
    "public static IDictionary<string, object?> ObjectToDictionary(this object obj) =>\n",
    "    obj.GetType()\n",
    "        .GetProperties(BindingFlags.Public | BindingFlags.Instance)\n",
    "        .ToDictionary(prop => prop.Name, prop => prop.GetValue(obj, null));\n",
    "\n",
    "private static DataFrame ToDataFrame(this IEnumerable<IDictionary<string, object?>> source)\n",
    "{\n",
    "    var props = source.FirstOrDefault()?.Keys ?? [];\n",
    "    var columns = props\n",
    "        .Select(p => new StringDataFrameColumn(p))\n",
    "        .ToList();\n",
    "    var result = new DataFrame(columns);\n",
    "    foreach (var item in source)\n",
    "    {\n",
    "        result.Append(props.ToDictionary(p => p, p => GetDisplayedValue(item[p])), true);\n",
    "    }\n",
    "    return result;\n",
    "\n",
    "    static object? GetDisplayedValue(object? value) =>\n",
    "        value switch\n",
    "        {\n",
    "            IEnumerable<object> values => $\"[{values.JoinStrings(\", \")}]\",\n",
    "            _ => value\n",
    "        };\n",
    "}\n",
    "\n",
    "private static string JoinStrings(this IEnumerable<object?> strings, string separator) =>\n",
    "    string.Join(separator, strings);\n"
   ]
  },
  {
   "cell_type": "markdown",
   "id": "5120de08",
   "metadata": {},
   "source": [
    "### <a id='toc1_1_2_'></a>[Helper function to transform cube result into table](#toc0_)"
   ]
  },
  {
   "cell_type": "code",
   "execution_count": null,
   "id": "ebc8be37",
   "metadata": {},
   "outputs": [],
   "source": [
    "#nullable enable\n",
    "\n",
    "public static IEnumerable<IDictionary<string, object?>> ToTable<TIndex, T>(\n",
    "    this CubeResult<TIndex, T> cubeResult,\n",
    "    Index[] rowDimensionNumbers,\n",
    "    Index[] columnDimensionNumbers)\n",
    "    where TIndex : notnull\n",
    "{\n",
    "    if (rowDimensionNumbers\n",
    "        .Concat(columnDimensionNumbers)\n",
    "        .GroupBy(x => x)\n",
    "        .Any(g => g.Count() > 1))\n",
    "        {\n",
    "            throw new InvalidOperationException(\"Duplicated indexes are not allowed\");\n",
    "        }\n",
    "\n",
    "    var shiftedColumnIndexes =\n",
    "        ShiftIndexes(columnDimensionNumbers, rowDimensionNumbers, cubeResult.FreeDimensionCount);\n",
    "    return cubeResult\n",
    "        .BreakdownByDimensions(rowDimensionNumbers)\n",
    "        .Select(row => row\n",
    "            .GetBoundDimensionsAndIndexes()\n",
    "            .Select(item => KeyValuePair.Create(\n",
    "                item.dimension.Title ?? string.Empty,\n",
    "                (object?)item.dimension[item.index].Title ?? item.index))\n",
    "            .Concat(row\n",
    "                .BreakdownByDimensions(shiftedColumnIndexes)\n",
    "                .Select(column => KeyValuePair.Create(\n",
    "                    column\n",
    "                        .GetBoundDimensionsAndIndexes()[^columnDimensionNumbers.Length ..]\n",
    "                        .Select(item => item.dimension[item.index].Title ?? item.index?.ToString())\n",
    "                        .DefaultIfEmpty(\"value\")\n",
    "                        .JoinStrings(\".\"),\n",
    "                    (object?)column.GetValue())))\n",
    "            .ToDictionary(kvp => kvp.Key, kvp => kvp.Value));\n",
    "}\n",
    "\n",
    "private static Index[] ShiftIndexes(Index[] indexes, Index[] precedingIndexes, int length) =>\n",
    "    indexes\n",
    "        .Select(index => index.GetOffset(length))\n",
    "        .Select(index =>\n",
    "            index - precedingIndexes.Count(i => i.GetOffset(length) < index))\n",
    "        .Select(dimensionNumber => (Index)dimensionNumber)\n",
    "        .ToArray();\n"
   ]
  },
  {
   "cell_type": "markdown",
   "id": "98b59b79",
   "metadata": {},
   "source": [
    "## <a id='toc1_2_'></a>[Sample Data](#toc0_)"
   ]
  },
  {
   "cell_type": "code",
   "execution_count": 27,
   "id": "b0dc0a02",
   "metadata": {},
   "outputs": [
    {
     "data": {
      "text/html": [
       "<table id=\"table_638927719494137841\"><thead><tr><th><i>index</i></th><th>OrderDate</th><th>Product</th><th>EmployeeId</th><th>CustomerId</th><th>Quantity</th><th>Tags</th></tr></thead><tbody><tr><td><i><div class=\"dni-plaintext\"><pre>0</pre></div></i></td><td>8/2/2007 12:00:00 AM</td><td>X</td><td>3</td><td>A</td><td>10</td><td>[Discount, Retail]</td></tr><tr><td><i><div class=\"dni-plaintext\"><pre>1</pre></div></i></td><td>12/24/2007 12:00:00 AM</td><td>X</td><td>3</td><td>A</td><td>12</td><td>[Retail, BestSeller]</td></tr><tr><td><i><div class=\"dni-plaintext\"><pre>2</pre></div></i></td><td>12/24/2007 12:00:00 AM</td><td>Y</td><td>1</td><td>B</td><td>20</td><td>[Discount, Retail, New, Season, BestSeller]</td></tr><tr><td><i><div class=\"dni-plaintext\"><pre>3</pre></div></i></td><td>1/9/2008 12:00:00 AM</td><td>Z</td><td>2</td><td>A</td><td>40</td><td>[BestSeller]</td></tr><tr><td><i><div class=\"dni-plaintext\"><pre>4</pre></div></i></td><td>1/18/2008 12:00:00 AM</td><td>Z</td><td>1</td><td>C</td><td>14</td><td>[Discount, New, BestSeller]</td></tr><tr><td><i><div class=\"dni-plaintext\"><pre>5</pre></div></i></td><td>2/12/2008 12:00:00 AM</td><td>Z</td><td>2</td><td>B</td><td>12</td><td>[Retail]</td></tr><tr><td><i><div class=\"dni-plaintext\"><pre>6</pre></div></i></td><td>2/12/2009 12:00:00 AM</td><td>X</td><td>3</td><td>A</td><td>10</td><td>[]</td></tr><tr><td><i><div class=\"dni-plaintext\"><pre>7</pre></div></i></td><td>2/16/2009 12:00:00 AM</td><td>X</td><td>1</td><td>C</td><td>20</td><td>[New]</td></tr><tr><td><i><div class=\"dni-plaintext\"><pre>8</pre></div></i></td><td>4/18/2009 12:00:00 AM</td><td>Z</td><td>2</td><td>B</td><td>15</td><td>[Discount, BestSeller]</td></tr><tr><td><i><div class=\"dni-plaintext\"><pre>9</pre></div></i></td><td>4/18/2007 12:00:00 AM</td><td>X</td><td>3</td><td>C</td><td>22</td><td>[Discount, Retail, New, Season]</td></tr><tr><td><i><div class=\"dni-plaintext\"><pre>10</pre></div></i></td><td>9/7/2009 12:00:00 AM</td><td>Y</td><td>3</td><td>D</td><td>30</td><td>[Retail, New, Season, BestSeller]</td></tr><tr><td><i><div class=\"dni-plaintext\"><pre>11</pre></div></i></td><td>9/7/2009 12:00:00 AM</td><td><div class=\"dni-plaintext\"><pre>&lt;null&gt;</pre></div></td><td>3</td><td>D</td><td>30</td><td>[Discount, New, BestSeller]</td></tr></tbody></table><style>\r\n",
       ".dni-code-hint {\r\n",
       "    font-style: italic;\r\n",
       "    overflow: hidden;\r\n",
       "    white-space: nowrap;\r\n",
       "}\r\n",
       ".dni-treeview {\r\n",
       "    white-space: nowrap;\r\n",
       "}\r\n",
       ".dni-treeview td {\r\n",
       "    vertical-align: top;\r\n",
       "    text-align: start;\r\n",
       "}\r\n",
       "details.dni-treeview {\r\n",
       "    padding-left: 1em;\r\n",
       "}\r\n",
       "table td {\r\n",
       "    text-align: start;\r\n",
       "}\r\n",
       "table tr { \r\n",
       "    vertical-align: top; \r\n",
       "    margin: 0em 0px;\r\n",
       "}\r\n",
       "table tr td pre \r\n",
       "{ \r\n",
       "    vertical-align: top !important; \r\n",
       "    margin: 0em 0px !important;\r\n",
       "} \r\n",
       "table th {\r\n",
       "    text-align: start;\r\n",
       "}\r\n",
       "</style>"
      ]
     },
     "metadata": {},
     "output_type": "display_data"
    }
   ],
   "source": [
    "var orders = new [] {\n",
    "    new { OrderDate = new DateTime(2007, 08, 02), Product = \"X\", EmployeeId = 3, CustomerId = \"A\", Quantity = 10m, Tags = new [] { \"Discount\", \"Retail\" } },\n",
    "    new { OrderDate = new DateTime(2007, 12, 24), Product = \"X\", EmployeeId = 3, CustomerId = \"A\", Quantity = 12m, Tags = new [] { \"Retail\", \"BestSeller\" } },\n",
    "    new { OrderDate = new DateTime(2007, 12, 24), Product = \"Y\", EmployeeId = 1, CustomerId = \"B\", Quantity = 20m, Tags = new [] { \"Discount\", \"Retail\", \"New\", \"Season\", \"BestSeller\" } },\n",
    "    new { OrderDate = new DateTime(2008, 01, 09), Product = \"Z\", EmployeeId = 2, CustomerId = \"A\", Quantity = 40m, Tags = new [] { \"BestSeller\" } },\n",
    "    new { OrderDate = new DateTime(2008, 01, 18), Product = \"Z\", EmployeeId = 1, CustomerId = \"C\", Quantity = 14m, Tags = new [] { \"Discount\", \"New\", \"BestSeller\" } },\n",
    "    new { OrderDate = new DateTime(2008, 02, 12), Product = \"Z\", EmployeeId = 2, CustomerId = \"B\", Quantity = 12m, Tags = new [] { \"Retail\" } },\n",
    "    new { OrderDate = new DateTime(2009, 02, 12), Product = \"X\", EmployeeId = 3, CustomerId = \"A\", Quantity = 10m, Tags = new string[] {} },\n",
    "    new { OrderDate = new DateTime(2009, 02, 16), Product = \"X\", EmployeeId = 1, CustomerId = \"C\", Quantity = 20m, Tags = new [] { \"New\" } },\n",
    "    new { OrderDate = new DateTime(2009, 04, 18), Product = \"Z\", EmployeeId = 2, CustomerId = \"B\", Quantity = 15m, Tags = new [] { \"Discount\", \"BestSeller\" } },\n",
    "    new { OrderDate = new DateTime(2007, 04, 18), Product = \"X\", EmployeeId = 3, CustomerId = \"C\", Quantity = 22m, Tags = new [] { \"Discount\", \"Retail\", \"New\", \"Season\" } },\n",
    "    new { OrderDate = new DateTime(2009, 09, 07), Product = \"Y\", EmployeeId = 3, CustomerId = \"D\", Quantity = 30m, Tags = new [] { \"Retail\", \"New\", \"Season\", \"BestSeller\" } },\n",
    "    new { OrderDate = new DateTime(2009, 09, 07), Product = (string)null, EmployeeId = 3, CustomerId = \"D\", Quantity = 30m, Tags = new [] { \"Discount\", \"New\", \"BestSeller\" } },\n",
    "};\n",
    "\n",
    "orders\n",
    "    .Select(order => order.ObjectToDictionary())\n",
    "    .DisplayAsTable();"
   ]
  },
  {
   "cell_type": "markdown",
   "id": "c895250d",
   "metadata": {},
   "source": [
    "## <a id='toc1_3_'></a>[One-dimensional report (total quantity per customer)](#toc0_)"
   ]
  },
  {
   "cell_type": "code",
   "execution_count": 28,
   "id": "4009f1cd",
   "metadata": {},
   "outputs": [
    {
     "data": {
      "text/html": [
       "<details open=\"open\" class=\"dni-treeview\"><summary><span class=\"dni-code-hint\"><code>{ A = 72, B = 47, C = 56, D = 60 }</code></span></summary><div><table><thead><tr></tr></thead><tbody><tr><td>A</td><td><div class=\"dni-plaintext\"><pre>72</pre></div></td></tr><tr><td>B</td><td><div class=\"dni-plaintext\"><pre>47</pre></div></td></tr><tr><td>C</td><td><div class=\"dni-plaintext\"><pre>56</pre></div></td></tr><tr><td>D</td><td><div class=\"dni-plaintext\"><pre>60</pre></div></td></tr></tbody></table></div></details><style>\r\n",
       ".dni-code-hint {\r\n",
       "    font-style: italic;\r\n",
       "    overflow: hidden;\r\n",
       "    white-space: nowrap;\r\n",
       "}\r\n",
       ".dni-treeview {\r\n",
       "    white-space: nowrap;\r\n",
       "}\r\n",
       ".dni-treeview td {\r\n",
       "    vertical-align: top;\r\n",
       "    text-align: start;\r\n",
       "}\r\n",
       "details.dni-treeview {\r\n",
       "    padding-left: 1em;\r\n",
       "}\r\n",
       "table td {\r\n",
       "    text-align: start;\r\n",
       "}\r\n",
       "table tr { \r\n",
       "    vertical-align: top; \r\n",
       "    margin: 0em 0px;\r\n",
       "}\r\n",
       "table tr td pre \r\n",
       "{ \r\n",
       "    vertical-align: top !important; \r\n",
       "    margin: 0em 0px !important;\r\n",
       "} \r\n",
       "table th {\r\n",
       "    text-align: start;\r\n",
       "}\r\n",
       "</style>"
      ]
     },
     "metadata": {},
     "output_type": "display_data"
    }
   ],
   "source": [
    "var cube1d = orders.BuildCube(\n",
    "    AggregationDefinition.CreateForCollection(\n",
    "        orders,\n",
    "        o => o.Quantity,\n",
    "        (a,b) => a + b,\n",
    "        0m),\n",
    "    DimensionDefinition.CreateForCollection(\n",
    "        orders,\n",
    "        o => o.CustomerId,\n",
    "        title: null,\n",
    "        IndexDefinition.Create(\"A\"),\n",
    "        IndexDefinition.Create(\"B\"),\n",
    "        IndexDefinition.Create(\"C\"),\n",
    "        IndexDefinition.Create(\"D\")));\n",
    "\n",
    "new {\n",
    "    A = cube1d.GetValue(\"A\"),\n",
    "    B = cube1d.GetValue(\"B\"),\n",
    "    C = cube1d.GetValue(\"C\"),\n",
    "    D = cube1d.GetValue(\"D\"),\n",
    "}.Display();"
   ]
  },
  {
   "cell_type": "markdown",
   "id": "186872cd",
   "metadata": {},
   "source": [
    "## <a id='toc1_4_'></a>[Two-dimensional report (quantity per year per customer)](#toc0_)"
   ]
  },
  {
   "cell_type": "code",
   "execution_count": 29,
   "id": "30562e66",
   "metadata": {},
   "outputs": [
    {
     "data": {
      "text/html": [
       "<table id=\"table_638927719495941498\"><thead><tr><th><i>index</i></th><th>Customer</th><th>Y2007</th><th>Y2008</th><th>Y2009</th><th>Total</th></tr></thead><tbody><tr><td><i><div class=\"dni-plaintext\"><pre>0</pre></div></i></td><td>A</td><td>22</td><td>40</td><td>10</td><td>72</td></tr><tr><td><i><div class=\"dni-plaintext\"><pre>1</pre></div></i></td><td>B</td><td>20</td><td>12</td><td>15</td><td>47</td></tr><tr><td><i><div class=\"dni-plaintext\"><pre>2</pre></div></i></td><td>C</td><td>22</td><td>14</td><td>20</td><td>56</td></tr><tr><td><i><div class=\"dni-plaintext\"><pre>3</pre></div></i></td><td>D</td><td>0</td><td>0</td><td>60</td><td>60</td></tr><tr><td><i><div class=\"dni-plaintext\"><pre>4</pre></div></i></td><td>Total</td><td>64</td><td>66</td><td>105</td><td>235</td></tr></tbody></table><style>\r\n",
       ".dni-code-hint {\r\n",
       "    font-style: italic;\r\n",
       "    overflow: hidden;\r\n",
       "    white-space: nowrap;\r\n",
       "}\r\n",
       ".dni-treeview {\r\n",
       "    white-space: nowrap;\r\n",
       "}\r\n",
       ".dni-treeview td {\r\n",
       "    vertical-align: top;\r\n",
       "    text-align: start;\r\n",
       "}\r\n",
       "details.dni-treeview {\r\n",
       "    padding-left: 1em;\r\n",
       "}\r\n",
       "table td {\r\n",
       "    text-align: start;\r\n",
       "}\r\n",
       "table tr { \r\n",
       "    vertical-align: top; \r\n",
       "    margin: 0em 0px;\r\n",
       "}\r\n",
       "table tr td pre \r\n",
       "{ \r\n",
       "    vertical-align: top !important; \r\n",
       "    margin: 0em 0px !important;\r\n",
       "} \r\n",
       "table th {\r\n",
       "    text-align: start;\r\n",
       "}\r\n",
       "</style>"
      ]
     },
     "metadata": {},
     "output_type": "display_data"
    }
   ],
   "source": [
    "var cube2d = orders.BuildCube(\n",
    "    AggregationDefinition.CreateForCollection(orders, o => o.Quantity, (a,b)=>a+b, 0m),\n",
    "    DimensionDefinition.CreateForCollection(orders, o => o.CustomerId, null,\n",
    "        IndexDefinition.Create(\"A\"), IndexDefinition.Create(\"B\"), IndexDefinition.Create(\"C\"), IndexDefinition.Create(\"D\"))\n",
    "            .WithTrailingDefaultIndex(\"Total\"),\n",
    "    DimensionDefinition.CreateForCollection(orders, o => o.OrderDate.Year.ToString(), null,\n",
    "        IndexDefinition.Create(\"2007\"), IndexDefinition.Create(\"2008\"), IndexDefinition.Create(\"2009\")));\n",
    "\n",
    "var tableCustomersYears = cube2d.BreakdownByDimensions(0)\n",
    "    .Select(row => new {\n",
    "        Customer = row.GetBoundIndexDefinition(0).Title ?? row.GetBoundIndexDefinition(0).Value,\n",
    "        Y2007 = row.GetValue(\"2007\"),\n",
    "        Y2008 = row.GetValue(\"2008\"),\n",
    "        Y2009 = row.GetValue(\"2009\"),\n",
    "        Total = row.GetValue((string)default!),\n",
    "    })\n",
    "    .Select(order => order.ObjectToDictionary())\n",
    "    .ToList();\n",
    "\n",
    "tableCustomersYears.DisplayAsTable();"
   ]
  },
  {
   "cell_type": "markdown",
   "id": "7466b03c",
   "metadata": {},
   "source": [
    "## <a id='toc1_5_'></a>[Two-dimensional report (quantity per tag per year; multi-selection dimension)](#toc0_)"
   ]
  },
  {
   "cell_type": "code",
   "execution_count": 30,
   "metadata": {
    "polyglot_notebook": {
     "kernelName": "csharp"
    }
   },
   "outputs": [
    {
     "data": {
      "text/html": [
       "<table id=\"table_638927719496795142\"><thead><tr><th><i>index</i></th><th>Year</th><th>Discount</th><th>Retail</th><th>New</th><th>Season</th><th>BestSeller</th></tr></thead><tbody><tr><td><i><div class=\"dni-plaintext\"><pre>0</pre></div></i></td><td>2007</td><td>52</td><td>64</td><td>42</td><td>42</td><td>32</td></tr><tr><td><i><div class=\"dni-plaintext\"><pre>1</pre></div></i></td><td>2008</td><td>14</td><td>12</td><td>14</td><td>0</td><td>54</td></tr><tr><td><i><div class=\"dni-plaintext\"><pre>2</pre></div></i></td><td>2009</td><td>45</td><td>30</td><td>80</td><td>30</td><td>75</td></tr><tr><td><i><div class=\"dni-plaintext\"><pre>3</pre></div></i></td><td>Total</td><td>111</td><td>106</td><td>136</td><td>72</td><td>161</td></tr></tbody></table><style>\r\n",
       ".dni-code-hint {\r\n",
       "    font-style: italic;\r\n",
       "    overflow: hidden;\r\n",
       "    white-space: nowrap;\r\n",
       "}\r\n",
       ".dni-treeview {\r\n",
       "    white-space: nowrap;\r\n",
       "}\r\n",
       ".dni-treeview td {\r\n",
       "    vertical-align: top;\r\n",
       "    text-align: start;\r\n",
       "}\r\n",
       "details.dni-treeview {\r\n",
       "    padding-left: 1em;\r\n",
       "}\r\n",
       "table td {\r\n",
       "    text-align: start;\r\n",
       "}\r\n",
       "table tr { \r\n",
       "    vertical-align: top; \r\n",
       "    margin: 0em 0px;\r\n",
       "}\r\n",
       "table tr td pre \r\n",
       "{ \r\n",
       "    vertical-align: top !important; \r\n",
       "    margin: 0em 0px !important;\r\n",
       "} \r\n",
       "table th {\r\n",
       "    text-align: start;\r\n",
       "}\r\n",
       "</style>"
      ]
     },
     "metadata": {},
     "output_type": "display_data"
    }
   ],
   "source": [
    "var cubeTagYear = orders.BuildCube(\n",
    "    AggregationDefinition.CreateForCollection(orders, o => o.Quantity, (a,b)=>a+b, 0m),\n",
    "    DimensionDefinition.CreateForCollection(orders, o => o.OrderDate.Year.ToString(), \"Year\",\n",
    "        IndexDefinition.Create(\"2007\"), IndexDefinition.Create(\"2008\"), IndexDefinition.Create(\"2009\"))\n",
    "        .WithTrailingDefaultIndex(\"Total\"),\n",
    "    DimensionDefinition.CreateForCollectionWithMultiSelector(orders, o => o.Tags, null,\n",
    "        IndexDefinition.Create(\"Discount\"), IndexDefinition.Create(\"Retail\"), IndexDefinition.Create(\"New\"), IndexDefinition.Create(\"Season\"), IndexDefinition.Create(\"BestSeller\")));\n",
    "\n",
    "var tagYear = cubeTagYear.BreakdownByDimensions(0)\n",
    "    .Select(row => new {\n",
    "        Year = row.GetBoundIndexDefinition(0).Title ?? row.GetBoundIndexDefinition(0).Value,\n",
    "        Discount = row.GetValue(\"Discount\"),\n",
    "        Retail = row.GetValue(\"Retail\"),\n",
    "        New = row.GetValue(\"New\"),\n",
    "        Season = row.GetValue(\"Season\"),\n",
    "        BestSeller = row.GetValue(\"BestSeller\")\n",
    "    })\n",
    "    .Select(order => order.ObjectToDictionary())\n",
    "    .ToList();\n",
    "\n",
    "tagYear.DisplayAsTable();"
   ]
  },
  {
   "cell_type": "code",
   "execution_count": null,
   "id": "371e3b82",
   "metadata": {},
   "outputs": [],
   "source": []
  },
  {
   "cell_type": "markdown",
   "id": "823a5a7c",
   "metadata": {},
   "source": [
    "## <a id='toc1_6_'></a>[Three-dimensional report (EmployeeId x CustomerId x Year)](#toc0_)"
   ]
  },
  {
   "cell_type": "code",
   "execution_count": 32,
   "id": "23313972",
   "metadata": {},
   "outputs": [
    {
     "data": {
      "text/csv": [
       "EmployeeId,CustomerId,2007,2008,2009,Total\r\n",
       "1,A,0,0,0,0\r\n",
       "1,B,20,0,0,20\r\n",
       "1,C,0,14,20,34\r\n",
       "1,D,0,0,0,0\r\n",
       "1,Total,20,14,20,54\r\n",
       "2,A,0,40,0,40\r\n",
       "2,B,0,12,15,27\r\n",
       "2,C,0,0,0,0\r\n",
       "2,D,0,0,0,0\r\n",
       "2,Total,0,52,15,67\r\n",
       "3,A,22,0,10,32\r\n",
       "3,B,0,0,0,0\r\n",
       "3,C,22,0,0,22\r\n",
       "3,D,0,0,60,60\r\n",
       "3,Total,44,0,70,114\r\n",
       "Total,A,22,40,10,72\r\n",
       "Total,B,20,12,15,47\r\n",
       "Total,C,22,14,20,56\r\n",
       "Total,D,0,0,60,60\r\n",
       "Total,Total,64,66,105,235\r\n"
      ],
      "text/html": [
       "<table><thead><tr><td><span>EmployeeId</span></td><td><span>CustomerId</span></td><td><span>2007</span></td><td><span>2008</span></td><td><span>2009</span></td><td><span>Total</span></td></tr></thead><tbody><tr><td>1</td><td>A</td><td><div class=\"dni-plaintext\"><pre>0</pre></div></td><td><div class=\"dni-plaintext\"><pre>0</pre></div></td><td><div class=\"dni-plaintext\"><pre>0</pre></div></td><td><div class=\"dni-plaintext\"><pre>0</pre></div></td></tr><tr><td>1</td><td>B</td><td><div class=\"dni-plaintext\"><pre>20</pre></div></td><td><div class=\"dni-plaintext\"><pre>0</pre></div></td><td><div class=\"dni-plaintext\"><pre>0</pre></div></td><td><div class=\"dni-plaintext\"><pre>20</pre></div></td></tr><tr><td>1</td><td>C</td><td><div class=\"dni-plaintext\"><pre>0</pre></div></td><td><div class=\"dni-plaintext\"><pre>14</pre></div></td><td><div class=\"dni-plaintext\"><pre>20</pre></div></td><td><div class=\"dni-plaintext\"><pre>34</pre></div></td></tr><tr><td>1</td><td>D</td><td><div class=\"dni-plaintext\"><pre>0</pre></div></td><td><div class=\"dni-plaintext\"><pre>0</pre></div></td><td><div class=\"dni-plaintext\"><pre>0</pre></div></td><td><div class=\"dni-plaintext\"><pre>0</pre></div></td></tr><tr><td>1</td><td>Total</td><td><div class=\"dni-plaintext\"><pre>20</pre></div></td><td><div class=\"dni-plaintext\"><pre>14</pre></div></td><td><div class=\"dni-plaintext\"><pre>20</pre></div></td><td><div class=\"dni-plaintext\"><pre>54</pre></div></td></tr><tr><td>2</td><td>A</td><td><div class=\"dni-plaintext\"><pre>0</pre></div></td><td><div class=\"dni-plaintext\"><pre>40</pre></div></td><td><div class=\"dni-plaintext\"><pre>0</pre></div></td><td><div class=\"dni-plaintext\"><pre>40</pre></div></td></tr><tr><td>2</td><td>B</td><td><div class=\"dni-plaintext\"><pre>0</pre></div></td><td><div class=\"dni-plaintext\"><pre>12</pre></div></td><td><div class=\"dni-plaintext\"><pre>15</pre></div></td><td><div class=\"dni-plaintext\"><pre>27</pre></div></td></tr><tr><td>2</td><td>C</td><td><div class=\"dni-plaintext\"><pre>0</pre></div></td><td><div class=\"dni-plaintext\"><pre>0</pre></div></td><td><div class=\"dni-plaintext\"><pre>0</pre></div></td><td><div class=\"dni-plaintext\"><pre>0</pre></div></td></tr><tr><td>2</td><td>D</td><td><div class=\"dni-plaintext\"><pre>0</pre></div></td><td><div class=\"dni-plaintext\"><pre>0</pre></div></td><td><div class=\"dni-plaintext\"><pre>0</pre></div></td><td><div class=\"dni-plaintext\"><pre>0</pre></div></td></tr><tr><td>2</td><td>Total</td><td><div class=\"dni-plaintext\"><pre>0</pre></div></td><td><div class=\"dni-plaintext\"><pre>52</pre></div></td><td><div class=\"dni-plaintext\"><pre>15</pre></div></td><td><div class=\"dni-plaintext\"><pre>67</pre></div></td></tr><tr><td>3</td><td>A</td><td><div class=\"dni-plaintext\"><pre>22</pre></div></td><td><div class=\"dni-plaintext\"><pre>0</pre></div></td><td><div class=\"dni-plaintext\"><pre>10</pre></div></td><td><div class=\"dni-plaintext\"><pre>32</pre></div></td></tr><tr><td>3</td><td>B</td><td><div class=\"dni-plaintext\"><pre>0</pre></div></td><td><div class=\"dni-plaintext\"><pre>0</pre></div></td><td><div class=\"dni-plaintext\"><pre>0</pre></div></td><td><div class=\"dni-plaintext\"><pre>0</pre></div></td></tr><tr><td>3</td><td>C</td><td><div class=\"dni-plaintext\"><pre>22</pre></div></td><td><div class=\"dni-plaintext\"><pre>0</pre></div></td><td><div class=\"dni-plaintext\"><pre>0</pre></div></td><td><div class=\"dni-plaintext\"><pre>22</pre></div></td></tr><tr><td>3</td><td>D</td><td><div class=\"dni-plaintext\"><pre>0</pre></div></td><td><div class=\"dni-plaintext\"><pre>0</pre></div></td><td><div class=\"dni-plaintext\"><pre>60</pre></div></td><td><div class=\"dni-plaintext\"><pre>60</pre></div></td></tr><tr><td>3</td><td>Total</td><td><div class=\"dni-plaintext\"><pre>44</pre></div></td><td><div class=\"dni-plaintext\"><pre>0</pre></div></td><td><div class=\"dni-plaintext\"><pre>70</pre></div></td><td><div class=\"dni-plaintext\"><pre>114</pre></div></td></tr><tr><td>Total</td><td>A</td><td><div class=\"dni-plaintext\"><pre>22</pre></div></td><td><div class=\"dni-plaintext\"><pre>40</pre></div></td><td><div class=\"dni-plaintext\"><pre>10</pre></div></td><td><div class=\"dni-plaintext\"><pre>72</pre></div></td></tr><tr><td>Total</td><td>B</td><td><div class=\"dni-plaintext\"><pre>20</pre></div></td><td><div class=\"dni-plaintext\"><pre>12</pre></div></td><td><div class=\"dni-plaintext\"><pre>15</pre></div></td><td><div class=\"dni-plaintext\"><pre>47</pre></div></td></tr><tr><td>Total</td><td>C</td><td><div class=\"dni-plaintext\"><pre>22</pre></div></td><td><div class=\"dni-plaintext\"><pre>14</pre></div></td><td><div class=\"dni-plaintext\"><pre>20</pre></div></td><td><div class=\"dni-plaintext\"><pre>56</pre></div></td></tr><tr><td>Total</td><td>D</td><td><div class=\"dni-plaintext\"><pre>0</pre></div></td><td><div class=\"dni-plaintext\"><pre>0</pre></div></td><td><div class=\"dni-plaintext\"><pre>60</pre></div></td><td><div class=\"dni-plaintext\"><pre>60</pre></div></td></tr><tr><td>Total</td><td>Total</td><td><div class=\"dni-plaintext\"><pre>64</pre></div></td><td><div class=\"dni-plaintext\"><pre>66</pre></div></td><td><div class=\"dni-plaintext\"><pre>105</pre></div></td><td><div class=\"dni-plaintext\"><pre>235</pre></div></td></tr></tbody></table><style>\r\n",
       ".dni-code-hint {\r\n",
       "    font-style: italic;\r\n",
       "    overflow: hidden;\r\n",
       "    white-space: nowrap;\r\n",
       "}\r\n",
       ".dni-treeview {\r\n",
       "    white-space: nowrap;\r\n",
       "}\r\n",
       ".dni-treeview td {\r\n",
       "    vertical-align: top;\r\n",
       "    text-align: start;\r\n",
       "}\r\n",
       "details.dni-treeview {\r\n",
       "    padding-left: 1em;\r\n",
       "}\r\n",
       "table td {\r\n",
       "    text-align: start;\r\n",
       "}\r\n",
       "table tr { \r\n",
       "    vertical-align: top; \r\n",
       "    margin: 0em 0px;\r\n",
       "}\r\n",
       "table tr td pre \r\n",
       "{ \r\n",
       "    vertical-align: top !important; \r\n",
       "    margin: 0em 0px !important;\r\n",
       "} \r\n",
       "table th {\r\n",
       "    text-align: start;\r\n",
       "}\r\n",
       "</style>"
      ]
     },
     "metadata": {},
     "output_type": "display_data"
    }
   ],
   "source": [
    "var cube3d = orders.BuildCube(\n",
    "    AggregationDefinition.CreateForCollection(orders, o => o.Quantity, (a,b)=>a+b, 0m),\n",
    "    DimensionDefinition.CreateForCollection(\n",
    "        orders,\n",
    "        o => o.EmployeeId.ToString(),\n",
    "        \"EmployeeId\",\n",
    "        IndexDefinition.Create(\"1\"),\n",
    "        IndexDefinition.Create(\"2\"),\n",
    "        IndexDefinition.Create(\"3\"))\n",
    "        .WithTrailingDefaultIndex(\"Total\"),\n",
    "    DimensionDefinition.CreateForCollection(\n",
    "        orders,\n",
    "        o => o.CustomerId,\n",
    "        \"CustomerId\",\n",
    "        IndexDefinition.Create(\"A\"),\n",
    "        IndexDefinition.Create(\"B\"),\n",
    "        IndexDefinition.Create(\"C\"),\n",
    "        IndexDefinition.Create(\"D\"))\n",
    "        .WithTrailingDefaultIndex(\"Total\"),\n",
    "    DimensionDefinition.CreateForCollection(\n",
    "        orders,\n",
    "        o => o.OrderDate.Year.ToString(),\n",
    "        \"Year\",\n",
    "        IndexDefinition.Create(\"2007\"),\n",
    "        IndexDefinition.Create(\"2008\"),\n",
    "        IndexDefinition.Create(\"2009\"))\n",
    "        .WithTrailingDefaultIndex(\"Total\"));\n",
    "\n",
    "var table3d = cube3d.ToTable([0, 1], [2]);\n",
    "\n",
    "table3d.DisplayTable();"
   ]
  },
  {
   "cell_type": "markdown",
   "id": "c1b3456b",
   "metadata": {},
   "source": [
    "## <a id='toc1_7_'></a>[Zero / simple aggregation examples](#toc0_)"
   ]
  },
  {
   "cell_type": "code",
   "execution_count": null,
   "id": "8b59a460",
   "metadata": {},
   "outputs": [
    {
     "data": {
      "text/plain": [
       "Hello world"
      ]
     },
     "metadata": {},
     "output_type": "display_data"
    },
    {
     "data": {
      "text/html": [
       "<div class=\"dni-plaintext\"><pre>55</pre></div><style>\r\n",
       ".dni-code-hint {\r\n",
       "    font-style: italic;\r\n",
       "    overflow: hidden;\r\n",
       "    white-space: nowrap;\r\n",
       "}\r\n",
       ".dni-treeview {\r\n",
       "    white-space: nowrap;\r\n",
       "}\r\n",
       ".dni-treeview td {\r\n",
       "    vertical-align: top;\r\n",
       "    text-align: start;\r\n",
       "}\r\n",
       "details.dni-treeview {\r\n",
       "    padding-left: 1em;\r\n",
       "}\r\n",
       "table td {\r\n",
       "    text-align: start;\r\n",
       "}\r\n",
       "table tr { \r\n",
       "    vertical-align: top; \r\n",
       "    margin: 0em 0px;\r\n",
       "}\r\n",
       "table tr td pre \r\n",
       "{ \r\n",
       "    vertical-align: top !important; \r\n",
       "    margin: 0em 0px !important;\r\n",
       "} \r\n",
       "table th {\r\n",
       "    text-align: start;\r\n",
       "}\r\n",
       "</style>"
      ]
     },
     "metadata": {},
     "output_type": "display_data"
    },
    {
     "data": {
      "text/html": [
       "<div class=\"dni-plaintext\"><pre>[ 0, 1, 2, 3, 4, 5, 6, 7, 8, 9 ]</pre></div><style>\r\n",
       ".dni-code-hint {\r\n",
       "    font-style: italic;\r\n",
       "    overflow: hidden;\r\n",
       "    white-space: nowrap;\r\n",
       "}\r\n",
       ".dni-treeview {\r\n",
       "    white-space: nowrap;\r\n",
       "}\r\n",
       ".dni-treeview td {\r\n",
       "    vertical-align: top;\r\n",
       "    text-align: start;\r\n",
       "}\r\n",
       "details.dni-treeview {\r\n",
       "    padding-left: 1em;\r\n",
       "}\r\n",
       "table td {\r\n",
       "    text-align: start;\r\n",
       "}\r\n",
       "table tr { \r\n",
       "    vertical-align: top; \r\n",
       "    margin: 0em 0px;\r\n",
       "}\r\n",
       "table tr td pre \r\n",
       "{ \r\n",
       "    vertical-align: top !important; \r\n",
       "    margin: 0em 0px !important;\r\n",
       "} \r\n",
       "table th {\r\n",
       "    text-align: start;\r\n",
       "}\r\n",
       "</style>"
      ]
     },
     "metadata": {},
     "output_type": "display_data"
    }
   ],
   "source": [
    "Array.Empty<string>()\n",
    "    .BuildCube<string, string, string>(\n",
    "        AggregationDefinition.Create((string x) => x, (a, b) => default!, \"Hello world\"))\n",
    "    .GetValue()\n",
    "    .Display();\n",
    "\n",
    "Enumerable.Range(1,10)\n",
    "    .BuildCube<int, int, int>(AggregationDefinition.Create((int i) => i, (a, b) => a + b, 0))\n",
    "    .GetValue()\n",
    "    .Display();\n",
    "\n",
    "Enumerable.Range(0,10)\n",
    "    .BuildCube<int, int, int[]>(\n",
    "        AggregationDefinition.Create((int i) => new[] { i }, (a,b)=> a.Concat(b).ToArray(), []))\n",
    "    .GetValue()\n",
    "    .Display();"
   ]
  },
  {
   "cell_type": "markdown",
   "id": "fa0b6a85",
   "metadata": {},
   "source": [
    "## <a id='toc1_8_'></a>[Modulus dimension examples](#toc0_)"
   ]
  },
  {
   "cell_type": "code",
   "execution_count": 34,
   "metadata": {
    "polyglot_notebook": {
     "kernelName": "csharp"
    }
   },
   "outputs": [
    {
     "data": {
      "text/html": [
       "<div class=\"dni-plaintext\"><pre>[ 0, 1, 2, 3, 4, 5, 6, 7, 8, 9 ]</pre></div><style>\r\n",
       ".dni-code-hint {\r\n",
       "    font-style: italic;\r\n",
       "    overflow: hidden;\r\n",
       "    white-space: nowrap;\r\n",
       "}\r\n",
       ".dni-treeview {\r\n",
       "    white-space: nowrap;\r\n",
       "}\r\n",
       ".dni-treeview td {\r\n",
       "    vertical-align: top;\r\n",
       "    text-align: start;\r\n",
       "}\r\n",
       "details.dni-treeview {\r\n",
       "    padding-left: 1em;\r\n",
       "}\r\n",
       "table td {\r\n",
       "    text-align: start;\r\n",
       "}\r\n",
       "table tr { \r\n",
       "    vertical-align: top; \r\n",
       "    margin: 0em 0px;\r\n",
       "}\r\n",
       "table tr td pre \r\n",
       "{ \r\n",
       "    vertical-align: top !important; \r\n",
       "    margin: 0em 0px !important;\r\n",
       "} \r\n",
       "table th {\r\n",
       "    text-align: start;\r\n",
       "}\r\n",
       "</style>"
      ]
     },
     "metadata": {},
     "output_type": "display_data"
    },
    {
     "data": {
      "text/html": [
       "<div class=\"dni-plaintext\"><pre>[ 0, 3, 6, 9 ]</pre></div><style>\r\n",
       ".dni-code-hint {\r\n",
       "    font-style: italic;\r\n",
       "    overflow: hidden;\r\n",
       "    white-space: nowrap;\r\n",
       "}\r\n",
       ".dni-treeview {\r\n",
       "    white-space: nowrap;\r\n",
       "}\r\n",
       ".dni-treeview td {\r\n",
       "    vertical-align: top;\r\n",
       "    text-align: start;\r\n",
       "}\r\n",
       "details.dni-treeview {\r\n",
       "    padding-left: 1em;\r\n",
       "}\r\n",
       "table td {\r\n",
       "    text-align: start;\r\n",
       "}\r\n",
       "table tr { \r\n",
       "    vertical-align: top; \r\n",
       "    margin: 0em 0px;\r\n",
       "}\r\n",
       "table tr td pre \r\n",
       "{ \r\n",
       "    vertical-align: top !important; \r\n",
       "    margin: 0em 0px !important;\r\n",
       "} \r\n",
       "table th {\r\n",
       "    text-align: start;\r\n",
       "}\r\n",
       "</style>"
      ]
     },
     "metadata": {},
     "output_type": "display_data"
    },
    {
     "data": {
      "text/html": [
       "<div class=\"dni-plaintext\"><pre>[ 1, 4, 7 ]</pre></div><style>\r\n",
       ".dni-code-hint {\r\n",
       "    font-style: italic;\r\n",
       "    overflow: hidden;\r\n",
       "    white-space: nowrap;\r\n",
       "}\r\n",
       ".dni-treeview {\r\n",
       "    white-space: nowrap;\r\n",
       "}\r\n",
       ".dni-treeview td {\r\n",
       "    vertical-align: top;\r\n",
       "    text-align: start;\r\n",
       "}\r\n",
       "details.dni-treeview {\r\n",
       "    padding-left: 1em;\r\n",
       "}\r\n",
       "table td {\r\n",
       "    text-align: start;\r\n",
       "}\r\n",
       "table tr { \r\n",
       "    vertical-align: top; \r\n",
       "    margin: 0em 0px;\r\n",
       "}\r\n",
       "table tr td pre \r\n",
       "{ \r\n",
       "    vertical-align: top !important; \r\n",
       "    margin: 0em 0px !important;\r\n",
       "} \r\n",
       "table th {\r\n",
       "    text-align: start;\r\n",
       "}\r\n",
       "</style>"
      ]
     },
     "metadata": {},
     "output_type": "display_data"
    },
    {
     "data": {
      "text/html": [
       "<div class=\"dni-plaintext\"><pre>[ 2, 5, 8 ]</pre></div><style>\r\n",
       ".dni-code-hint {\r\n",
       "    font-style: italic;\r\n",
       "    overflow: hidden;\r\n",
       "    white-space: nowrap;\r\n",
       "}\r\n",
       ".dni-treeview {\r\n",
       "    white-space: nowrap;\r\n",
       "}\r\n",
       ".dni-treeview td {\r\n",
       "    vertical-align: top;\r\n",
       "    text-align: start;\r\n",
       "}\r\n",
       "details.dni-treeview {\r\n",
       "    padding-left: 1em;\r\n",
       "}\r\n",
       "table td {\r\n",
       "    text-align: start;\r\n",
       "}\r\n",
       "table tr { \r\n",
       "    vertical-align: top; \r\n",
       "    margin: 0em 0px;\r\n",
       "}\r\n",
       "table tr td pre \r\n",
       "{ \r\n",
       "    vertical-align: top !important; \r\n",
       "    margin: 0em 0px !important;\r\n",
       "} \r\n",
       "table th {\r\n",
       "    text-align: start;\r\n",
       "}\r\n",
       "</style>"
      ]
     },
     "metadata": {},
     "output_type": "display_data"
    }
   ],
   "source": [
    "var mod3Cube = Enumerable.Range(0,10).BuildCube(\n",
    "    AggregationDefinition.Create(\n",
    "        (int i) => new[] { i }, (a, b) => a.Concat(b).ToArray(), Array.Empty<int>()),\n",
    "    DimensionDefinition.Create(\n",
    "        (int i) => (int?)(i % 3),\n",
    "        \"Mod 3\",\n",
    "        Enumerable.Range(0, 3).Select(i => IndexDefinition.Create((int?)i)).ToArray()));\n",
    "\n",
    "mod3Cube.GetValue().Display();\n",
    "mod3Cube.GetValue(0).Display();\n",
    "mod3Cube.GetValue(1).Display();\n",
    "mod3Cube.GetValue(2).Display();\n"
   ]
  },
  {
   "cell_type": "code",
   "execution_count": 35,
   "metadata": {
    "language_info": {
     "name": "polyglot-notebook"
    },
    "polyglot_notebook": {
     "kernelName": "csharp"
    }
   },
   "outputs": [
    {
     "data": {
      "text/html": [
       "<div class=\"dni-plaintext\"><pre>[ 0, 3, 6, 9, 12, 15, 18 ]</pre></div><style>\r\n",
       ".dni-code-hint {\r\n",
       "    font-style: italic;\r\n",
       "    overflow: hidden;\r\n",
       "    white-space: nowrap;\r\n",
       "}\r\n",
       ".dni-treeview {\r\n",
       "    white-space: nowrap;\r\n",
       "}\r\n",
       ".dni-treeview td {\r\n",
       "    vertical-align: top;\r\n",
       "    text-align: start;\r\n",
       "}\r\n",
       "details.dni-treeview {\r\n",
       "    padding-left: 1em;\r\n",
       "}\r\n",
       "table td {\r\n",
       "    text-align: start;\r\n",
       "}\r\n",
       "table tr { \r\n",
       "    vertical-align: top; \r\n",
       "    margin: 0em 0px;\r\n",
       "}\r\n",
       "table tr td pre \r\n",
       "{ \r\n",
       "    vertical-align: top !important; \r\n",
       "    margin: 0em 0px !important;\r\n",
       "} \r\n",
       "table th {\r\n",
       "    text-align: start;\r\n",
       "}\r\n",
       "</style>"
      ]
     },
     "metadata": {},
     "output_type": "display_data"
    },
    {
     "data": {
      "text/html": [
       "<div class=\"dni-plaintext\"><pre>[ 0, 5, 10, 15 ]</pre></div><style>\r\n",
       ".dni-code-hint {\r\n",
       "    font-style: italic;\r\n",
       "    overflow: hidden;\r\n",
       "    white-space: nowrap;\r\n",
       "}\r\n",
       ".dni-treeview {\r\n",
       "    white-space: nowrap;\r\n",
       "}\r\n",
       ".dni-treeview td {\r\n",
       "    vertical-align: top;\r\n",
       "    text-align: start;\r\n",
       "}\r\n",
       "details.dni-treeview {\r\n",
       "    padding-left: 1em;\r\n",
       "}\r\n",
       "table td {\r\n",
       "    text-align: start;\r\n",
       "}\r\n",
       "table tr { \r\n",
       "    vertical-align: top; \r\n",
       "    margin: 0em 0px;\r\n",
       "}\r\n",
       "table tr td pre \r\n",
       "{ \r\n",
       "    vertical-align: top !important; \r\n",
       "    margin: 0em 0px !important;\r\n",
       "} \r\n",
       "table th {\r\n",
       "    text-align: start;\r\n",
       "}\r\n",
       "</style>"
      ]
     },
     "metadata": {},
     "output_type": "display_data"
    },
    {
     "data": {
      "text/html": [
       "<div class=\"dni-plaintext\"><pre>[ 0, 15 ]</pre></div><style>\r\n",
       ".dni-code-hint {\r\n",
       "    font-style: italic;\r\n",
       "    overflow: hidden;\r\n",
       "    white-space: nowrap;\r\n",
       "}\r\n",
       ".dni-treeview {\r\n",
       "    white-space: nowrap;\r\n",
       "}\r\n",
       ".dni-treeview td {\r\n",
       "    vertical-align: top;\r\n",
       "    text-align: start;\r\n",
       "}\r\n",
       "details.dni-treeview {\r\n",
       "    padding-left: 1em;\r\n",
       "}\r\n",
       "table td {\r\n",
       "    text-align: start;\r\n",
       "}\r\n",
       "table tr { \r\n",
       "    vertical-align: top; \r\n",
       "    margin: 0em 0px;\r\n",
       "}\r\n",
       "table tr td pre \r\n",
       "{ \r\n",
       "    vertical-align: top !important; \r\n",
       "    margin: 0em 0px !important;\r\n",
       "} \r\n",
       "table th {\r\n",
       "    text-align: start;\r\n",
       "}\r\n",
       "</style>"
      ]
     },
     "metadata": {},
     "output_type": "display_data"
    },
    {
     "data": {
      "text/csv": [
       "Mod 3,Mod 5,value\r\n",
       "0,0,System.Int32[]\r\n",
       "0,1,System.Int32[]\r\n",
       "0,2,System.Int32[]\r\n",
       "0,3,System.Int32[]\r\n",
       "0,4,System.Int32[]\r\n",
       "1,0,System.Int32[]\r\n",
       "1,1,System.Int32[]\r\n",
       "1,2,System.Int32[]\r\n",
       "1,3,System.Int32[]\r\n",
       "1,4,System.Int32[]\r\n",
       "2,0,System.Int32[]\r\n",
       "2,1,System.Int32[]\r\n",
       "2,2,System.Int32[]\r\n",
       "2,3,System.Int32[]\r\n",
       "2,4,System.Int32[]\r\n"
      ],
      "text/html": [
       "<table><thead><tr><td><span>Mod 3</span></td><td><span>Mod 5</span></td><td><span>value</span></td></tr></thead><tbody><tr><td><div class=\"dni-plaintext\"><pre>0</pre></div></td><td><div class=\"dni-plaintext\"><pre>0</pre></div></td><td><div class=\"dni-plaintext\"><pre>[ 0, 15 ]</pre></div></td></tr><tr><td><div class=\"dni-plaintext\"><pre>0</pre></div></td><td><div class=\"dni-plaintext\"><pre>1</pre></div></td><td><div class=\"dni-plaintext\"><pre>[ 6 ]</pre></div></td></tr><tr><td><div class=\"dni-plaintext\"><pre>0</pre></div></td><td><div class=\"dni-plaintext\"><pre>2</pre></div></td><td><div class=\"dni-plaintext\"><pre>[ 12 ]</pre></div></td></tr><tr><td><div class=\"dni-plaintext\"><pre>0</pre></div></td><td><div class=\"dni-plaintext\"><pre>3</pre></div></td><td><div class=\"dni-plaintext\"><pre>[ 3, 18 ]</pre></div></td></tr><tr><td><div class=\"dni-plaintext\"><pre>0</pre></div></td><td><div class=\"dni-plaintext\"><pre>4</pre></div></td><td><div class=\"dni-plaintext\"><pre>[ 9 ]</pre></div></td></tr><tr><td><div class=\"dni-plaintext\"><pre>1</pre></div></td><td><div class=\"dni-plaintext\"><pre>0</pre></div></td><td><div class=\"dni-plaintext\"><pre>[ 10 ]</pre></div></td></tr><tr><td><div class=\"dni-plaintext\"><pre>1</pre></div></td><td><div class=\"dni-plaintext\"><pre>1</pre></div></td><td><div class=\"dni-plaintext\"><pre>[ 1, 16 ]</pre></div></td></tr><tr><td><div class=\"dni-plaintext\"><pre>1</pre></div></td><td><div class=\"dni-plaintext\"><pre>2</pre></div></td><td><div class=\"dni-plaintext\"><pre>[ 7 ]</pre></div></td></tr><tr><td><div class=\"dni-plaintext\"><pre>1</pre></div></td><td><div class=\"dni-plaintext\"><pre>3</pre></div></td><td><div class=\"dni-plaintext\"><pre>[ 13 ]</pre></div></td></tr><tr><td><div class=\"dni-plaintext\"><pre>1</pre></div></td><td><div class=\"dni-plaintext\"><pre>4</pre></div></td><td><div class=\"dni-plaintext\"><pre>[ 4, 19 ]</pre></div></td></tr><tr><td><div class=\"dni-plaintext\"><pre>2</pre></div></td><td><div class=\"dni-plaintext\"><pre>0</pre></div></td><td><div class=\"dni-plaintext\"><pre>[ 5 ]</pre></div></td></tr><tr><td><div class=\"dni-plaintext\"><pre>2</pre></div></td><td><div class=\"dni-plaintext\"><pre>1</pre></div></td><td><div class=\"dni-plaintext\"><pre>[ 11 ]</pre></div></td></tr><tr><td><div class=\"dni-plaintext\"><pre>2</pre></div></td><td><div class=\"dni-plaintext\"><pre>2</pre></div></td><td><div class=\"dni-plaintext\"><pre>[ 2, 17 ]</pre></div></td></tr><tr><td><div class=\"dni-plaintext\"><pre>2</pre></div></td><td><div class=\"dni-plaintext\"><pre>3</pre></div></td><td><div class=\"dni-plaintext\"><pre>[ 8 ]</pre></div></td></tr><tr><td><div class=\"dni-plaintext\"><pre>2</pre></div></td><td><div class=\"dni-plaintext\"><pre>4</pre></div></td><td><div class=\"dni-plaintext\"><pre>[ 14 ]</pre></div></td></tr></tbody></table><style>\r\n",
       ".dni-code-hint {\r\n",
       "    font-style: italic;\r\n",
       "    overflow: hidden;\r\n",
       "    white-space: nowrap;\r\n",
       "}\r\n",
       ".dni-treeview {\r\n",
       "    white-space: nowrap;\r\n",
       "}\r\n",
       ".dni-treeview td {\r\n",
       "    vertical-align: top;\r\n",
       "    text-align: start;\r\n",
       "}\r\n",
       "details.dni-treeview {\r\n",
       "    padding-left: 1em;\r\n",
       "}\r\n",
       "table td {\r\n",
       "    text-align: start;\r\n",
       "}\r\n",
       "table tr { \r\n",
       "    vertical-align: top; \r\n",
       "    margin: 0em 0px;\r\n",
       "}\r\n",
       "table tr td pre \r\n",
       "{ \r\n",
       "    vertical-align: top !important; \r\n",
       "    margin: 0em 0px !important;\r\n",
       "} \r\n",
       "table th {\r\n",
       "    text-align: start;\r\n",
       "}\r\n",
       "</style>"
      ]
     },
     "metadata": {},
     "output_type": "display_data"
    }
   ],
   "source": [
    "\n",
    "DimensionDefinition<int, int?> CreateModulusDimension(int m) =>\n",
    "    DimensionDefinition.Create(\n",
    "        (int i)=> (int?)(i % m),\n",
    "        $\"Mod {m}\",\n",
    "        Enumerable.Range(0,m).Select(i => IndexDefinition.Create((int?)i)).ToArray());\n",
    "\n",
    "var mod3and5Cube = Enumerable.Range(0,20).BuildCube(\n",
    "    AggregationDefinition.Create(\n",
    "        (int i)=> new[] { i }, (a, b) => a.Concat(b).ToArray(), Array.Empty<int>()),\n",
    "    CreateModulusDimension(3),\n",
    "    CreateModulusDimension(5));\n",
    "\n",
    "mod3and5Cube.GetValue(0).Display();\n",
    "mod3and5Cube.GetValue(null, 0).Display();\n",
    "mod3and5Cube.GetValue(0, 0).Display();\n",
    "mod3and5Cube.ToTable([0, 1], []).DisplayTable();"
   ]
  }
 ],
 "metadata": {
  "kernelspec": {
   "display_name": ".NET (C#)",
   "language": "C#",
   "name": ".net-csharp"
  },
  "language_info": {
   "name": "polyglot-notebook"
  },
  "polyglot_notebook": {
   "kernelInfo": {
    "defaultKernelName": "csharp",
    "items": [
     {
      "aliases": [],
      "name": "csharp"
     }
    ]
   }
  }
 },
 "nbformat": 4,
 "nbformat_minor": 5
}
